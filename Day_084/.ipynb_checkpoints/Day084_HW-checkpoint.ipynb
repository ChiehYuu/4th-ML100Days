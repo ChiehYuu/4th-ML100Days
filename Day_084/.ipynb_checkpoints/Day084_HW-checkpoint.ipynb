{
 "cells": [
  {
   "cell_type": "markdown",
   "metadata": {},
   "source": [
    "## Work\n",
    "### 請結合前面的知識與程式碼，比較不同的 regularization 的組合對訓練的結果與影響：如 dropout, regularizers, batch-normalization 等"
   ]
  },
  {
   "cell_type": "code",
   "execution_count": 1,
   "metadata": {},
   "outputs": [
    {
     "name": "stderr",
     "output_type": "stream",
     "text": [
      "Using TensorFlow backend.\n"
     ]
    }
   ],
   "source": [
    "import os\n",
    "import keras\n",
    "import itertools\n",
    "# Disable GPU\n",
    "os.environ[\"CUDA_VISIBLE_DEVICES\"] = \"\""
   ]
  },
  {
   "cell_type": "code",
   "execution_count": 2,
   "metadata": {},
   "outputs": [],
   "source": [
    "train, test = keras.datasets.cifar10.load_data()"
   ]
  },
  {
   "cell_type": "code",
   "execution_count": 3,
   "metadata": {},
   "outputs": [],
   "source": [
    "## 資料前處理\n",
    "def preproc_x(x, flatten=True):\n",
    "    x = x / 255.\n",
    "    if flatten:\n",
    "        x = x.reshape((len(x), -1))\n",
    "    return x\n",
    "\n",
    "def preproc_y(y, num_classes=10):\n",
    "    if y.shape[-1] == 1:\n",
    "        y = keras.utils.to_categorical(y, num_classes)\n",
    "    return y    "
   ]
  },
  {
   "cell_type": "code",
   "execution_count": 4,
   "metadata": {},
   "outputs": [],
   "source": [
    "x_train, y_train = train\n",
    "x_test, y_test = test\n",
    "\n",
    "# Preproc the inputs\n",
    "x_train = preproc_x(x_train)\n",
    "x_test = preproc_x(x_test)\n",
    "\n",
    "# Preprc the outputs\n",
    "y_train = preproc_y(y_train)\n",
    "y_test = preproc_y(y_test)"
   ]
  },
  {
   "cell_type": "code",
   "execution_count": 5,
   "metadata": {},
   "outputs": [],
   "source": [
    "from keras.layers import Dropout, BatchNormalization\n",
    "from keras.regularizers import l2\n",
    "\n",
    "def build_mlp(input_shape, output_units= 10, num_neurons=[512,128,32], dropout_rate= 0.2, l2_ratio= 1e-4):\n",
    "    \n",
    "    #輸入層\n",
    "    input_layer= keras.layers.Input(input_shape)\n",
    "    \n",
    "    #隱藏層\n",
    "    for i, n_units in enumerate(num_neurons):\n",
    "        if i == 0:\n",
    "            x= keras.layers.Dense(units=n_units,\n",
    "                                  activation='relu',\n",
    "                                  name='hidden_layer'+str(i+1),\n",
    "                                  kernel_regularizer=l2(l2_ratio))(input_layer)\n",
    "            x= Dropout(dropout_rate)(x)\n",
    "            x= BatchNormalization()(x)\n",
    "        else:\n",
    "            x= keras.layers.Dense(units=n_units,\n",
    "                                  activation='relu',\n",
    "                                  name='hidden_layer'+str(i+1),\n",
    "                                  kernel_regularizer=l2(l2_ratio))(x)\n",
    "            x= Dropout(dropout_rate)(x)\n",
    "            x= BatchNormalization()(x)\n",
    "    \n",
    "    #輸出層\n",
    "    output_layer= keras.layers.Dense(units= output_units,\n",
    "                                     activation= 'softmax',\n",
    "                                     name= 'output_layer')(x)\n",
    "    \n",
    "    #建模\n",
    "    model= keras.models.Model(inputs=[input_layer], outputs=[output_layer])\n",
    "    \n",
    "    return model"
   ]
  },
  {
   "cell_type": "code",
   "execution_count": 6,
   "metadata": {},
   "outputs": [],
   "source": [
    "Learning_Rate= 1e-3\n",
    "Epochs= 5\n",
    "Batch_size= 500\n"
   ]
  },
  {
   "cell_type": "code",
   "execution_count": 9,
   "metadata": {
    "scrolled": true
   },
   "outputs": [
    {
     "name": "stdout",
     "output_type": "stream",
     "text": [
      "WARNING:tensorflow:From C:\\ProgramData\\Anaconda3\\lib\\site-packages\\tensorflow_core\\python\\ops\\resource_variable_ops.py:1630: calling BaseResourceVariable.__init__ (from tensorflow.python.ops.resource_variable_ops) with constraint is deprecated and will be removed in a future version.\n",
      "Instructions for updating:\n",
      "If using Keras pass *_constraint arguments to layers.\n",
      "Model: \"model_1\"\n",
      "_________________________________________________________________\n",
      "Layer (type)                 Output Shape              Param #   \n",
      "=================================================================\n",
      "input_1 (InputLayer)         (None, 3072)              0         \n",
      "_________________________________________________________________\n",
      "hidden_layer1 (Dense)        (None, 512)               1573376   \n",
      "_________________________________________________________________\n",
      "dropout_1 (Dropout)          (None, 512)               0         \n",
      "_________________________________________________________________\n",
      "batch_normalization_1 (Batch (None, 512)               2048      \n",
      "_________________________________________________________________\n",
      "hidden_layer2 (Dense)        (None, 128)               65664     \n",
      "_________________________________________________________________\n",
      "dropout_2 (Dropout)          (None, 128)               0         \n",
      "_________________________________________________________________\n",
      "batch_normalization_2 (Batch (None, 128)               512       \n",
      "_________________________________________________________________\n",
      "hidden_layer3 (Dense)        (None, 32)                4128      \n",
      "_________________________________________________________________\n",
      "dropout_3 (Dropout)          (None, 32)                0         \n",
      "_________________________________________________________________\n",
      "batch_normalization_3 (Batch (None, 32)                128       \n",
      "_________________________________________________________________\n",
      "output_layer (Dense)         (None, 10)                330       \n",
      "=================================================================\n",
      "Total params: 1,646,186\n",
      "Trainable params: 1,644,842\n",
      "Non-trainable params: 1,344\n",
      "_________________________________________________________________\n",
      "WARNING:tensorflow:From C:\\ProgramData\\Anaconda3\\lib\\site-packages\\keras\\backend\\tensorflow_backend.py:422: The name tf.global_variables is deprecated. Please use tf.compat.v1.global_variables instead.\n",
      "\n",
      "Train on 50000 samples, validate on 10000 samples\n",
      "Epoch 1/5\n",
      "50000/50000 [==============================] - 2s 49us/step - loss: 2.2081 - accuracy: 0.2707 - val_loss: 1.9706 - val_accuracy: 0.3381\n",
      "Epoch 2/5\n",
      "50000/50000 [==============================] - 2s 36us/step - loss: 1.9440 - accuracy: 0.3405 - val_loss: 1.9343 - val_accuracy: 0.3178\n",
      "Epoch 3/5\n",
      "50000/50000 [==============================] - 2s 35us/step - loss: 1.8593 - accuracy: 0.3732 - val_loss: 1.9085 - val_accuracy: 0.3423\n",
      "Epoch 4/5\n",
      "50000/50000 [==============================] - 2s 35us/step - loss: 1.8058 - accuracy: 0.3945 - val_loss: 1.9810 - val_accuracy: 0.3215\n",
      "Epoch 5/5\n",
      "50000/50000 [==============================] - 2s 35us/step - loss: 1.7773 - accuracy: 0.4008 - val_loss: 2.0495 - val_accuracy: 0.2821\n"
     ]
    }
   ],
   "source": [
    "results = {}\n",
    "i=1\n",
    "keras.backend.clear_session()\n",
    "model = build_mlp(input_shape=x_train.shape[1:])\n",
    "model.summary()\n",
    "optimizer = keras.optimizers.Adam(lr=Learning_Rate)\n",
    "model.compile(loss=\"categorical_crossentropy\", metrics=[\"accuracy\"], optimizer=optimizer)\n",
    "model.fit(x_train, y_train, \n",
    "          epochs=Epochs, \n",
    "          batch_size=Batch_size, \n",
    "          validation_data=(x_test, y_test), \n",
    "          verbose=1,\n",
    "          shuffle=True)\n",
    "    \n",
    "# Collect results\n",
    "exp_name_tag = (\"exp-%s\" % (i))\n",
    "results[exp_name_tag] = {'train-loss': model.history.history[\"loss\"],\n",
    "                         'valid-loss': model.history.history[\"val_loss\"],\n",
    "                         'train-acc': model.history.history[\"accuracy\"],\n",
    "                         'valid-acc': model.history.history[\"val_accuracy\"]}"
   ]
  },
  {
   "cell_type": "code",
   "execution_count": 10,
   "metadata": {},
   "outputs": [
    {
     "data": {
      "image/png": "[encoded data removed]",
      "text/plain": [
       "<Figure size 576x432 with 1 Axes>"
      ]
     },
     "metadata": {
      "needs_background": "light"
     },
     "output_type": "display_data"
    },
    {
     "data": {
      "image/png": "[encoded data removed]",
      "text/plain": [
       "<Figure size 576x432 with 1 Axes>"
      ]
     },
     "metadata": {
      "needs_background": "light"
     },
     "output_type": "display_data"
    }
   ],
   "source": [
    "import matplotlib.pyplot as plt\n",
    "import matplotlib.cm as mplcm\n",
    "import matplotlib.colors as colors\n",
    "%matplotlib inline\n",
    "NUM_COLORS = 20\n",
    "\n",
    "cm = plt.get_cmap('gist_rainbow')\n",
    "cNorm  = colors.Normalize(vmin=0, vmax=NUM_COLORS-1)\n",
    "scalarMap = mplcm.ScalarMappable(norm=cNorm, cmap=cm)\n",
    "color_bar = [scalarMap.to_rgba(i) for i in range(NUM_COLORS)]\n",
    "\n",
    "plt.figure(figsize=(8,6))\n",
    "for i, cond in enumerate(results.keys()):\n",
    "    plt.plot(range(len(results[cond]['train-loss'])),results[cond]['train-loss'], '-', label=cond, color=color_bar[i])\n",
    "    plt.plot(range(len(results[cond]['valid-loss'])),results[cond]['valid-loss'], '--', label=cond, color=color_bar[i])\n",
    "plt.title(\"Loss\")\n",
    "plt.legend(loc='center left', bbox_to_anchor=(1, 0.5))\n",
    "plt.show()\n",
    "\n",
    "plt.figure(figsize=(8,6))\n",
    "for i, cond in enumerate(results.keys()):\n",
    "    plt.plot(range(len(results[cond]['train-acc'])),results[cond]['train-acc'], '-', label=cond, color=color_bar[i])\n",
    "    plt.plot(range(len(results[cond]['valid-acc'])),results[cond]['valid-acc'], '--', label=cond, color=color_bar[i])\n",
    "plt.title(\"Accuracy\")\n",
    "plt.legend(loc='center left', bbox_to_anchor=(1, 0.5))\n",
    "plt.show()"
   ]
  },
  {
   "cell_type": "code",
   "execution_count": null,
   "metadata": {},
   "outputs": [],
   "source": []
  }
 ],
 "metadata": {
  "kernelspec": {
   "display_name": "Python 3",
   "language": "python",
   "name": "python3"
  },
  "language_info": {
   "codemirror_mode": {
    "name": "ipython",
    "version": 3
   },
   "file_extension": ".py",
   "mimetype": "text/x-python",
   "name": "python",
   "nbconvert_exporter": "python",
   "pygments_lexer": "ipython3",
   "version": "3.7.7"
  }
 },
 "nbformat": 4,
 "nbformat_minor": 2
}
