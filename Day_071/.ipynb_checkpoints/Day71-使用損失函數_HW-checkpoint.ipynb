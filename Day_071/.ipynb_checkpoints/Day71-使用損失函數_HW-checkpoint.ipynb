{
 "cells": [
  {
   "cell_type": "markdown",
   "metadata": {
    "colab_type": "text",
    "id": "cj4tE8e8iUtO"
   },
   "source": [
    "#   \n",
    "\n",
    "# 作業目標:\n",
    "\n",
    "    1. 藉由固定的 dataset, 來驗證不同loss function\n",
    "    2. Dataset 的特性跟我們選用的loss function 對accrancy 的影響\n",
    "    \n",
    "    \n",
    "# 作業重點: \n",
    "    請分別選用 \"MSE\", \"binary _crossentropy\"\n",
    "    查看Train/test accurancy and loss rate\n",
    "    "
   ]
  },
  {
   "cell_type": "markdown",
   "metadata": {
    "colab_type": "text",
    "id": "R51J4KyyiUsL"
   },
   "source": [
    "# 導入必要的函數"
   ]
  },
  {
   "cell_type": "code",
   "execution_count": 1,
   "metadata": {
    "colab": {},
    "colab_type": "code",
    "id": "Qd68OQjciUsM"
   },
   "outputs": [
    {
     "name": "stderr",
     "output_type": "stream",
     "text": [
      "Using TensorFlow backend.\n"
     ]
    }
   ],
   "source": [
    "from keras.datasets import cifar10\n",
    "import numpy as np\n",
    "np.random.seed(10)"
   ]
  },
  {
   "cell_type": "markdown",
   "metadata": {
    "colab_type": "text",
    "id": "GxKuzQLQiUsP"
   },
   "source": [
    "# 資料準備"
   ]
  },
  {
   "cell_type": "code",
   "execution_count": 2,
   "metadata": {
    "colab": {},
    "colab_type": "code",
    "id": "MIbFZdTCiUsQ"
   },
   "outputs": [],
   "source": [
    "#取得Keras Dataset\n",
    "(x_img_train,y_label_train),(x_img_test,y_label_test)=cifar10.load_data()"
   ]
  },
  {
   "cell_type": "code",
   "execution_count": 3,
   "metadata": {
    "colab": {},
    "colab_type": "code",
    "id": "J8CJVjNOiUsS"
   },
   "outputs": [
    {
     "name": "stdout",
     "output_type": "stream",
     "text": [
      "train data: images: (50000, 32, 32, 3)  labels: (50000, 1)\n",
      "test  data: images: (10000, 32, 32, 3)  labels: (10000, 1)\n"
     ]
    }
   ],
   "source": [
    "#確認 CIFAR10 Dataset 資料維度\n",
    "print(\"train data:\",'images:',x_img_train.shape,\n",
    "      \" labels:\",y_label_train.shape) \n",
    "print(\"test  data:\",'images:',x_img_test.shape ,\n",
    "      \" labels:\",y_label_test.shape) "
   ]
  },
  {
   "cell_type": "code",
   "execution_count": 4,
   "metadata": {
    "colab": {},
    "colab_type": "code",
    "id": "V3P6P4DXiUsV"
   },
   "outputs": [],
   "source": [
    "#資料正規化\n",
    "x_img_train_normalize = x_img_train.astype('float32') / 255.0\n",
    "x_img_test_normalize = x_img_test.astype('float32') / 255.0"
   ]
  },
  {
   "cell_type": "code",
   "execution_count": 5,
   "metadata": {
    "colab": {},
    "colab_type": "code",
    "id": "vsDyjKYliUsX"
   },
   "outputs": [
    {
     "data": {
      "text/plain": [
       "(10000, 10)"
      ]
     },
     "execution_count": 5,
     "metadata": {},
     "output_type": "execute_result"
    }
   ],
   "source": [
    "#針對Label 做 ONE HOT ENCODE\n",
    "from keras.utils import np_utils\n",
    "y_label_train_OneHot = np_utils.to_categorical(y_label_train)\n",
    "y_label_test_OneHot = np_utils.to_categorical(y_label_test)\n",
    "y_label_test_OneHot.shape"
   ]
  },
  {
   "cell_type": "markdown",
   "metadata": {
    "colab_type": "text",
    "id": "RutW2OtgiUsZ"
   },
   "source": [
    "# 建立模型"
   ]
  },
  {
   "cell_type": "code",
   "execution_count": 6,
   "metadata": {
    "colab": {},
    "colab_type": "code",
    "id": "aHz592aXiUsa"
   },
   "outputs": [],
   "source": [
    "from keras.models import Sequential\n",
    "from keras.layers import Dense, Dropout, Activation, Flatten\n",
    "from keras.layers import Conv2D, MaxPooling2D, ZeroPadding2D"
   ]
  },
  {
   "cell_type": "code",
   "execution_count": 7,
   "metadata": {
    "colab": {},
    "colab_type": "code",
    "id": "hslqrIp0iUse"
   },
   "outputs": [],
   "source": [
    "model = Sequential()"
   ]
  },
  {
   "cell_type": "code",
   "execution_count": 8,
   "metadata": {
    "colab": {},
    "colab_type": "code",
    "id": "Hqe35hs2iUsi"
   },
   "outputs": [],
   "source": [
    "#卷積層1"
   ]
  },
  {
   "cell_type": "code",
   "execution_count": 9,
   "metadata": {
    "colab": {},
    "colab_type": "code",
    "id": "ED7dqe1YiUsm"
   },
   "outputs": [
    {
     "name": "stdout",
     "output_type": "stream",
     "text": [
      "WARNING:tensorflow:From C:\\ProgramData\\Anaconda3\\lib\\site-packages\\tensorflow_core\\python\\ops\\resource_variable_ops.py:1630: calling BaseResourceVariable.__init__ (from tensorflow.python.ops.resource_variable_ops) with constraint is deprecated and will be removed in a future version.\n",
      "Instructions for updating:\n",
      "If using Keras pass *_constraint arguments to layers.\n"
     ]
    }
   ],
   "source": [
    "model.add(Conv2D(filters=32,kernel_size=(3,3),\n",
    "                 input_shape=(32, 32,3), \n",
    "                 activation='relu', \n",
    "                 padding='same'))"
   ]
  },
  {
   "cell_type": "code",
   "execution_count": 10,
   "metadata": {
    "colab": {},
    "colab_type": "code",
    "id": "n-GRKmPViUso"
   },
   "outputs": [],
   "source": [
    "model.add(Dropout(rate=0.25))"
   ]
  },
  {
   "cell_type": "code",
   "execution_count": 11,
   "metadata": {
    "colab": {},
    "colab_type": "code",
    "id": "GlWnnD1uiUsw"
   },
   "outputs": [
    {
     "name": "stdout",
     "output_type": "stream",
     "text": [
      "WARNING:tensorflow:From C:\\ProgramData\\Anaconda3\\lib\\site-packages\\keras\\backend\\tensorflow_backend.py:4070: The name tf.nn.max_pool is deprecated. Please use tf.nn.max_pool2d instead.\n",
      "\n"
     ]
    }
   ],
   "source": [
    "model.add(MaxPooling2D(pool_size=(2, 2)))"
   ]
  },
  {
   "cell_type": "code",
   "execution_count": 12,
   "metadata": {
    "colab": {},
    "colab_type": "code",
    "id": "nawlkt55iUsy"
   },
   "outputs": [],
   "source": [
    "#卷積層2與池化層2"
   ]
  },
  {
   "cell_type": "code",
   "execution_count": 13,
   "metadata": {
    "colab": {},
    "colab_type": "code",
    "id": "xxyETiKNiUs1"
   },
   "outputs": [],
   "source": [
    "model.add(Conv2D(filters=64, kernel_size=(3, 3), \n",
    "                 activation='relu', padding='same'))"
   ]
  },
  {
   "cell_type": "code",
   "execution_count": 14,
   "metadata": {
    "colab": {},
    "colab_type": "code",
    "id": "RqcKWtqGiUs2"
   },
   "outputs": [],
   "source": [
    "model.add(Dropout(0.25))"
   ]
  },
  {
   "cell_type": "code",
   "execution_count": 15,
   "metadata": {
    "colab": {},
    "colab_type": "code",
    "id": "BUOOzlqfiUs4"
   },
   "outputs": [],
   "source": [
    "model.add(MaxPooling2D(pool_size=(2, 2)))"
   ]
  },
  {
   "cell_type": "code",
   "execution_count": 16,
   "metadata": {
    "colab": {},
    "colab_type": "code",
    "id": "LpkppB2siUs7"
   },
   "outputs": [],
   "source": [
    "#建立神經網路(平坦層、隱藏層、輸出層)"
   ]
  },
  {
   "cell_type": "code",
   "execution_count": 17,
   "metadata": {
    "colab": {},
    "colab_type": "code",
    "id": "UQOfU54_iUs_"
   },
   "outputs": [],
   "source": [
    "model.add(Flatten())\n",
    "model.add(Dropout(rate=0.25))"
   ]
  },
  {
   "cell_type": "code",
   "execution_count": 18,
   "metadata": {
    "colab": {},
    "colab_type": "code",
    "id": "_NV-8sq4iUtD"
   },
   "outputs": [],
   "source": [
    "model.add(Dense(1024, activation='relu'))\n",
    "model.add(Dropout(rate=0.25))"
   ]
  },
  {
   "cell_type": "code",
   "execution_count": 19,
   "metadata": {
    "colab": {},
    "colab_type": "code",
    "id": "qVK77krOiUtF"
   },
   "outputs": [],
   "source": [
    "model.add(Dense(10, activation='softmax'))"
   ]
  },
  {
   "cell_type": "code",
   "execution_count": 20,
   "metadata": {
    "colab": {},
    "colab_type": "code",
    "id": "ZxzRIjR0iUtH"
   },
   "outputs": [
    {
     "name": "stdout",
     "output_type": "stream",
     "text": [
      "Model: \"sequential_1\"\n",
      "_________________________________________________________________\n",
      "Layer (type)                 Output Shape              Param #   \n",
      "=================================================================\n",
      "conv2d_1 (Conv2D)            (None, 32, 32, 32)        896       \n",
      "_________________________________________________________________\n",
      "dropout_1 (Dropout)          (None, 32, 32, 32)        0         \n",
      "_________________________________________________________________\n",
      "max_pooling2d_1 (MaxPooling2 (None, 16, 16, 32)        0         \n",
      "_________________________________________________________________\n",
      "conv2d_2 (Conv2D)            (None, 16, 16, 64)        18496     \n",
      "_________________________________________________________________\n",
      "dropout_2 (Dropout)          (None, 16, 16, 64)        0         \n",
      "_________________________________________________________________\n",
      "max_pooling2d_2 (MaxPooling2 (None, 8, 8, 64)          0         \n",
      "_________________________________________________________________\n",
      "flatten_1 (Flatten)          (None, 4096)              0         \n",
      "_________________________________________________________________\n",
      "dropout_3 (Dropout)          (None, 4096)              0         \n",
      "_________________________________________________________________\n",
      "dense_1 (Dense)              (None, 1024)              4195328   \n",
      "_________________________________________________________________\n",
      "dropout_4 (Dropout)          (None, 1024)              0         \n",
      "_________________________________________________________________\n",
      "dense_2 (Dense)              (None, 10)                10250     \n",
      "=================================================================\n",
      "Total params: 4,224,970\n",
      "Trainable params: 4,224,970\n",
      "Non-trainable params: 0\n",
      "_________________________________________________________________\n",
      "None\n"
     ]
    }
   ],
   "source": [
    "#檢查model 的STACK\n",
    "print(model.summary())"
   ]
  },
  {
   "cell_type": "code",
   "execution_count": 24,
   "metadata": {},
   "outputs": [
    {
     "data": {
      "image/png": "[encoded data removed]",
      "text/plain": [
       "<IPython.core.display.Image object>"
      ]
     },
     "execution_count": 24,
     "metadata": {},
     "output_type": "execute_result"
    }
   ],
   "source": [
    "from keras.utils import plot_model\n",
    "plot_model(model, to_file='Day71_modeling.png')"
   ]
  },
  {
   "cell_type": "markdown",
   "metadata": {
    "colab_type": "text",
    "id": "QJCtpJM0iUtJ"
   },
   "source": [
    "# 載入之前訓練的模型"
   ]
  },
  {
   "cell_type": "code",
   "execution_count": 25,
   "metadata": {
    "colab": {},
    "colab_type": "code",
    "id": "JU3A6NzQiUtK"
   },
   "outputs": [
    {
     "name": "stdout",
     "output_type": "stream",
     "text": [
      "載入模型失敗!開始訓練一個新模型\n"
     ]
    }
   ],
   "source": [
    "try:\n",
    "    model.load_weights(\"SaveModel/cifarCnnModel.h5\")\n",
    "    print(\"載入模型成功!繼續訓練模型\")\n",
    "except :    \n",
    "    print(\"載入模型失敗!開始訓練一個新模型\")"
   ]
  },
  {
   "cell_type": "markdown",
   "metadata": {
    "colab_type": "text",
    "id": "qBbCuziziUtM"
   },
   "source": [
    "# 訓練模型 - categorical_crossentropy"
   ]
  },
  {
   "cell_type": "code",
   "execution_count": 26,
   "metadata": {
    "colab": {},
    "colab_type": "code",
    "id": "Q6BiBcseiUtP"
   },
   "outputs": [
    {
     "data": {
      "text/plain": [
       "'\\n作業:\\n請分別選用 \"MSE\", \"binary _crossentropy\"\\n查看Train/test accurancy and loss rate\\n'"
      ]
     },
     "execution_count": 26,
     "metadata": {},
     "output_type": "execute_result"
    }
   ],
   "source": [
    "model.compile(loss='categorical_crossentropy', optimizer='sgd', metrics=['accuracy'])\n",
    "\n",
    "'''\n",
    "作業:\n",
    "請分別選用 \"MSE\", \"binary _crossentropy\"\n",
    "查看Train/test accurancy and loss rate\n",
    "'''"
   ]
  },
  {
   "cell_type": "code",
   "execution_count": 27,
   "metadata": {
    "colab": {},
    "colab_type": "code",
    "id": "4-GdDgmQiUtS"
   },
   "outputs": [
    {
     "name": "stdout",
     "output_type": "stream",
     "text": [
      "WARNING:tensorflow:From C:\\ProgramData\\Anaconda3\\lib\\site-packages\\keras\\backend\\tensorflow_backend.py:422: The name tf.global_variables is deprecated. Please use tf.compat.v1.global_variables instead.\n",
      "\n",
      "Train on 37500 samples, validate on 12500 samples\n",
      "Epoch 1/15\n",
      "37500/37500 [==============================] - 6s 153us/step - loss: 2.1653 - accuracy: 0.2016 - val_loss: 2.0546 - val_accuracy: 0.2966\n",
      "Epoch 2/15\n",
      "37500/37500 [==============================] - 4s 100us/step - loss: 1.9512 - accuracy: 0.2996 - val_loss: 1.9521 - val_accuracy: 0.3378\n",
      "Epoch 3/15\n",
      "37500/37500 [==============================] - 4s 99us/step - loss: 1.8247 - accuracy: 0.3505 - val_loss: 1.8229 - val_accuracy: 0.3952\n",
      "Epoch 4/15\n",
      "37500/37500 [==============================] - 4s 98us/step - loss: 1.7225 - accuracy: 0.3863 - val_loss: 1.7420 - val_accuracy: 0.4198\n",
      "Epoch 5/15\n",
      "37500/37500 [==============================] - 4s 98us/step - loss: 1.6388 - accuracy: 0.4167 - val_loss: 1.6555 - val_accuracy: 0.4543\n",
      "Epoch 6/15\n",
      "37500/37500 [==============================] - 4s 98us/step - loss: 1.5691 - accuracy: 0.4371 - val_loss: 1.6103 - val_accuracy: 0.4696\n",
      "Epoch 7/15\n",
      "37500/37500 [==============================] - 4s 98us/step - loss: 1.5151 - accuracy: 0.4601 - val_loss: 1.5693 - val_accuracy: 0.4691\n",
      "Epoch 8/15\n",
      "37500/37500 [==============================] - 4s 99us/step - loss: 1.4711 - accuracy: 0.4722 - val_loss: 1.4946 - val_accuracy: 0.5046\n",
      "Epoch 9/15\n",
      "37500/37500 [==============================] - 4s 99us/step - loss: 1.4337 - accuracy: 0.4851 - val_loss: 1.4795 - val_accuracy: 0.5103\n",
      "Epoch 10/15\n",
      "37500/37500 [==============================] - 4s 98us/step - loss: 1.4035 - accuracy: 0.4994 - val_loss: 1.4377 - val_accuracy: 0.5249\n",
      "Epoch 11/15\n",
      "37500/37500 [==============================] - 4s 99us/step - loss: 1.3750 - accuracy: 0.5089 - val_loss: 1.4066 - val_accuracy: 0.5363\n",
      "Epoch 12/15\n",
      "37500/37500 [==============================] - 4s 99us/step - loss: 1.3477 - accuracy: 0.5210 - val_loss: 1.3858 - val_accuracy: 0.5446\n",
      "Epoch 13/15\n",
      "37500/37500 [==============================] - 4s 99us/step - loss: 1.3243 - accuracy: 0.5262 - val_loss: 1.3887 - val_accuracy: 0.5398\n",
      "Epoch 14/15\n",
      "37500/37500 [==============================] - 4s 99us/step - loss: 1.3027 - accuracy: 0.5353 - val_loss: 1.3664 - val_accuracy: 0.5489\n",
      "Epoch 15/15\n",
      "37500/37500 [==============================] - 4s 99us/step - loss: 1.2808 - accuracy: 0.5429 - val_loss: 1.3327 - val_accuracy: 0.5518\n"
     ]
    }
   ],
   "source": [
    "train_history_cce= model.fit(x_img_train_normalize, y_label_train_OneHot,\n",
    "                            validation_split= 0.25,\n",
    "                            epochs= 15, batch_size= 128, verbose= 1)"
   ]
  },
  {
   "cell_type": "code",
   "execution_count": 28,
   "metadata": {},
   "outputs": [],
   "source": [
    "import matplotlib.pyplot as plt\n",
    "%matplotlib inline\n",
    "\n",
    "def show_train_history(train_history, train_acc, test_acc):\n",
    "    plt.plot(train_history.history[train_acc])\n",
    "    plt.plot(train_history.history[test_acc])\n",
    "    plt.title('Train History')\n",
    "    plt.ylabel('Accuracy')\n",
    "    plt.xlabel('Epoch')\n",
    "    plt.legend(['train_acc', 'val_acc'], loc= 'upper left')\n",
    "    plt.show"
   ]
  },
  {
   "cell_type": "code",
   "execution_count": 29,
   "metadata": {},
   "outputs": [
    {
     "data": {
      "image/png": "[encoded data removed]",
      "text/plain": [
       "<Figure size 432x288 with 1 Axes>"
      ]
     },
     "metadata": {
      "needs_background": "light"
     },
     "output_type": "display_data"
    }
   ],
   "source": [
    "show_train_history(train_history_cce, 'accuracy', 'val_accuracy')"
   ]
  },
  {
   "cell_type": "markdown",
   "metadata": {},
   "source": [
    "# 訓練模型 - MSE"
   ]
  },
  {
   "cell_type": "code",
   "execution_count": 30,
   "metadata": {},
   "outputs": [],
   "source": [
    "model.compile(loss='MSE', optimizer='sgd', metrics=['accuracy'])"
   ]
  },
  {
   "cell_type": "code",
   "execution_count": 31,
   "metadata": {},
   "outputs": [
    {
     "name": "stdout",
     "output_type": "stream",
     "text": [
      "Train on 37500 samples, validate on 12500 samples\n",
      "Epoch 1/15\n",
      "37500/37500 [==============================] - 4s 101us/step - loss: 0.0581 - accuracy: 0.5526 - val_loss: 0.0604 - val_accuracy: 0.5696\n",
      "Epoch 2/15\n",
      "37500/37500 [==============================] - 4s 95us/step - loss: 0.0578 - accuracy: 0.5567 - val_loss: 0.0604 - val_accuracy: 0.5678\n",
      "Epoch 3/15\n",
      "37500/37500 [==============================] - 4s 95us/step - loss: 0.0579 - accuracy: 0.5556 - val_loss: 0.0604 - val_accuracy: 0.5691\n",
      "Epoch 4/15\n",
      "37500/37500 [==============================] - 4s 95us/step - loss: 0.0576 - accuracy: 0.5572 - val_loss: 0.0603 - val_accuracy: 0.5683\n",
      "Epoch 5/15\n",
      "37500/37500 [==============================] - 4s 94us/step - loss: 0.0575 - accuracy: 0.5584 - val_loss: 0.0602 - val_accuracy: 0.5678\n",
      "Epoch 6/15\n",
      "37500/37500 [==============================] - 4s 94us/step - loss: 0.0576 - accuracy: 0.5573 - val_loss: 0.0601 - val_accuracy: 0.5694\n",
      "Epoch 7/15\n",
      "37500/37500 [==============================] - 4s 94us/step - loss: 0.0577 - accuracy: 0.5578 - val_loss: 0.0601 - val_accuracy: 0.5722\n",
      "Epoch 8/15\n",
      "37500/37500 [==============================] - 4s 94us/step - loss: 0.0574 - accuracy: 0.5596 - val_loss: 0.0600 - val_accuracy: 0.5685\n",
      "Epoch 9/15\n",
      "37500/37500 [==============================] - 4s 94us/step - loss: 0.0574 - accuracy: 0.5620 - val_loss: 0.0600 - val_accuracy: 0.5694\n",
      "Epoch 10/15\n",
      "37500/37500 [==============================] - 4s 95us/step - loss: 0.0575 - accuracy: 0.5578 - val_loss: 0.0599 - val_accuracy: 0.5726\n",
      "Epoch 11/15\n",
      "37500/37500 [==============================] - 4s 95us/step - loss: 0.0574 - accuracy: 0.5612 - val_loss: 0.0600 - val_accuracy: 0.5705\n",
      "Epoch 12/15\n",
      "37500/37500 [==============================] - 4s 94us/step - loss: 0.0573 - accuracy: 0.5633 - val_loss: 0.0599 - val_accuracy: 0.5710\n",
      "Epoch 13/15\n",
      "37500/37500 [==============================] - 4s 94us/step - loss: 0.0572 - accuracy: 0.5605 - val_loss: 0.0598 - val_accuracy: 0.5722\n",
      "Epoch 14/15\n",
      "37500/37500 [==============================] - 4s 95us/step - loss: 0.0573 - accuracy: 0.5588 - val_loss: 0.0597 - val_accuracy: 0.5719\n",
      "Epoch 15/15\n",
      "37500/37500 [==============================] - 4s 95us/step - loss: 0.0571 - accuracy: 0.5618 - val_loss: 0.0598 - val_accuracy: 0.5725\n"
     ]
    }
   ],
   "source": [
    "train_history_mse= model.fit(x_img_train_normalize, y_label_train_OneHot,\n",
    "                            validation_split=0.25,\n",
    "                            epochs=15, batch_size= 128, verbose= 1)"
   ]
  },
  {
   "cell_type": "code",
   "execution_count": 32,
   "metadata": {},
   "outputs": [
    {
     "data": {
      "image/png": "[encoded data removed]",
      "text/plain": [
       "<Figure size 432x288 with 1 Axes>"
      ]
     },
     "metadata": {
      "needs_background": "light"
     },
     "output_type": "display_data"
    }
   ],
   "source": [
    "show_train_history(train_history_mse, 'accuracy', 'val_accuracy')"
   ]
  },
  {
   "cell_type": "markdown",
   "metadata": {},
   "source": [
    "# 訓練模型 - binary_crossentropy"
   ]
  },
  {
   "cell_type": "code",
   "execution_count": 33,
   "metadata": {},
   "outputs": [],
   "source": [
    "model.compile(loss= 'binary_crossentropy', optimizer= 'sgd', metrics=['accuracy'])"
   ]
  },
  {
   "cell_type": "code",
   "execution_count": 34,
   "metadata": {},
   "outputs": [
    {
     "name": "stdout",
     "output_type": "stream",
     "text": [
      "WARNING:tensorflow:From C:\\ProgramData\\Anaconda3\\lib\\site-packages\\tensorflow_core\\python\\ops\\math_grad.py:1424: where (from tensorflow.python.ops.array_ops) is deprecated and will be removed in a future version.\n",
      "Instructions for updating:\n",
      "Use tf.where in 2.0, which has the same broadcast rule as np.where\n",
      "Train on 37500 samples, validate on 12500 samples\n",
      "Epoch 1/15\n",
      "37500/37500 [==============================] - 4s 102us/step - loss: 0.1936 - accuracy: 0.9240 - val_loss: 0.2039 - val_accuracy: 0.9193\n",
      "Epoch 2/15\n",
      "37500/37500 [==============================] - 4s 96us/step - loss: 0.1932 - accuracy: 0.9243 - val_loss: 0.2040 - val_accuracy: 0.9191\n",
      "Epoch 3/15\n",
      "37500/37500 [==============================] - 4s 96us/step - loss: 0.1932 - accuracy: 0.9239 - val_loss: 0.2034 - val_accuracy: 0.9194\n",
      "Epoch 4/15\n",
      "37500/37500 [==============================] - 4s 96us/step - loss: 0.1924 - accuracy: 0.9240 - val_loss: 0.2034 - val_accuracy: 0.9192\n",
      "Epoch 5/15\n",
      "37500/37500 [==============================] - 4s 96us/step - loss: 0.1926 - accuracy: 0.9242 - val_loss: 0.2026 - val_accuracy: 0.9194\n",
      "Epoch 6/15\n",
      "37500/37500 [==============================] - 4s 97us/step - loss: 0.1919 - accuracy: 0.9245 - val_loss: 0.2024 - val_accuracy: 0.9197\n",
      "Epoch 7/15\n",
      "37500/37500 [==============================] - 4s 95us/step - loss: 0.1921 - accuracy: 0.9247 - val_loss: 0.2027 - val_accuracy: 0.9194\n",
      "Epoch 8/15\n",
      "37500/37500 [==============================] - 4s 95us/step - loss: 0.1912 - accuracy: 0.9248 - val_loss: 0.2016 - val_accuracy: 0.9200\n",
      "Epoch 9/15\n",
      "37500/37500 [==============================] - 4s 94us/step - loss: 0.1907 - accuracy: 0.9250 - val_loss: 0.2015 - val_accuracy: 0.9202\n",
      "Epoch 10/15\n",
      "37500/37500 [==============================] - 4s 95us/step - loss: 0.1905 - accuracy: 0.9253 - val_loss: 0.2011 - val_accuracy: 0.9201\n",
      "Epoch 11/15\n",
      "37500/37500 [==============================] - 4s 94us/step - loss: 0.1898 - accuracy: 0.9254 - val_loss: 0.2004 - val_accuracy: 0.9209\n",
      "Epoch 12/15\n",
      "37500/37500 [==============================] - 4s 95us/step - loss: 0.1895 - accuracy: 0.9257 - val_loss: 0.2003 - val_accuracy: 0.9208\n",
      "Epoch 13/15\n",
      "37500/37500 [==============================] - 4s 95us/step - loss: 0.1895 - accuracy: 0.9257 - val_loss: 0.2002 - val_accuracy: 0.9209\n",
      "Epoch 14/15\n",
      "37500/37500 [==============================] - 4s 95us/step - loss: 0.1895 - accuracy: 0.9256 - val_loss: 0.2000 - val_accuracy: 0.9207\n",
      "Epoch 15/15\n",
      "37500/37500 [==============================] - 4s 95us/step - loss: 0.1890 - accuracy: 0.9256 - val_loss: 0.1995 - val_accuracy: 0.9214\n"
     ]
    }
   ],
   "source": [
    "train_history_BiCE= model.fit(x_img_train_normalize, y_label_train_OneHot,\n",
    "                             validation_split=0.25,\n",
    "                             epochs=15, batch_size= 128, verbose=1)"
   ]
  },
  {
   "cell_type": "code",
   "execution_count": 35,
   "metadata": {},
   "outputs": [
    {
     "data": {
      "image/png": "[encoded data removed]",
      "text/plain": [
       "<Figure size 432x288 with 1 Axes>"
      ]
     },
     "metadata": {
      "needs_background": "light"
     },
     "output_type": "display_data"
    }
   ],
   "source": [
    "show_train_history(train_history_BiCE, 'accuracy', 'val_accuracy')"
   ]
  },
  {
   "cell_type": "code",
   "execution_count": null,
   "metadata": {},
   "outputs": [],
   "source": []
  }
 ],
 "metadata": {
  "colab": {
   "name": "Day71-使用損失函數_HW.ipynb",
   "provenance": [],
   "version": "0.3.2"
  },
  "kernelspec": {
   "display_name": "Python 3",
   "language": "python",
   "name": "python3"
  },
  "language_info": {
   "codemirror_mode": {
    "name": "ipython",
    "version": 3
   },
   "file_extension": ".py",
   "mimetype": "text/x-python",
   "name": "python",
   "nbconvert_exporter": "python",
   "pygments_lexer": "ipython3",
   "version": "3.7.7"
  }
 },
 "nbformat": 4,
 "nbformat_minor": 1
}
