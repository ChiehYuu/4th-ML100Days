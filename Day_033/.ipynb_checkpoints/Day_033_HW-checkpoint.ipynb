{
 "cells": [
  {
   "cell_type": "markdown",
   "metadata": {},
   "source": [
    "## 練習時間"
   ]
  },
  {
   "cell_type": "markdown",
   "metadata": {},
   "source": [
    "請觀看李宏毅教授以神奇寶貝進化 CP 值預測的範例，解說何謂機器學習與過擬合。並回答以下問題"
   ]
  },
  {
   "cell_type": "markdown",
   "metadata": {},
   "source": [
    "[youtube](https://www.youtube.com/watch?v=fegAeph9UaA)"
   ]
  },
  {
   "cell_type": "markdown",
   "metadata": {},
   "source": [
    "### 1. 模型的泛化能力 (generalization) 是指什麼？ \n",
    "### 2. 分類問題與回歸問題分別可用的目標函數有哪些？"
   ]
  },
  {
   "cell_type": "markdown",
   "metadata": {},
   "source": [
    "# ANS\n",
    "\n",
    "1. generalization 是指將藉由機器學習取得的best function進行調整之後，適用在大多數的資料上面，而非僅僅只是能夠將訓練模型跑好而已，即便是實際情況也能多少有一定的可參考性在。\n",
    "2. 目標函數大多是指loss function，意在評估或是衡量模型好壞，當loss愈大表示訓練出來的模型越不準確或是說與資料與結果越不相關：\n",
    "\n",
    "### 常見的目標函數\n",
    "#### Regrssion: \n",
    "1. mean square error  \n",
    "2. mean absolute error \n",
    "3. huber loss\n",
    "4. los cosh loss\n",
    "5. quantile loss\n",
    "\n",
    "#### Classification:\n",
    "1. binary cross-entropy\n",
    "2. negative log likelihood\n",
    "3. cross-entropy\n",
    "4. kullback-leibler divergence"
   ]
  },
  {
   "cell_type": "code",
   "execution_count": null,
   "metadata": {},
   "outputs": [],
   "source": []
  }
 ],
 "metadata": {
  "kernelspec": {
   "display_name": "Python 3",
   "language": "python",
   "name": "python3"
  },
  "language_info": {
   "codemirror_mode": {
    "name": "ipython",
    "version": 3
   },
   "file_extension": ".py",
   "mimetype": "text/x-python",
   "name": "python",
   "nbconvert_exporter": "python",
   "pygments_lexer": "ipython3",
   "version": "3.7.7"
  }
 },
 "nbformat": 4,
 "nbformat_minor": 2
}
