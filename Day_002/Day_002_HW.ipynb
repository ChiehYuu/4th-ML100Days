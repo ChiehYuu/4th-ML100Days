{
 "cells": [
  {
   "cell_type": "markdown",
   "metadata": {},
   "source": [
    "## [作業目標]\n",
    "了解機器學習適合應用的領域與範疇。"
   ]
  },
  {
   "cell_type": "markdown",
   "metadata": {},
   "source": [
    "## [作業重點]\n",
    "透過瞭解機器學習的運作方式，找出非常適用機器學習應用的領域及其原因"
   ]
  },
  {
   "cell_type": "markdown",
   "metadata": {},
   "source": [
    "## 作業\n",
    "請找出一個你認為機器學習可以發光發熱的領域並闡述原因? "
   ]
  },
  {
   "cell_type": "markdown",
   "metadata": {},
   "source": [
    "## ANS\n",
    "運動科學：運動通常是藉由重複性動作，來達到效果，機器學習也是，特別是藉由影像分析，來達到運動的正確姿態或是復健效果，可以大大縮減運動員受傷機會，縮短復健期，避免二次傷害等，這些通常由於姿勢不正確導致的問題，而這些問題則可以藉由機器學習進行分析，並且在分析後作出修正，減少此部分的問題。除此之外，可以藉由各類運動的分析，來達到運動員強化的效果，譬如說：網球員藉由機器學習進行發球分析，找出哪個姿勢可以最省力並且發出最厲害的發球；短跑選手，可以藉由機器學習分析，起跑準備姿勢及發力過程可以達到最快啟動諸如此類的。"
   ]
  }
 ],
 "metadata": {
  "kernelspec": {
   "display_name": "Python 3",
   "language": "python",
   "name": "python3"
  },
  "language_info": {
   "codemirror_mode": {
    "name": "ipython",
    "version": 3
   },
   "file_extension": ".py",
   "mimetype": "text/x-python",
   "name": "python",
   "nbconvert_exporter": "python",
   "pygments_lexer": "ipython3",
   "version": "3.7.4"
  }
 },
 "nbformat": 4,
 "nbformat_minor": 2
}
