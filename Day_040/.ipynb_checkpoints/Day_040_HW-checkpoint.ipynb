{
 "cells": [
  {
   "cell_type": "markdown",
   "metadata": {},
   "source": [
    "## [作業重點]\n",
    "使用 Sklearn 中的 Lasso, Ridge 模型，來訓練各種資料集，務必了解送進去模型訓練的**資料型態**為何，也請了解模型中各項參數的意義。\n",
    "\n",
    "機器學習的模型非常多種，但要訓練的資料多半有固定的格式，確保你了解訓練資料的格式為何，這樣在應用新模型時，就能夠最快的上手開始訓練！"
   ]
  },
  {
   "cell_type": "markdown",
   "metadata": {},
   "source": [
    "## 練習時間\n",
    "試著使用 sklearn datasets 的其他資料集 (boston, ...)，來訓練自己的線性迴歸模型，並加上適當的正則化來觀察訓練情形。"
   ]
  },
  {
   "cell_type": "code",
   "execution_count": 1,
   "metadata": {},
   "outputs": [],
   "source": [
    "import numpy as np\n",
    "import pandas as pd\n",
    "import matplotlib.pyplot as plt\n",
    "import seaborn as sns\n",
    "from sklearn import datasets,linear_model\n",
    "from sklearn.model_selection import train_test_split\n",
    "from sklearn.metrics import mean_squared_error,mean_absolute_error, r2_score, accuracy_score\n",
    "import warnings\n",
    "warnings.filterwarnings('ignore')"
   ]
  },
  {
   "cell_type": "code",
   "execution_count": 3,
   "metadata": {},
   "outputs": [
    {
     "name": "stdout",
     "output_type": "stream",
     "text": [
      "Coefficients: [-1.23897571e-01  4.81822924e-02 -4.74497796e-02  3.36938950e+00\n",
      " -1.56635488e+01  3.59419367e+00 -9.33206067e-03 -1.47089101e+00\n",
      "  3.05053544e-01 -1.08397039e-02 -9.08791339e-01  1.00352939e-02\n",
      " -4.77714677e-01]\n"
     ]
    }
   ],
   "source": [
    "boston = datasets.load_boston()\n",
    "col = boston['feature_names']\n",
    "X = boston['data']\n",
    "Y = boston['target']\n",
    "x_train, x_test, y_train, y_test = train_test_split(X,Y,test_size = 0.2 ,random_state = 3)\n",
    "LinReg = linear_model.LinearRegression()\n",
    "LogReg = linear_model.LogisticRegression()\n",
    "Lasso = linear_model.Lasso(alpha = 1.0)\n",
    "Ridge = linear_model.Ridge(alpha = 1.0)\n",
    "LinReg.fit(x_train, y_train)\n",
    "print('Coefficients:',LinReg.coef_)"
   ]
  },
  {
   "cell_type": "code",
   "execution_count": 4,
   "metadata": {},
   "outputs": [
    {
     "data": {
      "text/plain": [
       "16.94307301383375"
      ]
     },
     "execution_count": 4,
     "metadata": {},
     "output_type": "execute_result"
    }
   ],
   "source": [
    "y_pred = LinReg.predict(x_test)\n",
    "mse = mean_squared_error(y_test , y_pred)\n",
    "mse"
   ]
  },
  {
   "cell_type": "code",
   "execution_count": 5,
   "metadata": {},
   "outputs": [
    {
     "data": {
      "text/plain": [
       "23.301184161063297"
      ]
     },
     "execution_count": 5,
     "metadata": {},
     "output_type": "execute_result"
    }
   ],
   "source": [
    "Lasso.fit(x_train,y_train)\n",
    "lasso_y_pred = Lasso.predict(x_test)\n",
    "mse = mean_squared_error(y_test, lasso_y_pred)\n",
    "mse"
   ]
  },
  {
   "cell_type": "code",
   "execution_count": 7,
   "metadata": {},
   "outputs": [
    {
     "data": {
      "text/plain": [
       "array([-0.08159032,  0.05363088, -0.03523796,  0.        , -0.        ,\n",
       "        0.70939671,  0.00989557, -0.72872731,  0.26217484, -0.01333177,\n",
       "       -0.69820833,  0.00823025, -0.73035067])"
      ]
     },
     "execution_count": 7,
     "metadata": {},
     "output_type": "execute_result"
    }
   ],
   "source": [
    "Lasso.coef_"
   ]
  },
  {
   "cell_type": "code",
   "execution_count": 6,
   "metadata": {},
   "outputs": [
    {
     "data": {
      "text/plain": [
       "17.51866607195399"
      ]
     },
     "execution_count": 6,
     "metadata": {},
     "output_type": "execute_result"
    }
   ],
   "source": [
    "Ridge.fit(x_train, y_train)\n",
    "ridge_y_pred = Ridge.predict(x_test)\n",
    "mse = mean_squared_error(y_test, ridge_y_pred)\n",
    "mse"
   ]
  },
  {
   "cell_type": "code",
   "execution_count": 8,
   "metadata": {},
   "outputs": [
    {
     "data": {
      "text/plain": [
       "array([-0.12067103,  0.04860754, -0.07711698,  3.18916336, -8.53906191,\n",
       "        3.64680918, -0.01560759, -1.36061805,  0.28550565, -0.01110179,\n",
       "       -0.82600626,  0.01033311, -0.49017767])"
      ]
     },
     "execution_count": 8,
     "metadata": {},
     "output_type": "execute_result"
    }
   ],
   "source": [
    "Ridge.coef_"
   ]
  },
  {
   "cell_type": "code",
   "execution_count": null,
   "metadata": {},
   "outputs": [],
   "source": []
  }
 ],
 "metadata": {
  "kernelspec": {
   "display_name": "Python 3",
   "language": "python",
   "name": "python3"
  },
  "language_info": {
   "codemirror_mode": {
    "name": "ipython",
    "version": 3
   },
   "file_extension": ".py",
   "mimetype": "text/x-python",
   "name": "python",
   "nbconvert_exporter": "python",
   "pygments_lexer": "ipython3",
   "version": "3.7.7"
  }
 },
 "nbformat": 4,
 "nbformat_minor": 2
}
