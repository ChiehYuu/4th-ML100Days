{
 "cells": [
  {
   "cell_type": "code",
   "execution_count": 9,
   "metadata": {},
   "outputs": [],
   "source": [
    "import pandas as pd\n",
    "import numpy as np\n",
    "import copy, time\n",
    "import warnings\n",
    "warnings.filterwarnings('ignore')\n",
    "from IPython.display import display\n",
    "from sklearn.preprocessing import MinMaxScaler\n",
    "from sklearn.model_selection import cross_val_score\n",
    "from sklearn.linear_model import LogisticRegression\n",
    "from sklearn.preprocessing import LabelEncoder"
   ]
  },
  {
   "cell_type": "code",
   "execution_count": 10,
   "metadata": {},
   "outputs": [],
   "source": [
    "# 檢查 DataFrame 空缺值的狀態\n",
    "def na_check(df_data):\n",
    "    data_na = (df_data.isnull().sum() / len(df_data)) * 100\n",
    "    data_na = data_na.drop(data_na[data_na == 0].index).sort_values(ascending=False)\n",
    "    missing_data = pd.DataFrame({'Missing Ratio' :data_na})\n",
    "    display(missing_data.head(10))"
   ]
  },
  {
   "cell_type": "code",
   "execution_count": 11,
   "metadata": {},
   "outputs": [],
   "source": [
    "# load data \n",
    "data_path = '../data/'\n",
    "df_train_tmp = pd.read_csv(data_path + 'train_data.csv')\n",
    "df_test = pd.read_csv(data_path + 'test_features.csv')"
   ]
  },
  {
   "cell_type": "code",
   "execution_count": 12,
   "metadata": {},
   "outputs": [],
   "source": [
    "#薪水\n",
    "var_salary = ['salary']\n",
    "\n",
    "#獎金\n",
    "var_bonus = ['bonus']\n",
    "\n",
    "#業務報銷\n",
    "var_business_expenses_group = ['long_term_incentive','deferred_income','loan_advances'\n",
    "        ,'deferral_payments','other','expenses']\n",
    "\n",
    "#董事费\n",
    "var_director_fees = ['director_fees']\n",
    "\n",
    "#總支出\n",
    "var_total_payments = ['total_payments']\n",
    "\n",
    "#股權\n",
    "var_10_11_12 = ['exercised_stock_options','restricted_stock','restricted_stock_deferred']\n",
    "\n",
    "#股權 total\n",
    "var_total_stock_value = ['total_stock_value']\n",
    "\n",
    "#email回覆\n",
    "var_email_count_group = ['to_messages','from_poi_to_this_person','from_messages','from_this_person_to_poi','shared_receipt_with_poi']\n",
    "\n"
   ]
  },
  {
   "cell_type": "code",
   "execution_count": 13,
   "metadata": {},
   "outputs": [
    {
     "data": {
      "text/plain": [
       "Index(['bonus', 'deferral_payments', 'deferred_income', 'director_fees',\n",
       "       'email_address', 'exercised_stock_options', 'expenses', 'from_messages',\n",
       "       'from_poi_to_this_person', 'from_this_person_to_poi', 'loan_advances',\n",
       "       'long_term_incentive', 'other', 'restricted_stock',\n",
       "       'restricted_stock_deferred', 'salary', 'shared_receipt_with_poi',\n",
       "       'to_messages', 'total_payments', 'total_stock_value'],\n",
       "      dtype='object')"
      ]
     },
     "execution_count": 13,
     "metadata": {},
     "output_type": "execute_result"
    }
   ],
   "source": [
    "#train_Y = df_train['poi']\n",
    "train_Y = df_train_tmp['poi'].map(lambda x:1 if x==True else 0) \n",
    "\n",
    "ids_train = df_train_tmp['name']\n",
    "ids = df_test['name']\n",
    "df_train = df_train_tmp.drop(['name', 'poi'] , axis=1)\n",
    "df_test = df_test.drop(['name'] , axis=1)\n",
    "df = pd.concat([df_train,df_test])\n",
    "var_df_columns = df.columns\n",
    "var_df_columns"
   ]
  },
  {
   "cell_type": "code",
   "execution_count": 14,
   "metadata": {},
   "outputs": [
    {
     "data": {
      "text/html": [
       "<div>\n",
       "<style scoped>\n",
       "    .dataframe tbody tr th:only-of-type {\n",
       "        vertical-align: middle;\n",
       "    }\n",
       "\n",
       "    .dataframe tbody tr th {\n",
       "        vertical-align: top;\n",
       "    }\n",
       "\n",
       "    .dataframe thead th {\n",
       "        text-align: right;\n",
       "    }\n",
       "</style>\n",
       "<table border=\"1\" class=\"dataframe\">\n",
       "  <thead>\n",
       "    <tr style=\"text-align: right;\">\n",
       "      <th></th>\n",
       "      <th>Missing Ratio</th>\n",
       "    </tr>\n",
       "  </thead>\n",
       "  <tbody>\n",
       "  </tbody>\n",
       "</table>\n",
       "</div>"
      ],
      "text/plain": [
       "Empty DataFrame\n",
       "Columns: [Missing Ratio]\n",
       "Index: []"
      ]
     },
     "metadata": {},
     "output_type": "display_data"
    }
   ],
   "source": [
    "var_df_dtypes = df.dtypes\n",
    "\n",
    "\n",
    "var_train_columns = ['bonus', 'deferral_payments', 'deferred_income',\n",
    "       'exercised_stock_options', 'long_term_incentive', 'other' ,\n",
    "       'restricted_stock', 'salary', 'total_payments', 'total_stock_value']\n",
    "\n",
    "df_cp = df_train_tmp[var_train_columns]\n",
    "    \n",
    "df_cp['other'] = df_cp['other'].clip(0, 0.3*(10**7))\n",
    "df_cp['other'] = df_cp['other'].fillna(0)\n",
    "df_cp['total_payments'] = df_cp['total_payments'].clip(0, 0.2*(10**8))\n",
    "df_cp['total_payments'] = df_cp['total_payments'].fillna(0)\n",
    "\n",
    "df_cp['deferral_payments'] = df_cp['deferral_payments'].fillna(0)\n",
    "df_cp['deferred_income'] = df_cp['deferred_income'].fillna(0)\n",
    "df_cp['long_term_incentive'] = df_cp['long_term_incentive'].fillna(0)\n",
    "df_cp['bonus'] = df_cp['bonus'].fillna(0)\n",
    "df_cp['exercised_stock_options'] = df_cp['exercised_stock_options'].fillna(0)\n",
    "df_cp['restricted_stock'] = df_cp['restricted_stock'].fillna(0)\n",
    "df_cp['total_stock_value'] = df_cp['total_stock_value'].fillna(0)\n",
    "\n",
    "df_cp['salary'] = df_cp['salary'].fillna(df_cp['salary'].median())\n",
    "\n",
    "\n",
    "na_check(df_cp)"
   ]
  },
  {
   "cell_type": "code",
   "execution_count": 15,
   "metadata": {},
   "outputs": [
    {
     "data": {
      "text/plain": [
       "Index(['bonus', 'deferral_payments', 'deferred_income',\n",
       "       'exercised_stock_options', 'long_term_incentive', 'other',\n",
       "       'restricted_stock', 'salary', 'total_payments', 'total_stock_value'],\n",
       "      dtype='object')"
      ]
     },
     "execution_count": 15,
     "metadata": {},
     "output_type": "execute_result"
    }
   ],
   "source": [
    "feat_labels = df_cp.columns\n",
    "feat_labels"
   ]
  },
  {
   "cell_type": "code",
   "execution_count": 16,
   "metadata": {},
   "outputs": [],
   "source": [
    "# 將資料最大最小化\n",
    "#df_cp = MinMaxScaler().fit_transform(df_cp)  \n",
    "#df_cp = df_cp.as_matrix()\n",
    "# 將前述轉換完畢資料 df , 重新切成 train_X, test_X\n",
    "#train_num = train_Y.shape[0]\n",
    "#train_X = df_cp[:train_num]\n",
    "\n",
    "#update_test_X = df_cp[train_num:]"
   ]
  },
  {
   "cell_type": "code",
   "execution_count": 17,
   "metadata": {},
   "outputs": [],
   "source": [
    "from sklearn.model_selection import train_test_split\n",
    "x_train, x_test, y_train, y_test = train_test_split(df_cp, train_Y, test_size=0.25, random_state=4)\n",
    "\n"
   ]
  },
  {
   "cell_type": "code",
   "execution_count": 18,
   "metadata": {},
   "outputs": [],
   "source": [
    "from sklearn.ensemble import GradientBoostingClassifier\n",
    "gdbt = GradientBoostingClassifier(learning_rate=0.01)\n",
    "\n",
    "\n",
    "# 訓練模型\n",
    "gdbt.fit(x_train, y_train)\n",
    "\n",
    "# 預測測試集\n",
    "y_pred = gdbt.predict(x_test)\n",
    "\n",
    "y_pred_proba =  gdbt.predict_proba(x_test)[:,1]\n"
   ]
  },
  {
   "cell_type": "code",
   "execution_count": 19,
   "metadata": {},
   "outputs": [
    {
     "name": "stdout",
     "output_type": "stream",
     "text": [
      "Accuracy:  0.8620689655172413\n",
      "1 30 deferral_payments 0.005282026079123953\n",
      "2 30 deferred_income 0.007227085390633724\n",
      "3 30 restricted_stock 0.015594648406237232\n",
      "4 30 total_stock_value 0.018476664852121058\n",
      "5 30 total_payments 0.020740959258987637\n",
      "6 30 salary 0.021994979423985643\n",
      "7 30 long_term_incentive 0.046420511879958146\n",
      "8 30 other 0.051726036857658614\n",
      "9 30 bonus 0.1261757471555295\n",
      "10 30 exercised_stock_options 0.6863613406957645\n"
     ]
    }
   ],
   "source": [
    "from sklearn import datasets, metrics\n",
    "from sklearn.metrics import confusion_matrix\n",
    "from sklearn.metrics import mean_squared_error, r2_score, accuracy_score\n",
    "\n",
    "check_view = pd.DataFrame({'pred_poi': y_pred_proba,'poi':y_test})\n",
    "check_view = check_view.sort_values(by=['pred_poi'])\n",
    "\n",
    "acc = accuracy_score(y_test, y_pred)\n",
    "print(\"Accuracy: \", acc)\n",
    "var_confusion_matrix = confusion_matrix(y_test, y_pred, labels=None, sample_weight=None)\n",
    "\n",
    "importances = gdbt.feature_importances_\n",
    "indices = np.argsort(importances)\n",
    "\n",
    "for f in range(x_train.shape[1]):\n",
    "    print(f + 1, 30, feat_labels[indices[f]], importances[indices[f]])"
   ]
  },
  {
   "cell_type": "code",
   "execution_count": 26,
   "metadata": {},
   "outputs": [
    {
     "ename": "TypeError",
     "evalue": "'(slice(None, None, None), array([ True, False, False,  True,  True,  True, False, False, False,\n       False]))' is an invalid key",
     "output_type": "error",
     "traceback": [
      "\u001b[1;31m---------------------------------------------------------------------------\u001b[0m",
      "\u001b[1;31mTypeError\u001b[0m                                 Traceback (most recent call last)",
      "\u001b[1;32m<ipython-input-26-efa76a427b18>\u001b[0m in \u001b[0;36m<module>\u001b[1;34m\u001b[0m\n\u001b[0;32m      1\u001b[0m \u001b[0mthreshold\u001b[0m \u001b[1;33m=\u001b[0m\u001b[1;36m0.04\u001b[0m\u001b[1;33m\u001b[0m\u001b[1;33m\u001b[0m\u001b[0m\n\u001b[0;32m      2\u001b[0m \u001b[0mx_selected\u001b[0m \u001b[1;33m=\u001b[0m \u001b[0mx_train\u001b[0m\u001b[1;33m\u001b[0m\u001b[1;33m\u001b[0m\u001b[0m\n\u001b[1;32m----> 3\u001b[1;33m \u001b[0mx_selected_test\u001b[0m \u001b[1;33m=\u001b[0m \u001b[0mx_test\u001b[0m\u001b[1;33m[\u001b[0m\u001b[1;33m:\u001b[0m\u001b[1;33m,\u001b[0m \u001b[0mimportances\u001b[0m \u001b[1;33m>\u001b[0m \u001b[0mthreshold\u001b[0m\u001b[1;33m]\u001b[0m\u001b[1;33m\u001b[0m\u001b[1;33m\u001b[0m\u001b[0m\n\u001b[0m\u001b[0;32m      4\u001b[0m \u001b[0mx_selected\u001b[0m\u001b[1;33m.\u001b[0m\u001b[0mshape\u001b[0m\u001b[1;33m\u001b[0m\u001b[1;33m\u001b[0m\u001b[0m\n\u001b[0;32m      5\u001b[0m \u001b[1;31m#x_selected_update = update_test_X[:, importances > threshold]\u001b[0m\u001b[1;33m\u001b[0m\u001b[1;33m\u001b[0m\u001b[1;33m\u001b[0m\u001b[0m\n",
      "\u001b[1;32mC:\\ProgramData\\Anaconda3\\lib\\site-packages\\pandas\\core\\frame.py\u001b[0m in \u001b[0;36m__getitem__\u001b[1;34m(self, key)\u001b[0m\n\u001b[0;32m   2798\u001b[0m             \u001b[1;32mif\u001b[0m \u001b[0mself\u001b[0m\u001b[1;33m.\u001b[0m\u001b[0mcolumns\u001b[0m\u001b[1;33m.\u001b[0m\u001b[0mnlevels\u001b[0m \u001b[1;33m>\u001b[0m \u001b[1;36m1\u001b[0m\u001b[1;33m:\u001b[0m\u001b[1;33m\u001b[0m\u001b[1;33m\u001b[0m\u001b[0m\n\u001b[0;32m   2799\u001b[0m                 \u001b[1;32mreturn\u001b[0m \u001b[0mself\u001b[0m\u001b[1;33m.\u001b[0m\u001b[0m_getitem_multilevel\u001b[0m\u001b[1;33m(\u001b[0m\u001b[0mkey\u001b[0m\u001b[1;33m)\u001b[0m\u001b[1;33m\u001b[0m\u001b[1;33m\u001b[0m\u001b[0m\n\u001b[1;32m-> 2800\u001b[1;33m             \u001b[0mindexer\u001b[0m \u001b[1;33m=\u001b[0m \u001b[0mself\u001b[0m\u001b[1;33m.\u001b[0m\u001b[0mcolumns\u001b[0m\u001b[1;33m.\u001b[0m\u001b[0mget_loc\u001b[0m\u001b[1;33m(\u001b[0m\u001b[0mkey\u001b[0m\u001b[1;33m)\u001b[0m\u001b[1;33m\u001b[0m\u001b[1;33m\u001b[0m\u001b[0m\n\u001b[0m\u001b[0;32m   2801\u001b[0m             \u001b[1;32mif\u001b[0m \u001b[0mis_integer\u001b[0m\u001b[1;33m(\u001b[0m\u001b[0mindexer\u001b[0m\u001b[1;33m)\u001b[0m\u001b[1;33m:\u001b[0m\u001b[1;33m\u001b[0m\u001b[1;33m\u001b[0m\u001b[0m\n\u001b[0;32m   2802\u001b[0m                 \u001b[0mindexer\u001b[0m \u001b[1;33m=\u001b[0m \u001b[1;33m[\u001b[0m\u001b[0mindexer\u001b[0m\u001b[1;33m]\u001b[0m\u001b[1;33m\u001b[0m\u001b[1;33m\u001b[0m\u001b[0m\n",
      "\u001b[1;32mC:\\ProgramData\\Anaconda3\\lib\\site-packages\\pandas\\core\\indexes\\base.py\u001b[0m in \u001b[0;36mget_loc\u001b[1;34m(self, key, method, tolerance)\u001b[0m\n\u001b[0;32m   2644\u001b[0m                 )\n\u001b[0;32m   2645\u001b[0m             \u001b[1;32mtry\u001b[0m\u001b[1;33m:\u001b[0m\u001b[1;33m\u001b[0m\u001b[1;33m\u001b[0m\u001b[0m\n\u001b[1;32m-> 2646\u001b[1;33m                 \u001b[1;32mreturn\u001b[0m \u001b[0mself\u001b[0m\u001b[1;33m.\u001b[0m\u001b[0m_engine\u001b[0m\u001b[1;33m.\u001b[0m\u001b[0mget_loc\u001b[0m\u001b[1;33m(\u001b[0m\u001b[0mkey\u001b[0m\u001b[1;33m)\u001b[0m\u001b[1;33m\u001b[0m\u001b[1;33m\u001b[0m\u001b[0m\n\u001b[0m\u001b[0;32m   2647\u001b[0m             \u001b[1;32mexcept\u001b[0m \u001b[0mKeyError\u001b[0m\u001b[1;33m:\u001b[0m\u001b[1;33m\u001b[0m\u001b[1;33m\u001b[0m\u001b[0m\n\u001b[0;32m   2648\u001b[0m                 \u001b[1;32mreturn\u001b[0m \u001b[0mself\u001b[0m\u001b[1;33m.\u001b[0m\u001b[0m_engine\u001b[0m\u001b[1;33m.\u001b[0m\u001b[0mget_loc\u001b[0m\u001b[1;33m(\u001b[0m\u001b[0mself\u001b[0m\u001b[1;33m.\u001b[0m\u001b[0m_maybe_cast_indexer\u001b[0m\u001b[1;33m(\u001b[0m\u001b[0mkey\u001b[0m\u001b[1;33m)\u001b[0m\u001b[1;33m)\u001b[0m\u001b[1;33m\u001b[0m\u001b[1;33m\u001b[0m\u001b[0m\n",
      "\u001b[1;32mpandas\\_libs\\index.pyx\u001b[0m in \u001b[0;36mpandas._libs.index.IndexEngine.get_loc\u001b[1;34m()\u001b[0m\n",
      "\u001b[1;32mpandas\\_libs\\index.pyx\u001b[0m in \u001b[0;36mpandas._libs.index.IndexEngine.get_loc\u001b[1;34m()\u001b[0m\n",
      "\u001b[1;31mTypeError\u001b[0m: '(slice(None, None, None), array([ True, False, False,  True,  True,  True, False, False, False,\n       False]))' is an invalid key"
     ]
    }
   ],
   "source": [
    "threshold =0.04\n",
    "x_selected = x_train\n",
    "x_selected_test = x_test[:, importances > threshold]\n",
    "x_selected.shape \n",
    "#x_selected_update = update_test_X[:, importances > threshold]\n",
    "\n",
    "gdbt = GradientBoostingClassifier(tol=180, subsample=0.75, n_estimators=160, max_features=x_selected.shape[1], \n",
    "                                 max_depth=4, learning_rate=0.01)\n",
    "\n",
    "gdbt.fit(x_selected, y_train)\n",
    "gdbt_pred = gdbt.predict(x_selected_test)\n",
    "var_confusion_matrix = confusion_matrix(y_test, gdbt_pred, labels=None, sample_weight=None)\n",
    "\n",
    "acc = accuracy_score(y_test, gdbt_pred)\n",
    "print(\"Accuracy: \", acc)\n",
    "\n",
    "\n",
    "\n",
    "from sklearn.model_selection import GridSearchCV\n",
    "param_test1 = {'n_estimators':range(20,300,20),'tol':range(20,200,20),'max_depth':range(2,5,1)}\n",
    "gsearch1 = GridSearchCV(estimator = GradientBoostingClassifier(learning_rate=0.01, subsample=0.75),param_grid = param_test1, scoring='roc_auc',iid=False,cv=5)\n",
    "\n",
    "gsearch1.fit(x_selected,y_train)\n",
    "gsearch1.grid_scores_, gsearch1.best_params_, gsearch1.best_score_\n"
   ]
  },
  {
   "cell_type": "code",
   "execution_count": 27,
   "metadata": {},
   "outputs": [
    {
     "ename": "NameError",
     "evalue": "name 'x_selected_test' is not defined",
     "output_type": "error",
     "traceback": [
      "\u001b[1;31m---------------------------------------------------------------------------\u001b[0m",
      "\u001b[1;31mNameError\u001b[0m                                 Traceback (most recent call last)",
      "\u001b[1;32m<ipython-input-27-dbebd5ca8130>\u001b[0m in \u001b[0;36m<module>\u001b[1;34m\u001b[0m\n\u001b[0;32m      7\u001b[0m \u001b[1;33m\u001b[0m\u001b[0m\n\u001b[0;32m      8\u001b[0m \u001b[1;31m# 預測測試集\u001b[0m\u001b[1;33m\u001b[0m\u001b[1;33m\u001b[0m\u001b[1;33m\u001b[0m\u001b[0m\n\u001b[1;32m----> 9\u001b[1;33m \u001b[0my_pred\u001b[0m \u001b[1;33m=\u001b[0m \u001b[0mgdbt\u001b[0m\u001b[1;33m.\u001b[0m\u001b[0mpredict\u001b[0m\u001b[1;33m(\u001b[0m\u001b[0mx_selected_test\u001b[0m\u001b[1;33m)\u001b[0m\u001b[1;33m\u001b[0m\u001b[1;33m\u001b[0m\u001b[0m\n\u001b[0m\u001b[0;32m     10\u001b[0m \u001b[0mvar_confusion_matrix\u001b[0m \u001b[1;33m=\u001b[0m \u001b[0mconfusion_matrix\u001b[0m\u001b[1;33m(\u001b[0m\u001b[0my_test\u001b[0m\u001b[1;33m,\u001b[0m \u001b[0my_pred\u001b[0m\u001b[1;33m,\u001b[0m \u001b[0mlabels\u001b[0m\u001b[1;33m=\u001b[0m\u001b[1;32mNone\u001b[0m\u001b[1;33m,\u001b[0m \u001b[0msample_weight\u001b[0m\u001b[1;33m=\u001b[0m\u001b[1;32mNone\u001b[0m\u001b[1;33m)\u001b[0m\u001b[1;33m\u001b[0m\u001b[1;33m\u001b[0m\u001b[0m\n\u001b[0;32m     11\u001b[0m \u001b[1;33m\u001b[0m\u001b[0m\n",
      "\u001b[1;31mNameError\u001b[0m: name 'x_selected_test' is not defined"
     ]
    }
   ],
   "source": [
    "gdbt = GradientBoostingClassifier(tol=180, subsample=0.75, n_estimators=160, max_features=x_selected.shape[1], \n",
    "                                 max_depth=4, learning_rate=0.01)\n",
    "\n",
    "\n",
    "# 訓練模型\n",
    "gdbt.fit(x_selected, y_train)\n",
    "\n",
    "# 預測測試集\n",
    "y_pred = gdbt.predict(x_selected_test)\n",
    "var_confusion_matrix = confusion_matrix(y_test, y_pred, labels=None, sample_weight=None)\n",
    "\n",
    "\n",
    "update_y_pred = gdbt.predict_proba(x_selected_update)[:,1]\n",
    "\n",
    "sub = pd.DataFrame({'name': ids, 'poi': update_y_pred})\n",
    "sub.to_csv('test1024_gdbt.csv', index=False)\n",
    "\n",
    "\n",
    "\n",
    "\n",
    "df_cp = df_test[var_train_columns]\n",
    "    \n",
    "df_cp['other'] = df_cp['other'].clip(0, 0.3*(10**7))\n",
    "df_cp['other'] = df_cp['other'].fillna(0)\n",
    "df_cp['total_payments'] = df_cp['total_payments'].clip(0, 0.2*(10**8))\n",
    "df_cp['total_payments'] = df_cp['total_payments'].fillna(0)\n",
    "\n",
    "df_cp['deferral_payments'] = df_cp['deferral_payments'].fillna(0)\n",
    "df_cp['deferred_income'] = df_cp['deferred_income'].fillna(0)\n",
    "df_cp['long_term_incentive'] = df_cp['long_term_incentive'].fillna(0)\n",
    "df_cp['bonus'] = df_cp['bonus'].fillna(0)\n",
    "df_cp['exercised_stock_options'] = df_cp['exercised_stock_options'].fillna(0)\n",
    "df_cp['restricted_stock'] = df_cp['restricted_stock'].fillna(0)\n",
    "df_cp['total_stock_value'] = df_cp['total_stock_value'].fillna(0)\n",
    "\n",
    "df_cp['salary'] = df_cp['salary'].fillna(df_cp['salary'].median())\n",
    "\n",
    "var_key = ['long_term_incentive','other','bonus','exercised_stock_options']\n",
    "update_test_x = df_cp[var_key]\n",
    "\n",
    "gdbt_pred = gdbt.predict_proba(update_test_x)[:,1]\n",
    "\n",
    "sub = pd.DataFrame({'name': ids, 'poi': gdbt_pred})\n",
    "sub.to_csv('test_3_gdbt.csv', index=False)\n"
   ]
  },
  {
   "cell_type": "code",
   "execution_count": 25,
   "metadata": {},
   "outputs": [
    {
     "ename": "NameError",
     "evalue": "name 'x_selected_test' is not defined",
     "output_type": "error",
     "traceback": [
      "\u001b[1;31m---------------------------------------------------------------------------\u001b[0m",
      "\u001b[1;31mNameError\u001b[0m                                 Traceback (most recent call last)",
      "\u001b[1;32m<ipython-input-25-9b7e1496f2e0>\u001b[0m in \u001b[0;36m<module>\u001b[1;34m\u001b[0m\n\u001b[0;32m      3\u001b[0m \u001b[0mrf\u001b[0m \u001b[1;33m=\u001b[0m \u001b[0mRandomForestClassifier\u001b[0m\u001b[1;33m(\u001b[0m\u001b[1;33m)\u001b[0m\u001b[1;33m\u001b[0m\u001b[1;33m\u001b[0m\u001b[0m\n\u001b[0;32m      4\u001b[0m \u001b[0mrf\u001b[0m\u001b[1;33m.\u001b[0m\u001b[0mfit\u001b[0m\u001b[1;33m(\u001b[0m\u001b[0mx_selected\u001b[0m\u001b[1;33m,\u001b[0m\u001b[0my_train\u001b[0m\u001b[1;33m)\u001b[0m\u001b[1;33m\u001b[0m\u001b[1;33m\u001b[0m\u001b[0m\n\u001b[1;32m----> 5\u001b[1;33m \u001b[0mrf_pred\u001b[0m \u001b[1;33m=\u001b[0m \u001b[0mrf\u001b[0m\u001b[1;33m.\u001b[0m\u001b[0mpredict\u001b[0m\u001b[1;33m(\u001b[0m\u001b[0mx_selected_test\u001b[0m\u001b[1;33m)\u001b[0m\u001b[1;33m\u001b[0m\u001b[1;33m\u001b[0m\u001b[0m\n\u001b[0m\u001b[0;32m      6\u001b[0m \u001b[0mvar_confusion_matrix\u001b[0m \u001b[1;33m=\u001b[0m \u001b[0mconfusion_matrix\u001b[0m\u001b[1;33m(\u001b[0m\u001b[0my_test\u001b[0m\u001b[1;33m,\u001b[0m \u001b[0mrf_pred\u001b[0m\u001b[1;33m,\u001b[0m \u001b[0mlabels\u001b[0m\u001b[1;33m=\u001b[0m\u001b[1;32mNone\u001b[0m\u001b[1;33m,\u001b[0m \u001b[0msample_weight\u001b[0m\u001b[1;33m=\u001b[0m\u001b[1;32mNone\u001b[0m\u001b[1;33m)\u001b[0m\u001b[1;33m\u001b[0m\u001b[1;33m\u001b[0m\u001b[0m\n\u001b[0;32m      7\u001b[0m \u001b[1;33m\u001b[0m\u001b[0m\n",
      "\u001b[1;31mNameError\u001b[0m: name 'x_selected_test' is not defined"
     ]
    }
   ],
   "source": [
    "from sklearn.ensemble import RandomForestClassifier\n",
    "\n",
    "rf = RandomForestClassifier()\n",
    "rf.fit(x_selected,y_train)\n",
    "rf_pred = rf.predict(x_selected_test)\n",
    "var_confusion_matrix = confusion_matrix(y_test, rf_pred, labels=None, sample_weight=None)\n",
    "\n",
    "acc = accuracy_score(y_test, rf_pred)\n",
    "print(\"Accuracy: \", acc)\n",
    "\n",
    "rf_pred = rf.predict_proba(update_test_x)[:,1]\n",
    "\n",
    "sub = pd.DataFrame({'name': ids, 'poi': rf_pred})\n",
    "sub.to_csv('test_3_rf.csv', index=False)"
   ]
  },
  {
   "cell_type": "code",
   "execution_count": null,
   "metadata": {},
   "outputs": [],
   "source": []
  }
 ],
 "metadata": {
  "kernelspec": {
   "display_name": "Python 3",
   "language": "python",
   "name": "python3"
  },
  "language_info": {
   "codemirror_mode": {
    "name": "ipython",
    "version": 3
   },
   "file_extension": ".py",
   "mimetype": "text/x-python",
   "name": "python",
   "nbconvert_exporter": "python",
   "pygments_lexer": "ipython3",
   "version": "3.7.7"
  }
 },
 "nbformat": 4,
 "nbformat_minor": 4
}
