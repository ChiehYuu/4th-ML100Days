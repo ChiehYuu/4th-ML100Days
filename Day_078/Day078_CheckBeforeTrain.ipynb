{
 "cells": [
  {
   "cell_type": "markdown",
   "metadata": {},
   "source": [
    "## 範例重點\n",
    "### 學習在模型開始前檢查各個環節\n",
    "1. 是否有 GPU 資源\n",
    "2. 將前處理轉為函式，統一處理訓練、驗證與測試集\n",
    "3. 將超參數變數化，易於重複使用函式、模型等"
   ]
  },
  {
   "cell_type": "code",
   "execution_count": 2,
   "metadata": {},
   "outputs": [
    {
     "name": "stdout",
     "output_type": "stream",
     "text": [
      "Wed Jun 24 23:18:36 2020       \n",
      "+-----------------------------------------------------------------------------+\n",
      "| NVIDIA-SMI 411.31                 Driver Version: 411.31                    |\n",
      "|-------------------------------+----------------------+----------------------+\n",
      "| GPU  Name            TCC/WDDM | Bus-Id        Disp.A | Volatile Uncorr. ECC |\n",
      "| Fan  Temp  Perf  Pwr:Usage/Cap|         Memory-Usage | GPU-Util  Compute M. |\n",
      "|===============================+======================+======================|\n",
      "|   0  GeForce GTX 1080   WDDM  | 00000000:01:00.0  On |                  N/A |\n",
      "|  0%   56C    P8    19W / 210W |    732MiB /  8192MiB |      0%      Default |\n",
      "+-------------------------------+----------------------+----------------------+\n",
      "                                                                               \n",
      "+-----------------------------------------------------------------------------+\n",
      "| Processes:                                                       GPU Memory |\n",
      "|  GPU       PID   Type   Process name                             Usage      |\n",
      "|=============================================================================|\n",
      "|    0      6400    C+G   ...dows.Cortana_cw5n1h2txyewy\\SearchUI.exe N/A      |\n",
      "|    0      6840    C+G   ...tHubDesktop\\app-2.5.2\\GitHubDesktop.exe N/A      |\n",
      "|    0      8904    C+G   ...a\\Local\\Discord\\app-0.0.306\\Discord.exe N/A      |\n",
      "|    0      9144    C+G   C:\\Windows\\explorer.exe                    N/A      |\n",
      "|    0      9264    C+G   ...6)\\Google\\Chrome\\Application\\chrome.exe N/A      |\n",
      "|    0     10092    C+G   ...AppData\\Local\\LINE\\bin\\current\\LINE.exe N/A      |\n",
      "|    0     10956    C+G   Insufficient Permissions                   N/A      |\n",
      "|    0     11860    C+G   ...\\bin\\cef\\cef.win7x64\\steamwebhelper.exe N/A      |\n",
      "|    0     12304    C+G   ...t_cw5n1h2txyewy\\ShellExperienceHost.exe N/A      |\n",
      "|    0     12308    C+G   ...x64__8wekyb3d8bbwe\\Microsoft.Photos.exe N/A      |\n",
      "|    0     12976    C+G   Insufficient Permissions                   N/A      |\n",
      "+-----------------------------------------------------------------------------+\n"
     ]
    }
   ],
   "source": [
    "## 確認硬體資源 (如果你是在 Linux, 若是在 Windows, 請參考 https://blog.csdn.net/idwtwt/article/details/78017565)\n",
    "!nvidia-smi"
   ]
  },
  {
   "cell_type": "code",
   "execution_count": 3,
   "metadata": {},
   "outputs": [
    {
     "name": "stderr",
     "output_type": "stream",
     "text": [
      "Using TensorFlow backend.\n"
     ]
    }
   ],
   "source": [
    "import os\n",
    "import keras\n",
    "\n",
    "# 本範例不需使用 GPU, 將 GPU 設定為 \"無\"\n",
    "os.environ[\"CUDA_VISIBLE_DEVICES\"] = \"0\""
   ]
  },
  {
   "cell_type": "code",
   "execution_count": 4,
   "metadata": {},
   "outputs": [],
   "source": [
    "# 從 Keras 的內建功能中，取得 train 與 test 資料集\n",
    "train, test = keras.datasets.cifar10.load_data()"
   ]
  },
  {
   "cell_type": "code",
   "execution_count": 5,
   "metadata": {},
   "outputs": [],
   "source": [
    "## 資料前處理\n",
    "def preproc_x(x, flatten=True):\n",
    "    x = x / 255.\n",
    "    if flatten:\n",
    "        x = x.reshape((len(x), -1))\n",
    "    return x\n",
    "\n",
    "def preproc_y(y, num_classes=10):\n",
    "    if y.shape[-1] == 1:\n",
    "        y = keras.utils.to_categorical(y, num_classes)\n",
    "    return y    "
   ]
  },
  {
   "cell_type": "code",
   "execution_count": 6,
   "metadata": {},
   "outputs": [],
   "source": [
    "x_train, y_train = train\n",
    "x_test, y_test = test\n",
    "\n",
    "# 資料前處理 - X 標準化\n",
    "x_train = preproc_x(x_train)\n",
    "x_test = preproc_x(x_test)\n",
    "\n",
    "# 資料前處理 -Y 轉成 onehot\n",
    "y_train = preproc_y(y_train)\n",
    "y_test = preproc_y(y_test)"
   ]
  },
  {
   "cell_type": "code",
   "execution_count": 7,
   "metadata": {},
   "outputs": [],
   "source": [
    "def build_mlp(input_shape, output_units=10, num_neurons=[512, 256, 128]):\n",
    "    input_layer = keras.layers.Input(input_shape)\n",
    "    \n",
    "    for i, n_units in enumerate(num_neurons):\n",
    "        if i == 0:\n",
    "            x = keras.layers.Dense(units=n_units, activation=\"relu\", name=\"hidden_layer\"+str(i+1))(input_layer)\n",
    "        else:\n",
    "            x = keras.layers.Dense(units=n_units, activation=\"relu\", name=\"hidden_layer\"+str(i+1))(x)\n",
    "    \n",
    "    out = keras.layers.Dense(units=output_units, activation=\"softmax\", name=\"output\")(x)\n",
    "    \n",
    "    model = keras.models.Model(inputs=[input_layer], outputs=[out])\n",
    "    return model"
   ]
  },
  {
   "cell_type": "code",
   "execution_count": 8,
   "metadata": {},
   "outputs": [
    {
     "name": "stdout",
     "output_type": "stream",
     "text": [
      "WARNING:tensorflow:From C:\\ProgramData\\Anaconda3\\lib\\site-packages\\tensorflow_core\\python\\ops\\resource_variable_ops.py:1630: calling BaseResourceVariable.__init__ (from tensorflow.python.ops.resource_variable_ops) with constraint is deprecated and will be removed in a future version.\n",
      "Instructions for updating:\n",
      "If using Keras pass *_constraint arguments to layers.\n",
      "Model: \"model_1\"\n",
      "_________________________________________________________________\n",
      "Layer (type)                 Output Shape              Param #   \n",
      "=================================================================\n",
      "input_1 (InputLayer)         (None, 3072)              0         \n",
      "_________________________________________________________________\n",
      "hidden_layer1 (Dense)        (None, 512)               1573376   \n",
      "_________________________________________________________________\n",
      "hidden_layer2 (Dense)        (None, 256)               131328    \n",
      "_________________________________________________________________\n",
      "hidden_layer3 (Dense)        (None, 128)               32896     \n",
      "_________________________________________________________________\n",
      "output (Dense)               (None, 10)                1290      \n",
      "=================================================================\n",
      "Total params: 1,738,890\n",
      "Trainable params: 1,738,890\n",
      "Non-trainable params: 0\n",
      "_________________________________________________________________\n"
     ]
    }
   ],
   "source": [
    "model = build_mlp(input_shape=x_train.shape[1:])\n",
    "model.summary()"
   ]
  },
  {
   "cell_type": "code",
   "execution_count": 9,
   "metadata": {},
   "outputs": [],
   "source": [
    "## 超參數設定\n",
    "LEARNING_RATE = 0.001\n",
    "EPOCHS = 100\n",
    "BATCH_SIZE = 256"
   ]
  },
  {
   "cell_type": "code",
   "execution_count": 10,
   "metadata": {},
   "outputs": [],
   "source": [
    "optimizer = keras.optimizers.Adam(lr=LEARNING_RATE)\n",
    "model.compile(loss=\"categorical_crossentropy\", metrics=[\"accuracy\"], optimizer=optimizer)"
   ]
  },
  {
   "cell_type": "code",
   "execution_count": 11,
   "metadata": {},
   "outputs": [
    {
     "name": "stdout",
     "output_type": "stream",
     "text": [
      "WARNING:tensorflow:From C:\\ProgramData\\Anaconda3\\lib\\site-packages\\keras\\backend\\tensorflow_backend.py:422: The name tf.global_variables is deprecated. Please use tf.compat.v1.global_variables instead.\n",
      "\n",
      "Train on 50000 samples, validate on 10000 samples\n",
      "Epoch 1/100\n",
      "50000/50000 [==============================] - 2s 41us/step - loss: 1.9451 - accuracy: 0.2959 - val_loss: 1.7879 - val_accuracy: 0.3592\n",
      "Epoch 2/100\n",
      "50000/50000 [==============================] - 2s 36us/step - loss: 1.7233 - accuracy: 0.3807 - val_loss: 1.6546 - val_accuracy: 0.4080\n",
      "Epoch 3/100\n",
      "50000/50000 [==============================] - 2s 36us/step - loss: 1.6292 - accuracy: 0.4185 - val_loss: 1.5720 - val_accuracy: 0.4423\n",
      "Epoch 4/100\n",
      "50000/50000 [==============================] - 2s 37us/step - loss: 1.5542 - accuracy: 0.4448 - val_loss: 1.5462 - val_accuracy: 0.4505\n",
      "Epoch 5/100\n",
      "50000/50000 [==============================] - 2s 37us/step - loss: 1.5084 - accuracy: 0.4623 - val_loss: 1.5162 - val_accuracy: 0.4549\n",
      "Epoch 6/100\n",
      "50000/50000 [==============================] - 2s 36us/step - loss: 1.4658 - accuracy: 0.4783 - val_loss: 1.6323 - val_accuracy: 0.4214\n",
      "Epoch 7/100\n",
      "50000/50000 [==============================] - 2s 35us/step - loss: 1.4448 - accuracy: 0.4828 - val_loss: 1.4911 - val_accuracy: 0.4685\n",
      "Epoch 8/100\n",
      "50000/50000 [==============================] - 2s 36us/step - loss: 1.4094 - accuracy: 0.4998 - val_loss: 1.4477 - val_accuracy: 0.4773\n",
      "Epoch 9/100\n",
      "50000/50000 [==============================] - 2s 36us/step - loss: 1.3799 - accuracy: 0.5104 - val_loss: 1.4323 - val_accuracy: 0.4896\n",
      "Epoch 10/100\n",
      "50000/50000 [==============================] - 2s 36us/step - loss: 1.3502 - accuracy: 0.5188 - val_loss: 1.4396 - val_accuracy: 0.4877\n",
      "Epoch 11/100\n",
      "50000/50000 [==============================] - 2s 36us/step - loss: 1.3302 - accuracy: 0.5243 - val_loss: 1.4202 - val_accuracy: 0.4995\n",
      "Epoch 12/100\n",
      "50000/50000 [==============================] - 2s 36us/step - loss: 1.2994 - accuracy: 0.5348 - val_loss: 1.4161 - val_accuracy: 0.4994\n",
      "Epoch 13/100\n",
      "50000/50000 [==============================] - 2s 36us/step - loss: 1.2827 - accuracy: 0.5420 - val_loss: 1.4036 - val_accuracy: 0.4981\n",
      "Epoch 14/100\n",
      "50000/50000 [==============================] - 2s 36us/step - loss: 1.2608 - accuracy: 0.5519 - val_loss: 1.4522 - val_accuracy: 0.4871\n",
      "Epoch 15/100\n",
      "50000/50000 [==============================] - 2s 36us/step - loss: 1.2317 - accuracy: 0.5596 - val_loss: 1.4044 - val_accuracy: 0.5026\n",
      "Epoch 16/100\n",
      "50000/50000 [==============================] - 2s 36us/step - loss: 1.2302 - accuracy: 0.5637 - val_loss: 1.3858 - val_accuracy: 0.5146\n",
      "Epoch 17/100\n",
      "50000/50000 [==============================] - 2s 36us/step - loss: 1.1936 - accuracy: 0.5736 - val_loss: 1.3836 - val_accuracy: 0.5146\n",
      "Epoch 18/100\n",
      "50000/50000 [==============================] - 2s 36us/step - loss: 1.1836 - accuracy: 0.5760 - val_loss: 1.3717 - val_accuracy: 0.5126\n",
      "Epoch 19/100\n",
      "50000/50000 [==============================] - 2s 36us/step - loss: 1.1594 - accuracy: 0.5852 - val_loss: 1.3725 - val_accuracy: 0.5186\n",
      "Epoch 20/100\n",
      "50000/50000 [==============================] - 2s 36us/step - loss: 1.1472 - accuracy: 0.5916 - val_loss: 1.3785 - val_accuracy: 0.5238\n",
      "Epoch 21/100\n",
      "50000/50000 [==============================] - 2s 36us/step - loss: 1.1188 - accuracy: 0.6007 - val_loss: 1.4012 - val_accuracy: 0.5155\n",
      "Epoch 22/100\n",
      "50000/50000 [==============================] - 2s 36us/step - loss: 1.1070 - accuracy: 0.6072 - val_loss: 1.3684 - val_accuracy: 0.5194\n",
      "Epoch 23/100\n",
      "50000/50000 [==============================] - 2s 36us/step - loss: 1.0812 - accuracy: 0.6152 - val_loss: 1.3752 - val_accuracy: 0.5237\n",
      "Epoch 24/100\n",
      "50000/50000 [==============================] - 2s 36us/step - loss: 1.0535 - accuracy: 0.6247 - val_loss: 1.4201 - val_accuracy: 0.5162\n",
      "Epoch 25/100\n",
      "50000/50000 [==============================] - 2s 36us/step - loss: 1.0523 - accuracy: 0.6248 - val_loss: 1.3965 - val_accuracy: 0.5206\n",
      "Epoch 26/100\n",
      "50000/50000 [==============================] - 2s 36us/step - loss: 1.0256 - accuracy: 0.6339 - val_loss: 1.4539 - val_accuracy: 0.5050\n",
      "Epoch 27/100\n",
      "50000/50000 [==============================] - 2s 36us/step - loss: 1.0135 - accuracy: 0.6388 - val_loss: 1.4131 - val_accuracy: 0.5238\n",
      "Epoch 28/100\n",
      "50000/50000 [==============================] - 2s 36us/step - loss: 0.9829 - accuracy: 0.6491 - val_loss: 1.4436 - val_accuracy: 0.5132\n",
      "Epoch 29/100\n",
      "50000/50000 [==============================] - 2s 36us/step - loss: 0.9712 - accuracy: 0.6518 - val_loss: 1.3984 - val_accuracy: 0.5239\n",
      "Epoch 30/100\n",
      "50000/50000 [==============================] - 2s 36us/step - loss: 0.9435 - accuracy: 0.6634 - val_loss: 1.4136 - val_accuracy: 0.5207\n",
      "Epoch 31/100\n",
      "50000/50000 [==============================] - 2s 36us/step - loss: 0.9324 - accuracy: 0.6682 - val_loss: 1.4325 - val_accuracy: 0.5142\n",
      "Epoch 32/100\n",
      "50000/50000 [==============================] - 2s 36us/step - loss: 0.9320 - accuracy: 0.6678 - val_loss: 1.5098 - val_accuracy: 0.5113\n",
      "Epoch 33/100\n",
      "50000/50000 [==============================] - 2s 36us/step - loss: 0.8889 - accuracy: 0.6840 - val_loss: 1.4596 - val_accuracy: 0.5292\n",
      "Epoch 34/100\n",
      "50000/50000 [==============================] - 2s 36us/step - loss: 0.8765 - accuracy: 0.6868 - val_loss: 1.5087 - val_accuracy: 0.5219\n",
      "Epoch 35/100\n",
      "50000/50000 [==============================] - 2s 36us/step - loss: 0.8668 - accuracy: 0.6906 - val_loss: 1.4933 - val_accuracy: 0.5286\n",
      "Epoch 36/100\n",
      "50000/50000 [==============================] - 2s 36us/step - loss: 0.8468 - accuracy: 0.6967 - val_loss: 1.5162 - val_accuracy: 0.5250\n",
      "Epoch 37/100\n",
      "50000/50000 [==============================] - 2s 37us/step - loss: 0.8198 - accuracy: 0.7076 - val_loss: 1.5228 - val_accuracy: 0.5161\n",
      "Epoch 38/100\n",
      "50000/50000 [==============================] - 2s 36us/step - loss: 0.8060 - accuracy: 0.7132 - val_loss: 1.5998 - val_accuracy: 0.5164\n",
      "Epoch 39/100\n",
      "50000/50000 [==============================] - 2s 36us/step - loss: 0.8011 - accuracy: 0.7149 - val_loss: 1.5814 - val_accuracy: 0.5177\n",
      "Epoch 40/100\n",
      "50000/50000 [==============================] - 2s 36us/step - loss: 0.7815 - accuracy: 0.7230 - val_loss: 1.5917 - val_accuracy: 0.5229\n",
      "Epoch 41/100\n",
      "50000/50000 [==============================] - 2s 36us/step - loss: 0.7684 - accuracy: 0.7262 - val_loss: 1.6063 - val_accuracy: 0.5091\n",
      "Epoch 42/100\n",
      "50000/50000 [==============================] - 2s 36us/step - loss: 0.7503 - accuracy: 0.7320 - val_loss: 1.6378 - val_accuracy: 0.5151\n",
      "Epoch 43/100\n",
      "50000/50000 [==============================] - 2s 36us/step - loss: 0.7286 - accuracy: 0.7414 - val_loss: 1.6664 - val_accuracy: 0.5161\n",
      "Epoch 44/100\n",
      "50000/50000 [==============================] - 2s 36us/step - loss: 0.7172 - accuracy: 0.7441 - val_loss: 1.7108 - val_accuracy: 0.5088\n",
      "Epoch 45/100\n",
      "50000/50000 [==============================] - 2s 35us/step - loss: 0.7029 - accuracy: 0.7479 - val_loss: 1.6963 - val_accuracy: 0.5184\n",
      "Epoch 46/100\n",
      "50000/50000 [==============================] - 2s 36us/step - loss: 0.6885 - accuracy: 0.7549 - val_loss: 1.6976 - val_accuracy: 0.5179\n",
      "Epoch 47/100\n",
      "50000/50000 [==============================] - 2s 36us/step - loss: 0.6809 - accuracy: 0.7572 - val_loss: 1.7612 - val_accuracy: 0.5119\n",
      "Epoch 48/100\n",
      "50000/50000 [==============================] - 2s 37us/step - loss: 0.6679 - accuracy: 0.7620 - val_loss: 1.7619 - val_accuracy: 0.5184\n",
      "Epoch 49/100\n",
      "50000/50000 [==============================] - 2s 37us/step - loss: 0.6470 - accuracy: 0.7695 - val_loss: 1.8002 - val_accuracy: 0.5092\n",
      "Epoch 50/100\n",
      "50000/50000 [==============================] - 2s 36us/step - loss: 0.6441 - accuracy: 0.7712 - val_loss: 1.8299 - val_accuracy: 0.5071\n",
      "Epoch 51/100\n",
      "50000/50000 [==============================] - 2s 37us/step - loss: 0.6256 - accuracy: 0.7783 - val_loss: 1.8226 - val_accuracy: 0.5220\n",
      "Epoch 52/100\n",
      "50000/50000 [==============================] - 2s 37us/step - loss: 0.6019 - accuracy: 0.7860 - val_loss: 1.8576 - val_accuracy: 0.5114\n",
      "Epoch 53/100\n",
      "50000/50000 [==============================] - 2s 36us/step - loss: 0.5966 - accuracy: 0.7874 - val_loss: 1.9092 - val_accuracy: 0.5089\n",
      "Epoch 54/100\n"
     ]
    },
    {
     "name": "stdout",
     "output_type": "stream",
     "text": [
      "50000/50000 [==============================] - 2s 36us/step - loss: 0.6000 - accuracy: 0.7856 - val_loss: 1.9580 - val_accuracy: 0.5031\n",
      "Epoch 55/100\n",
      "50000/50000 [==============================] - 2s 38us/step - loss: 0.5760 - accuracy: 0.7944 - val_loss: 1.9317 - val_accuracy: 0.5103\n",
      "Epoch 56/100\n",
      "50000/50000 [==============================] - 2s 36us/step - loss: 0.5695 - accuracy: 0.7970 - val_loss: 1.9433 - val_accuracy: 0.5167\n",
      "Epoch 57/100\n",
      "50000/50000 [==============================] - 2s 37us/step - loss: 0.5446 - accuracy: 0.8050 - val_loss: 2.0027 - val_accuracy: 0.5124\n",
      "Epoch 58/100\n",
      "50000/50000 [==============================] - 2s 36us/step - loss: 0.5483 - accuracy: 0.8045 - val_loss: 2.0063 - val_accuracy: 0.5067\n",
      "Epoch 59/100\n",
      "50000/50000 [==============================] - 2s 36us/step - loss: 0.5403 - accuracy: 0.8072 - val_loss: 2.0437 - val_accuracy: 0.5025\n",
      "Epoch 60/100\n",
      "50000/50000 [==============================] - 2s 36us/step - loss: 0.5284 - accuracy: 0.8114 - val_loss: 2.1067 - val_accuracy: 0.5076\n",
      "Epoch 61/100\n",
      "50000/50000 [==============================] - 2s 36us/step - loss: 0.5254 - accuracy: 0.8107 - val_loss: 2.1492 - val_accuracy: 0.5093\n",
      "Epoch 62/100\n",
      "50000/50000 [==============================] - 2s 36us/step - loss: 0.5010 - accuracy: 0.8220 - val_loss: 2.1550 - val_accuracy: 0.5041\n",
      "Epoch 63/100\n",
      "50000/50000 [==============================] - 2s 37us/step - loss: 0.4904 - accuracy: 0.8260 - val_loss: 2.2091 - val_accuracy: 0.5072\n",
      "Epoch 64/100\n",
      "50000/50000 [==============================] - 2s 37us/step - loss: 0.4926 - accuracy: 0.8235 - val_loss: 2.1932 - val_accuracy: 0.5032\n",
      "Epoch 65/100\n",
      "50000/50000 [==============================] - 2s 37us/step - loss: 0.4732 - accuracy: 0.8315 - val_loss: 2.2644 - val_accuracy: 0.5081\n",
      "Epoch 66/100\n",
      "50000/50000 [==============================] - 2s 37us/step - loss: 0.4588 - accuracy: 0.8348 - val_loss: 2.2824 - val_accuracy: 0.5125\n",
      "Epoch 67/100\n",
      "50000/50000 [==============================] - 2s 37us/step - loss: 0.4607 - accuracy: 0.8334 - val_loss: 2.3177 - val_accuracy: 0.5048\n",
      "Epoch 68/100\n",
      "50000/50000 [==============================] - 2s 37us/step - loss: 0.4585 - accuracy: 0.8372 - val_loss: 2.3966 - val_accuracy: 0.4982\n",
      "Epoch 69/100\n",
      "50000/50000 [==============================] - 2s 37us/step - loss: 0.4474 - accuracy: 0.8394 - val_loss: 2.3047 - val_accuracy: 0.5100\n",
      "Epoch 70/100\n",
      "50000/50000 [==============================] - 2s 37us/step - loss: 0.4420 - accuracy: 0.8436 - val_loss: 2.3396 - val_accuracy: 0.5074\n",
      "Epoch 71/100\n",
      "50000/50000 [==============================] - 2s 37us/step - loss: 0.4136 - accuracy: 0.8528 - val_loss: 2.3929 - val_accuracy: 0.5097\n",
      "Epoch 72/100\n",
      "50000/50000 [==============================] - 2s 37us/step - loss: 0.4256 - accuracy: 0.8494 - val_loss: 2.4719 - val_accuracy: 0.4977\n",
      "Epoch 73/100\n",
      "50000/50000 [==============================] - 2s 36us/step - loss: 0.4182 - accuracy: 0.8508 - val_loss: 2.4817 - val_accuracy: 0.5056\n",
      "Epoch 74/100\n",
      "50000/50000 [==============================] - 2s 36us/step - loss: 0.4019 - accuracy: 0.8558 - val_loss: 2.5109 - val_accuracy: 0.5042\n",
      "Epoch 75/100\n",
      "50000/50000 [==============================] - 2s 36us/step - loss: 0.3989 - accuracy: 0.8580 - val_loss: 2.5386 - val_accuracy: 0.5102\n",
      "Epoch 76/100\n",
      "50000/50000 [==============================] - 2s 36us/step - loss: 0.3841 - accuracy: 0.8622 - val_loss: 2.5498 - val_accuracy: 0.5053\n",
      "Epoch 77/100\n",
      "50000/50000 [==============================] - 2s 37us/step - loss: 0.3750 - accuracy: 0.8658 - val_loss: 2.6468 - val_accuracy: 0.5008\n",
      "Epoch 78/100\n",
      "50000/50000 [==============================] - 2s 37us/step - loss: 0.3901 - accuracy: 0.8592 - val_loss: 2.6555 - val_accuracy: 0.5030\n",
      "Epoch 79/100\n",
      "50000/50000 [==============================] - 2s 37us/step - loss: 0.3876 - accuracy: 0.8610 - val_loss: 2.6848 - val_accuracy: 0.5037\n",
      "Epoch 80/100\n",
      "50000/50000 [==============================] - 2s 37us/step - loss: 0.3794 - accuracy: 0.8639 - val_loss: 2.7334 - val_accuracy: 0.5041\n",
      "Epoch 81/100\n",
      "50000/50000 [==============================] - 2s 36us/step - loss: 0.3632 - accuracy: 0.8695 - val_loss: 2.7544 - val_accuracy: 0.5053\n",
      "Epoch 82/100\n",
      "50000/50000 [==============================] - 2s 36us/step - loss: 0.3482 - accuracy: 0.8762 - val_loss: 2.7730 - val_accuracy: 0.4999\n",
      "Epoch 83/100\n",
      "50000/50000 [==============================] - 2s 36us/step - loss: 0.3364 - accuracy: 0.8804 - val_loss: 2.8868 - val_accuracy: 0.4903\n",
      "Epoch 84/100\n",
      "50000/50000 [==============================] - 2s 37us/step - loss: 0.3760 - accuracy: 0.8643 - val_loss: 2.7289 - val_accuracy: 0.5078\n",
      "Epoch 85/100\n",
      "50000/50000 [==============================] - 2s 37us/step - loss: 0.3666 - accuracy: 0.8684 - val_loss: 2.8809 - val_accuracy: 0.4974\n",
      "Epoch 86/100\n",
      "50000/50000 [==============================] - 2s 36us/step - loss: 0.3513 - accuracy: 0.8739 - val_loss: 2.8985 - val_accuracy: 0.4972\n",
      "Epoch 87/100\n",
      "50000/50000 [==============================] - 2s 37us/step - loss: 0.3290 - accuracy: 0.8828 - val_loss: 2.9047 - val_accuracy: 0.5016\n",
      "Epoch 88/100\n",
      "50000/50000 [==============================] - 2s 37us/step - loss: 0.3204 - accuracy: 0.8866 - val_loss: 2.9498 - val_accuracy: 0.5042\n",
      "Epoch 89/100\n",
      "50000/50000 [==============================] - 2s 37us/step - loss: 0.3252 - accuracy: 0.8844 - val_loss: 2.9953 - val_accuracy: 0.4995\n",
      "Epoch 90/100\n",
      "50000/50000 [==============================] - 2s 37us/step - loss: 0.3009 - accuracy: 0.8921 - val_loss: 3.0879 - val_accuracy: 0.5018\n",
      "Epoch 91/100\n",
      "50000/50000 [==============================] - 2s 36us/step - loss: 0.3064 - accuracy: 0.8921 - val_loss: 3.2111 - val_accuracy: 0.4971\n",
      "Epoch 92/100\n",
      "50000/50000 [==============================] - 2s 37us/step - loss: 0.3127 - accuracy: 0.8876 - val_loss: 3.1590 - val_accuracy: 0.4975\n",
      "Epoch 93/100\n",
      "50000/50000 [==============================] - 2s 36us/step - loss: 0.3252 - accuracy: 0.8825 - val_loss: 3.1273 - val_accuracy: 0.5064\n",
      "Epoch 94/100\n",
      "50000/50000 [==============================] - 2s 37us/step - loss: 0.3287 - accuracy: 0.8833 - val_loss: 3.1144 - val_accuracy: 0.5004\n",
      "Epoch 95/100\n",
      "50000/50000 [==============================] - 2s 37us/step - loss: 0.2977 - accuracy: 0.8935 - val_loss: 3.1714 - val_accuracy: 0.5107\n",
      "Epoch 96/100\n",
      "50000/50000 [==============================] - 2s 37us/step - loss: 0.2841 - accuracy: 0.8984 - val_loss: 3.2500 - val_accuracy: 0.4966\n",
      "Epoch 97/100\n",
      "50000/50000 [==============================] - 2s 37us/step - loss: 0.2609 - accuracy: 0.9082 - val_loss: 3.2534 - val_accuracy: 0.4968\n",
      "Epoch 98/100\n",
      "50000/50000 [==============================] - 2s 37us/step - loss: 0.2792 - accuracy: 0.9010 - val_loss: 3.3122 - val_accuracy: 0.4915\n",
      "Epoch 99/100\n",
      "50000/50000 [==============================] - 2s 37us/step - loss: 0.3030 - accuracy: 0.8928 - val_loss: 3.3445 - val_accuracy: 0.4919\n",
      "Epoch 100/100\n",
      "50000/50000 [==============================] - 2s 37us/step - loss: 0.3134 - accuracy: 0.8878 - val_loss: 3.3009 - val_accuracy: 0.4999\n"
     ]
    },
    {
     "data": {
      "text/plain": [
       "<keras.callbacks.callbacks.History at 0x1c64a8bbe88>"
      ]
     },
     "execution_count": 11,
     "metadata": {},
     "output_type": "execute_result"
    }
   ],
   "source": [
    "model.fit(x_train, y_train, \n",
    "          epochs=EPOCHS, \n",
    "          batch_size=BATCH_SIZE, \n",
    "          validation_data=(x_test, y_test), \n",
    "          shuffle=True)"
   ]
  },
  {
   "cell_type": "code",
   "execution_count": 13,
   "metadata": {},
   "outputs": [
    {
     "data": {
      "image/png": "[encoded data removed]",
      "text/plain": [
       "<Figure size 432x288 with 1 Axes>"
      ]
     },
     "metadata": {
      "needs_background": "light"
     },
     "output_type": "display_data"
    },
    {
     "data": {
      "image/png": "[encoded data removed]",
      "text/plain": [
       "<Figure size 432x288 with 1 Axes>"
      ]
     },
     "metadata": {
      "needs_background": "light"
     },
     "output_type": "display_data"
    }
   ],
   "source": [
    "# 訓練模型並檢視驗證集的結果\n",
    "import matplotlib.pyplot as plt\n",
    "\n",
    "train_loss = model.history.history[\"loss\"]\n",
    "valid_loss = model.history.history[\"val_loss\"]\n",
    "\n",
    "train_acc = model.history.history[\"accuracy\"]\n",
    "valid_acc = model.history.history[\"val_accuracy\"]\n",
    "\n",
    "plt.plot(range(len(train_loss)), train_loss, label=\"train loss\")\n",
    "plt.plot(range(len(valid_loss)), valid_loss, label=\"valid loss\")\n",
    "plt.legend()\n",
    "plt.title(\"Loss\")\n",
    "plt.show()\n",
    "\n",
    "plt.plot(range(len(train_acc)), train_acc, label=\"train accuracy\")\n",
    "plt.plot(range(len(valid_acc)), valid_acc, label=\"valid accuracy\")\n",
    "plt.legend()\n",
    "plt.title(\"Accuracy\")\n",
    "plt.show()"
   ]
  },
  {
   "cell_type": "markdown",
   "metadata": {},
   "source": [
    "## Work\n",
    "1. 請嘗試將 preproc_x 替換成以每筆資料的 min/max 進行標準化至 -1 ~ 1 間，再進行訓練\n",
    "2. 請嘗試將 mlp 疊更深 (e.g 5~10 層)，進行訓練後觀察 learning curve 的走勢\n",
    "3. (optional) 請改用 GPU 進行訓練 (如果你有 GPU 的話)，比較使用 CPU 與 GPU 的訓練速度"
   ]
  }
 ],
 "metadata": {
  "kernelspec": {
   "display_name": "Python 3",
   "language": "python",
   "name": "python3"
  },
  "language_info": {
   "codemirror_mode": {
    "name": "ipython",
    "version": 3
   },
   "file_extension": ".py",
   "mimetype": "text/x-python",
   "name": "python",
   "nbconvert_exporter": "python",
   "pygments_lexer": "ipython3",
   "version": "3.7.7"
  }
 },
 "nbformat": 4,
 "nbformat_minor": 2
}
