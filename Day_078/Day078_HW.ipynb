{
 "cells": [
  {
   "cell_type": "markdown",
   "metadata": {},
   "source": [
    "## Work\n",
    "1. 請嘗試將 preproc_x 替換成以每筆資料的 min/max 進行標準化至 -1 ~ 1 間，再進行訓練\n",
    "2. 請嘗試將 mlp 疊更深 (e.g 5~10 層)，進行訓練後觀察 learning curve 的走勢\n",
    "3. (optional) 請改用 GPU 進行訓練 (如果你有 GPU 的話)，比較使用 CPU 與 GPU 的訓練速度"
   ]
  },
  {
   "cell_type": "code",
   "execution_count": 1,
   "metadata": {},
   "outputs": [
    {
     "name": "stdout",
     "output_type": "stream",
     "text": [
      "Thu Jun 25 01:17:37 2020       \n",
      "+-----------------------------------------------------------------------------+\n",
      "| NVIDIA-SMI 411.31                 Driver Version: 411.31                    |\n",
      "|-------------------------------+----------------------+----------------------+\n",
      "| GPU  Name            TCC/WDDM | Bus-Id        Disp.A | Volatile Uncorr. ECC |\n",
      "| Fan  Temp  Perf  Pwr:Usage/Cap|         Memory-Usage | GPU-Util  Compute M. |\n",
      "|===============================+======================+======================|\n",
      "|   0  GeForce GTX 1080   WDDM  | 00000000:01:00.0  On |                  N/A |\n",
      "|  0%   58C    P8    20W / 210W |    683MiB /  8192MiB |      9%      Default |\n",
      "+-------------------------------+----------------------+----------------------+\n",
      "                                                                               \n",
      "+-----------------------------------------------------------------------------+\n",
      "| Processes:                                                       GPU Memory |\n",
      "|  GPU       PID   Type   Process name                             Usage      |\n",
      "|=============================================================================|\n",
      "|    0      1084    C+G   Insufficient Permissions                   N/A      |\n",
      "|    0      2548    C+G   ...a\\Local\\Discord\\app-0.0.306\\Discord.exe N/A      |\n",
      "|    0      6884    C+G   Insufficient Permissions                   N/A      |\n",
      "|    0      7820    C+G   C:\\Windows\\explorer.exe                    N/A      |\n",
      "|    0      8264    C+G   ...dows.Cortana_cw5n1h2txyewy\\SearchUI.exe N/A      |\n",
      "|    0      8848    C+G   ...t_cw5n1h2txyewy\\ShellExperienceHost.exe N/A      |\n",
      "|    0     10712    C+G   ...6)\\Google\\Chrome\\Application\\chrome.exe N/A      |\n",
      "|    0     11400    C+G   ...AppData\\Local\\LINE\\bin\\current\\LINE.exe N/A      |\n",
      "+-----------------------------------------------------------------------------+\n"
     ]
    }
   ],
   "source": [
    "## \n",
    "\"\"\"\n",
    "Your code here (optional)\n",
    "確認硬體資源\n",
    "\"\"\"\n",
    "!nvidia-smi"
   ]
  },
  {
   "cell_type": "code",
   "execution_count": 2,
   "metadata": {},
   "outputs": [
    {
     "name": "stderr",
     "output_type": "stream",
     "text": [
      "Using TensorFlow backend.\n"
     ]
    }
   ],
   "source": [
    "import os\n",
    "import keras\n",
    "\n",
    "# 請嘗試設定 GPU：os.environ\n",
    "os.environ['CUDA_VISIBLE_DEVICES']= ''"
   ]
  },
  {
   "cell_type": "code",
   "execution_count": 3,
   "metadata": {},
   "outputs": [],
   "source": [
    "train, test = keras.datasets.cifar10.load_data()"
   ]
  },
  {
   "cell_type": "code",
   "execution_count": 4,
   "metadata": {},
   "outputs": [],
   "source": [
    "## 資料前處理\n",
    "\"\"\"\n",
    "Your code here\n",
    "\"\"\"\n",
    "from sklearn.preprocessing import MinMaxScaler\n",
    "\n",
    "def preproc_x(x, flatten=True):\n",
    "    x = 2*(((x - x.min()) / (x.max() - x.min()))-0.5)\n",
    "    if flatten:\n",
    "        x = x.reshape((len(x), -1))\n",
    "    return x\n",
    "\n",
    "def preproc_y(y, num_classes=10):\n",
    "    if y.shape[-1] == 1:\n",
    "        y = keras.utils.to_categorical(y, num_classes)\n",
    "    return y"
   ]
  },
  {
   "cell_type": "code",
   "execution_count": 5,
   "metadata": {},
   "outputs": [],
   "source": [
    "x_train, y_train = train\n",
    "x_test, y_test = test\n",
    "\n",
    "# Preproc the inputs\n",
    "x_train = preproc_x(x_train)\n",
    "x_test = preproc_x(x_test)\n",
    "\n",
    "# Preprc the outputs\n",
    "y_train = preproc_y(y_train)\n",
    "y_test = preproc_y(y_test)"
   ]
  },
  {
   "cell_type": "code",
   "execution_count": 6,
   "metadata": {},
   "outputs": [
    {
     "name": "stdout",
     "output_type": "stream",
     "text": [
      "WARNING:tensorflow:From C:\\ProgramData\\Anaconda3\\lib\\site-packages\\tensorflow_core\\python\\ops\\resource_variable_ops.py:1630: calling BaseResourceVariable.__init__ (from tensorflow.python.ops.resource_variable_ops) with constraint is deprecated and will be removed in a future version.\n",
      "Instructions for updating:\n",
      "If using Keras pass *_constraint arguments to layers.\n"
     ]
    }
   ],
   "source": [
    "\"\"\"Code Here\n",
    "建立你的神經網路\n",
    "\"\"\"\n",
    "def build_mlp(input_shape, output_units=10, num_neurons=[512, 256, 128, 128, 128]):\n",
    "    input_layer = keras.layers.Input(input_shape)\n",
    "    \n",
    "    for i, n_units in enumerate(num_neurons):\n",
    "        if i == 0:\n",
    "            x = keras.layers.Dense(units=n_units, activation=\"relu\", name=\"hidden_layer\"+str(i+1))(input_layer)\n",
    "        else:\n",
    "            x = keras.layers.Dense(units=n_units, activation=\"relu\", name=\"hidden_layer\"+str(i+1))(x)\n",
    "    \n",
    "    out = keras.layers.Dense(units=output_units, activation=\"softmax\", name=\"output\")(x)\n",
    "    \n",
    "    model = keras.models.Model(inputs=[input_layer], outputs=[out])\n",
    "    return model\n",
    "model= build_mlp(input_shape=x_train.shape[1:])"
   ]
  },
  {
   "cell_type": "code",
   "execution_count": 7,
   "metadata": {},
   "outputs": [
    {
     "name": "stdout",
     "output_type": "stream",
     "text": [
      "Model: \"model_1\"\n",
      "_________________________________________________________________\n",
      "Layer (type)                 Output Shape              Param #   \n",
      "=================================================================\n",
      "input_1 (InputLayer)         (None, 3072)              0         \n",
      "_________________________________________________________________\n",
      "hidden_layer1 (Dense)        (None, 512)               1573376   \n",
      "_________________________________________________________________\n",
      "hidden_layer2 (Dense)        (None, 256)               131328    \n",
      "_________________________________________________________________\n",
      "hidden_layer3 (Dense)        (None, 128)               32896     \n",
      "_________________________________________________________________\n",
      "hidden_layer4 (Dense)        (None, 128)               16512     \n",
      "_________________________________________________________________\n",
      "hidden_layer5 (Dense)        (None, 128)               16512     \n",
      "_________________________________________________________________\n",
      "output (Dense)               (None, 10)                1290      \n",
      "=================================================================\n",
      "Total params: 1,771,914\n",
      "Trainable params: 1,771,914\n",
      "Non-trainable params: 0\n",
      "_________________________________________________________________\n"
     ]
    },
    {
     "data": {
      "image/png": "[encoded data removed]",
      "text/plain": [
       "<IPython.core.display.Image object>"
      ]
     },
     "execution_count": 7,
     "metadata": {},
     "output_type": "execute_result"
    }
   ],
   "source": [
    "model.summary()\n",
    "from keras.utils import plot_model\n",
    "plot_model(model=model, to_file='model.png')"
   ]
  },
  {
   "cell_type": "code",
   "execution_count": 8,
   "metadata": {},
   "outputs": [],
   "source": [
    "## 超參數設定\n",
    "LEARNING_RATE = 0.001\n",
    "EPOCHS = 100\n",
    "BATCH_SIZE = 256"
   ]
  },
  {
   "cell_type": "code",
   "execution_count": 9,
   "metadata": {},
   "outputs": [],
   "source": [
    "optimizer = keras.optimizers.Adam(lr=0.01)\n",
    "model.compile(loss=\"categorical_crossentropy\", metrics=[\"accuracy\"], optimizer=optimizer)"
   ]
  },
  {
   "cell_type": "code",
   "execution_count": 10,
   "metadata": {},
   "outputs": [
    {
     "name": "stdout",
     "output_type": "stream",
     "text": [
      "WARNING:tensorflow:From C:\\ProgramData\\Anaconda3\\lib\\site-packages\\keras\\backend\\tensorflow_backend.py:422: The name tf.global_variables is deprecated. Please use tf.compat.v1.global_variables instead.\n",
      "\n",
      "Train on 50000 samples, validate on 10000 samples\n",
      "Epoch 1/100\n",
      "50000/50000 [==============================] - 2s 48us/step - loss: 2.0749 - accuracy: 0.3040 - val_loss: 1.6838 - val_accuracy: 0.3845\n",
      "Epoch 2/100\n",
      "50000/50000 [==============================] - 2s 38us/step - loss: 1.6217 - accuracy: 0.4204 - val_loss: 1.5750 - val_accuracy: 0.4429\n",
      "Epoch 3/100\n",
      "50000/50000 [==============================] - 2s 39us/step - loss: 1.5185 - accuracy: 0.4607 - val_loss: 1.5135 - val_accuracy: 0.4664\n",
      "Epoch 4/100\n",
      "50000/50000 [==============================] - 2s 40us/step - loss: 1.4460 - accuracy: 0.4897 - val_loss: 1.4603 - val_accuracy: 0.4765\n",
      "Epoch 5/100\n",
      "50000/50000 [==============================] - 2s 38us/step - loss: 1.4038 - accuracy: 0.5066 - val_loss: 1.4788 - val_accuracy: 0.4865\n",
      "Epoch 6/100\n",
      "50000/50000 [==============================] - 2s 41us/step - loss: 1.3698 - accuracy: 0.5163 - val_loss: 1.4808 - val_accuracy: 0.4846\n",
      "Epoch 7/100\n",
      "50000/50000 [==============================] - 2s 38us/step - loss: 1.3256 - accuracy: 0.5348 - val_loss: 1.4261 - val_accuracy: 0.5015\n",
      "Epoch 8/100\n",
      "50000/50000 [==============================] - 2s 39us/step - loss: 1.2976 - accuracy: 0.5476 - val_loss: 1.4797 - val_accuracy: 0.4919\n",
      "Epoch 9/100\n",
      "50000/50000 [==============================] - 2s 39us/step - loss: 1.2781 - accuracy: 0.5540 - val_loss: 1.4642 - val_accuracy: 0.4897\n",
      "Epoch 10/100\n",
      "50000/50000 [==============================] - 2s 39us/step - loss: 1.2482 - accuracy: 0.5654 - val_loss: 1.4573 - val_accuracy: 0.4997\n",
      "Epoch 11/100\n",
      "50000/50000 [==============================] - 2s 39us/step - loss: 1.2238 - accuracy: 0.5741 - val_loss: 1.4622 - val_accuracy: 0.5068\n",
      "Epoch 12/100\n",
      "50000/50000 [==============================] - 2s 40us/step - loss: 1.2074 - accuracy: 0.5811 - val_loss: 1.4216 - val_accuracy: 0.5042\n",
      "Epoch 13/100\n",
      "50000/50000 [==============================] - 2s 40us/step - loss: 1.1764 - accuracy: 0.5937 - val_loss: 1.5045 - val_accuracy: 0.4920\n",
      "Epoch 14/100\n",
      "50000/50000 [==============================] - 2s 40us/step - loss: 1.1795 - accuracy: 0.5955 - val_loss: 1.4909 - val_accuracy: 0.5046\n",
      "Epoch 15/100\n",
      "50000/50000 [==============================] - 2s 39us/step - loss: 1.1384 - accuracy: 0.6067 - val_loss: 1.4960 - val_accuracy: 0.5069\n",
      "Epoch 16/100\n",
      "50000/50000 [==============================] - 2s 40us/step - loss: 1.1099 - accuracy: 0.6165 - val_loss: 1.5146 - val_accuracy: 0.5073\n",
      "Epoch 17/100\n",
      "50000/50000 [==============================] - 2s 40us/step - loss: 1.0969 - accuracy: 0.6216 - val_loss: 1.5455 - val_accuracy: 0.4934\n",
      "Epoch 18/100\n",
      "50000/50000 [==============================] - 2s 39us/step - loss: 1.1082 - accuracy: 0.6205 - val_loss: 1.5053 - val_accuracy: 0.5195\n",
      "Epoch 19/100\n",
      "50000/50000 [==============================] - 2s 39us/step - loss: 1.0497 - accuracy: 0.6382 - val_loss: 1.5176 - val_accuracy: 0.5130\n",
      "Epoch 20/100\n",
      "50000/50000 [==============================] - 2s 40us/step - loss: 1.0484 - accuracy: 0.6390 - val_loss: 1.5509 - val_accuracy: 0.5111\n",
      "Epoch 21/100\n",
      "50000/50000 [==============================] - 2s 40us/step - loss: 1.0462 - accuracy: 0.6414 - val_loss: 1.5107 - val_accuracy: 0.5154\n",
      "Epoch 22/100\n",
      "50000/50000 [==============================] - 2s 41us/step - loss: 1.0141 - accuracy: 0.6513 - val_loss: 1.5421 - val_accuracy: 0.5186\n",
      "Epoch 23/100\n",
      "50000/50000 [==============================] - 2s 38us/step - loss: 0.9935 - accuracy: 0.6585 - val_loss: 1.5313 - val_accuracy: 0.5069\n",
      "Epoch 24/100\n",
      "50000/50000 [==============================] - 2s 38us/step - loss: 1.0339 - accuracy: 0.6457 - val_loss: 1.5901 - val_accuracy: 0.5055\n",
      "Epoch 25/100\n",
      "50000/50000 [==============================] - 2s 38us/step - loss: 1.0061 - accuracy: 0.6572 - val_loss: 1.5322 - val_accuracy: 0.5133\n",
      "Epoch 26/100\n",
      "50000/50000 [==============================] - 2s 39us/step - loss: 0.9755 - accuracy: 0.6661 - val_loss: 1.5907 - val_accuracy: 0.5053\n",
      "Epoch 27/100\n",
      "50000/50000 [==============================] - 2s 39us/step - loss: 0.9611 - accuracy: 0.6708 - val_loss: 1.5988 - val_accuracy: 0.5060\n",
      "Epoch 28/100\n",
      "50000/50000 [==============================] - 2s 38us/step - loss: 0.9495 - accuracy: 0.6747 - val_loss: 1.6081 - val_accuracy: 0.5122\n",
      "Epoch 29/100\n",
      "50000/50000 [==============================] - 2s 38us/step - loss: 0.9532 - accuracy: 0.6760 - val_loss: 1.6573 - val_accuracy: 0.5015\n",
      "Epoch 30/100\n",
      "50000/50000 [==============================] - 2s 40us/step - loss: 0.9472 - accuracy: 0.6775 - val_loss: 1.5877 - val_accuracy: 0.5085\n",
      "Epoch 31/100\n",
      "50000/50000 [==============================] - 2s 39us/step - loss: 0.9314 - accuracy: 0.6831 - val_loss: 1.6309 - val_accuracy: 0.5070\n",
      "Epoch 32/100\n",
      "50000/50000 [==============================] - 2s 38us/step - loss: 0.9270 - accuracy: 0.6806 - val_loss: 1.5912 - val_accuracy: 0.5181\n",
      "Epoch 33/100\n",
      "50000/50000 [==============================] - 2s 39us/step - loss: 0.9100 - accuracy: 0.6925 - val_loss: 1.5997 - val_accuracy: 0.5120\n",
      "Epoch 34/100\n",
      "50000/50000 [==============================] - 2s 38us/step - loss: 0.8912 - accuracy: 0.6956 - val_loss: 1.6538 - val_accuracy: 0.5191\n",
      "Epoch 35/100\n",
      "50000/50000 [==============================] - 2s 38us/step - loss: 0.9100 - accuracy: 0.6928 - val_loss: 1.7185 - val_accuracy: 0.5083\n",
      "Epoch 36/100\n",
      "50000/50000 [==============================] - 2s 38us/step - loss: 0.8879 - accuracy: 0.6955 - val_loss: 1.6734 - val_accuracy: 0.5190\n",
      "Epoch 37/100\n",
      "50000/50000 [==============================] - 2s 38us/step - loss: 0.8671 - accuracy: 0.7063 - val_loss: 1.6204 - val_accuracy: 0.5185\n",
      "Epoch 38/100\n",
      "50000/50000 [==============================] - 2s 38us/step - loss: 0.9074 - accuracy: 0.6924 - val_loss: 1.6952 - val_accuracy: 0.4926\n",
      "Epoch 39/100\n",
      "50000/50000 [==============================] - 2s 38us/step - loss: 0.9009 - accuracy: 0.6938 - val_loss: 1.6344 - val_accuracy: 0.5020\n",
      "Epoch 40/100\n",
      "50000/50000 [==============================] - 2s 38us/step - loss: 0.8892 - accuracy: 0.6965 - val_loss: 1.7077 - val_accuracy: 0.5021\n",
      "Epoch 41/100\n",
      "50000/50000 [==============================] - 2s 38us/step - loss: 0.9387 - accuracy: 0.6829 - val_loss: 1.6475 - val_accuracy: 0.5022\n",
      "Epoch 42/100\n",
      "50000/50000 [==============================] - 2s 38us/step - loss: 0.9185 - accuracy: 0.6892 - val_loss: 1.6147 - val_accuracy: 0.5077\n",
      "Epoch 43/100\n",
      "50000/50000 [==============================] - 2s 39us/step - loss: 0.8855 - accuracy: 0.6978 - val_loss: 1.7187 - val_accuracy: 0.5064\n",
      "Epoch 44/100\n",
      "50000/50000 [==============================] - 2s 39us/step - loss: 0.8617 - accuracy: 0.7070 - val_loss: 1.7139 - val_accuracy: 0.5071\n",
      "Epoch 45/100\n",
      "50000/50000 [==============================] - 2s 38us/step - loss: 0.8595 - accuracy: 0.7078 - val_loss: 1.7693 - val_accuracy: 0.5068\n",
      "Epoch 46/100\n",
      "50000/50000 [==============================] - 2s 38us/step - loss: 0.8962 - accuracy: 0.6969 - val_loss: 1.6777 - val_accuracy: 0.4899\n",
      "Epoch 47/100\n",
      "50000/50000 [==============================] - 2s 38us/step - loss: 0.9403 - accuracy: 0.6844 - val_loss: 2.0181 - val_accuracy: 0.3831\n",
      "Epoch 48/100\n",
      "50000/50000 [==============================] - 2s 38us/step - loss: 1.1294 - accuracy: 0.6140 - val_loss: 1.7088 - val_accuracy: 0.4644\n",
      "Epoch 49/100\n",
      "50000/50000 [==============================] - 2s 38us/step - loss: 1.0152 - accuracy: 0.6563 - val_loss: 1.6867 - val_accuracy: 0.4870\n",
      "Epoch 50/100\n",
      "50000/50000 [==============================] - 2s 38us/step - loss: 0.9996 - accuracy: 0.6629 - val_loss: 1.8081 - val_accuracy: 0.5111\n",
      "Epoch 51/100\n",
      "50000/50000 [==============================] - 2s 38us/step - loss: 0.8836 - accuracy: 0.6979 - val_loss: 1.7112 - val_accuracy: 0.4997\n",
      "Epoch 52/100\n",
      "50000/50000 [==============================] - 2s 38us/step - loss: 0.8714 - accuracy: 0.7007 - val_loss: 1.7322 - val_accuracy: 0.5093\n",
      "Epoch 53/100\n",
      "50000/50000 [==============================] - 2s 37us/step - loss: 1.1095 - accuracy: 0.6215 - val_loss: 1.7006 - val_accuracy: 0.4597\n",
      "Epoch 54/100\n"
     ]
    },
    {
     "name": "stdout",
     "output_type": "stream",
     "text": [
      "50000/50000 [==============================] - 2s 38us/step - loss: 1.1355 - accuracy: 0.6136 - val_loss: 1.7187 - val_accuracy: 0.4871\n",
      "Epoch 55/100\n",
      "50000/50000 [==============================] - 2s 38us/step - loss: 1.0283 - accuracy: 0.6554 - val_loss: 1.7376 - val_accuracy: 0.4689\n",
      "Epoch 56/100\n",
      "50000/50000 [==============================] - 2s 38us/step - loss: 1.0227 - accuracy: 0.6568 - val_loss: 1.6844 - val_accuracy: 0.4984\n",
      "Epoch 57/100\n",
      "50000/50000 [==============================] - 2s 38us/step - loss: 0.8906 - accuracy: 0.6951 - val_loss: 1.8261 - val_accuracy: 0.5169\n",
      "Epoch 58/100\n",
      "50000/50000 [==============================] - 2s 38us/step - loss: 1.0414 - accuracy: 0.6461 - val_loss: 1.8129 - val_accuracy: 0.3888\n",
      "Epoch 59/100\n",
      "50000/50000 [==============================] - 2s 39us/step - loss: 1.2093 - accuracy: 0.5831 - val_loss: 1.8358 - val_accuracy: 0.4271\n",
      "Epoch 60/100\n",
      "50000/50000 [==============================] - 2s 39us/step - loss: 1.3868 - accuracy: 0.5225 - val_loss: 1.8286 - val_accuracy: 0.4156\n",
      "Epoch 61/100\n",
      "50000/50000 [==============================] - 2s 38us/step - loss: 1.4707 - accuracy: 0.4893 - val_loss: 1.7202 - val_accuracy: 0.4214\n",
      "Epoch 62/100\n",
      "50000/50000 [==============================] - 2s 39us/step - loss: 1.4507 - accuracy: 0.5113 - val_loss: 1.7371 - val_accuracy: 0.4284\n",
      "Epoch 63/100\n",
      "50000/50000 [==============================] - 2s 37us/step - loss: 1.3959 - accuracy: 0.5177 - val_loss: 1.6961 - val_accuracy: 0.4301\n",
      "Epoch 64/100\n",
      "50000/50000 [==============================] - 2s 38us/step - loss: 1.4694 - accuracy: 0.4841 - val_loss: 1.7173 - val_accuracy: 0.4205\n",
      "Epoch 65/100\n",
      "50000/50000 [==============================] - 2s 38us/step - loss: 1.3425 - accuracy: 0.5320 - val_loss: 1.7411 - val_accuracy: 0.4431\n",
      "Epoch 66/100\n",
      "50000/50000 [==============================] - 2s 37us/step - loss: 1.3130 - accuracy: 0.5403 - val_loss: 1.6996 - val_accuracy: 0.4522\n",
      "Epoch 67/100\n",
      "50000/50000 [==============================] - 2s 38us/step - loss: 1.2821 - accuracy: 0.5520 - val_loss: 1.6508 - val_accuracy: 0.4549\n",
      "Epoch 68/100\n",
      "50000/50000 [==============================] - 2s 37us/step - loss: 1.2210 - accuracy: 0.5744 - val_loss: 1.6585 - val_accuracy: 0.4451\n",
      "Epoch 69/100\n",
      "50000/50000 [==============================] - 2s 38us/step - loss: 1.1654 - accuracy: 0.5904 - val_loss: 1.6738 - val_accuracy: 0.4751\n",
      "Epoch 70/100\n",
      "50000/50000 [==============================] - 2s 38us/step - loss: 1.2283 - accuracy: 0.5758 - val_loss: 1.7205 - val_accuracy: 0.4575\n",
      "Epoch 71/100\n",
      "50000/50000 [==============================] - 2s 38us/step - loss: 1.3130 - accuracy: 0.5378 - val_loss: 1.7989 - val_accuracy: 0.3843\n",
      "Epoch 72/100\n",
      "50000/50000 [==============================] - 2s 38us/step - loss: 1.3655 - accuracy: 0.5212 - val_loss: 1.7092 - val_accuracy: 0.4304\n",
      "Epoch 73/100\n",
      "50000/50000 [==============================] - 2s 38us/step - loss: 1.2695 - accuracy: 0.5618 - val_loss: 1.6834 - val_accuracy: 0.4580\n",
      "Epoch 74/100\n",
      "50000/50000 [==============================] - 2s 38us/step - loss: 1.2915 - accuracy: 0.5540 - val_loss: 1.6989 - val_accuracy: 0.4609\n",
      "Epoch 75/100\n",
      "50000/50000 [==============================] - 2s 37us/step - loss: 1.2481 - accuracy: 0.5686 - val_loss: 1.6675 - val_accuracy: 0.4619\n",
      "Epoch 76/100\n",
      "50000/50000 [==============================] - 2s 38us/step - loss: 1.2932 - accuracy: 0.5552 - val_loss: 1.7125 - val_accuracy: 0.4291\n",
      "Epoch 77/100\n",
      "50000/50000 [==============================] - 2s 37us/step - loss: 1.4531 - accuracy: 0.5019 - val_loss: 1.7032 - val_accuracy: 0.4194\n",
      "Epoch 78/100\n",
      "50000/50000 [==============================] - 2s 39us/step - loss: 1.5120 - accuracy: 0.4725 - val_loss: 1.7384 - val_accuracy: 0.3963\n",
      "Epoch 79/100\n",
      "50000/50000 [==============================] - 2s 39us/step - loss: 1.4052 - accuracy: 0.5103 - val_loss: 1.7485 - val_accuracy: 0.4417\n",
      "Epoch 80/100\n",
      "50000/50000 [==============================] - 2s 38us/step - loss: 1.4542 - accuracy: 0.4967 - val_loss: 1.7057 - val_accuracy: 0.4400\n",
      "Epoch 81/100\n",
      "50000/50000 [==============================] - 2s 38us/step - loss: 1.3157 - accuracy: 0.5460 - val_loss: 1.6315 - val_accuracy: 0.4488\n",
      "Epoch 82/100\n",
      "50000/50000 [==============================] - 2s 38us/step - loss: 1.3774 - accuracy: 0.5263 - val_loss: 1.7263 - val_accuracy: 0.4301\n",
      "Epoch 83/100\n",
      "50000/50000 [==============================] - 2s 38us/step - loss: 1.2856 - accuracy: 0.5574 - val_loss: 1.6620 - val_accuracy: 0.4639\n",
      "Epoch 84/100\n",
      "50000/50000 [==============================] - 2s 41us/step - loss: 1.3974 - accuracy: 0.5129 - val_loss: 1.7578 - val_accuracy: 0.3895\n",
      "Epoch 85/100\n",
      "50000/50000 [==============================] - 2s 38us/step - loss: 1.4961 - accuracy: 0.4678 - val_loss: 1.7063 - val_accuracy: 0.4027\n",
      "Epoch 86/100\n",
      "50000/50000 [==============================] - 2s 39us/step - loss: 1.3689 - accuracy: 0.5167 - val_loss: 1.7079 - val_accuracy: 0.4499\n",
      "Epoch 87/100\n",
      "50000/50000 [==============================] - 2s 38us/step - loss: 1.3995 - accuracy: 0.5135 - val_loss: 1.6984 - val_accuracy: 0.3981\n",
      "Epoch 88/100\n",
      "50000/50000 [==============================] - 2s 40us/step - loss: 1.3735 - accuracy: 0.5166 - val_loss: 1.6686 - val_accuracy: 0.4463\n",
      "Epoch 89/100\n",
      "50000/50000 [==============================] - 2s 38us/step - loss: 1.3202 - accuracy: 0.5402 - val_loss: 1.7234 - val_accuracy: 0.4202\n",
      "Epoch 90/100\n",
      "50000/50000 [==============================] - 2s 38us/step - loss: 1.7353 - accuracy: 0.3674 - val_loss: 2.2383 - val_accuracy: 0.2597\n",
      "Epoch 91/100\n",
      "50000/50000 [==============================] - 2s 40us/step - loss: 1.9002 - accuracy: 0.3018 - val_loss: 1.9327 - val_accuracy: 0.3068\n",
      "Epoch 92/100\n",
      "50000/50000 [==============================] - 2s 39us/step - loss: 1.7984 - accuracy: 0.3373 - val_loss: 1.8921 - val_accuracy: 0.3067\n",
      "Epoch 93/100\n",
      "50000/50000 [==============================] - 2s 38us/step - loss: 1.7406 - accuracy: 0.3578 - val_loss: 1.8570 - val_accuracy: 0.3090\n",
      "Epoch 94/100\n",
      "50000/50000 [==============================] - 2s 38us/step - loss: 1.9108 - accuracy: 0.2857 - val_loss: 2.0259 - val_accuracy: 0.2400\n",
      "Epoch 95/100\n",
      "50000/50000 [==============================] - 2s 38us/step - loss: 2.0554 - accuracy: 0.2405 - val_loss: 2.1091 - val_accuracy: 0.2244\n",
      "Epoch 96/100\n",
      "50000/50000 [==============================] - 2s 38us/step - loss: 2.0617 - accuracy: 0.2401 - val_loss: 2.1280 - val_accuracy: 0.2378\n",
      "Epoch 97/100\n",
      "50000/50000 [==============================] - 2s 38us/step - loss: 2.0552 - accuracy: 0.2265 - val_loss: 2.1380 - val_accuracy: 0.1928\n",
      "Epoch 98/100\n",
      "50000/50000 [==============================] - 2s 38us/step - loss: 2.2660 - accuracy: 0.1475 - val_loss: 2.2407 - val_accuracy: 0.1260\n",
      "Epoch 99/100\n",
      "50000/50000 [==============================] - 2s 37us/step - loss: 2.2316 - accuracy: 0.1582 - val_loss: 2.2954 - val_accuracy: 0.1142\n",
      "Epoch 100/100\n",
      "50000/50000 [==============================] - 2s 38us/step - loss: 2.2700 - accuracy: 0.1426 - val_loss: 2.2563 - val_accuracy: 0.1473\n"
     ]
    },
    {
     "data": {
      "text/plain": [
       "<keras.callbacks.callbacks.History at 0x15f00efb0c8>"
      ]
     },
     "execution_count": 10,
     "metadata": {},
     "output_type": "execute_result"
    }
   ],
   "source": [
    "model.fit(x_train, y_train, \n",
    "          epochs=EPOCHS, \n",
    "          batch_size=BATCH_SIZE, \n",
    "          validation_data=(x_test, y_test), \n",
    "          shuffle=True)"
   ]
  },
  {
   "cell_type": "code",
   "execution_count": 12,
   "metadata": {},
   "outputs": [
    {
     "data": {
      "image/png": "[encoded data removed]",
      "text/plain": [
       "<Figure size 432x288 with 1 Axes>"
      ]
     },
     "metadata": {
      "needs_background": "light"
     },
     "output_type": "display_data"
    },
    {
     "data": {
      "image/png": "[encoded data removed]",
      "text/plain": [
       "<Figure size 432x288 with 1 Axes>"
      ]
     },
     "metadata": {
      "needs_background": "light"
     },
     "output_type": "display_data"
    }
   ],
   "source": [
    "import matplotlib.pyplot as plt\n",
    "\n",
    "\n",
    "train_loss = model.history.history[\"loss\"]\n",
    "valid_loss = model.history.history[\"val_loss\"]\n",
    "\n",
    "train_acc = model.history.history[\"accuracy\"]\n",
    "valid_acc = model.history.history[\"val_accuracy\"]\n",
    "\n",
    "plt.plot(range(len(train_loss)), train_loss, label=\"train loss\")\n",
    "plt.plot(range(len(valid_loss)), valid_loss, label=\"valid loss\")\n",
    "plt.legend()\n",
    "plt.title(\"Loss\")\n",
    "plt.show()\n",
    "\n",
    "plt.plot(range(len(train_acc)), train_acc, label=\"train accuracy\")\n",
    "plt.plot(range(len(valid_acc)), valid_acc, label=\"valid accuracy\")\n",
    "plt.legend()\n",
    "plt.title(\"Accuracy\")\n",
    "plt.show()"
   ]
  },
  {
   "cell_type": "code",
   "execution_count": null,
   "metadata": {},
   "outputs": [],
   "source": []
  }
 ],
 "metadata": {
  "kernelspec": {
   "display_name": "Python 3",
   "language": "python",
   "name": "python3"
  },
  "language_info": {
   "codemirror_mode": {
    "name": "ipython",
    "version": 3
   },
   "file_extension": ".py",
   "mimetype": "text/x-python",
   "name": "python",
   "nbconvert_exporter": "python",
   "pygments_lexer": "ipython3",
   "version": "3.7.7"
  }
 },
 "nbformat": 4,
 "nbformat_minor": 2
}
