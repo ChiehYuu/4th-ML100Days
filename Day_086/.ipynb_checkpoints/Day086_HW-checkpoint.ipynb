{
 "cells": [
  {
   "cell_type": "markdown",
   "metadata": {},
   "source": [
    "## Work\n",
    "1. 試比較 save_best_only 與否的差異\n",
    "2. 請僅存入將 save_weights_only 設定為 True, 並嘗試 reset ipynb 並將模型與權重重新建回並預測 x_test"
   ]
  },
  {
   "cell_type": "code",
   "execution_count": 13,
   "metadata": {},
   "outputs": [],
   "source": [
    "import os\n",
    "import keras\n",
    "\n",
    "# Disable GPU\n",
    "os.environ[\"CUDA_VISIBLE_DEVICES\"] = \"0\""
   ]
  },
  {
   "cell_type": "code",
   "execution_count": 14,
   "metadata": {},
   "outputs": [],
   "source": [
    "train, test = keras.datasets.cifar10.load_data()"
   ]
  },
  {
   "cell_type": "code",
   "execution_count": 15,
   "metadata": {},
   "outputs": [],
   "source": [
    "## 資料前處理\n",
    "def preproc_x(x, flatten=True):\n",
    "    x = x / 255.\n",
    "    if flatten:\n",
    "        x = x.reshape((len(x), -1))\n",
    "    return x\n",
    "\n",
    "def preproc_y(y, num_classes=10):\n",
    "    if y.shape[-1] == 1:\n",
    "        y = keras.utils.to_categorical(y, num_classes)\n",
    "    return y    "
   ]
  },
  {
   "cell_type": "code",
   "execution_count": 16,
   "metadata": {},
   "outputs": [],
   "source": [
    "x_train, y_train = train\n",
    "x_test, y_test = test\n",
    "\n",
    "# Preproc the inputs\n",
    "x_train = preproc_x(x_train)\n",
    "x_test = preproc_x(x_test)\n",
    "\n",
    "# Preprc the outputs\n",
    "y_train = preproc_y(y_train)\n",
    "y_test = preproc_y(y_test)"
   ]
  },
  {
   "cell_type": "code",
   "execution_count": 17,
   "metadata": {},
   "outputs": [],
   "source": [
    "from keras.layers import BatchNormalization\n",
    "def build_mlp(input_shape, output_units= 10, num_neurons= [512, 128, 32]):\n",
    "    \n",
    "    #輸入層\n",
    "    input_layer= keras.layers.Input(input_shape)\n",
    "    \n",
    "    #隱藏層\n",
    "    for i, n_units in enumerate(num_neurons):\n",
    "        if i == 0:\n",
    "            x= keras.layers.Dense(units=n_units,\n",
    "                                  activation='relu',\n",
    "                                  name='hidden_layers'+str(i+1))(input_layer)\n",
    "            x= BatchNormalization()(x)\n",
    "        else:\n",
    "            x= keras.layers.Dense(units=n_units,\n",
    "                                  activation='relu',\n",
    "                                  name='hidden_layers'+str(i+1))(x)\n",
    "            x= BatchNormalization()(x)\n",
    "    \n",
    "    #輸出層\n",
    "    output_layer= keras.layers.Dense(units=output_units,\n",
    "                                     activation='softmax',\n",
    "                                     name='output_layer')(x)\n",
    "    \n",
    "    #建模\n",
    "    model= keras.models.Model(inputs=[input_layer], outputs=[output_layer])    \n",
    "    return model"
   ]
  },
  {
   "cell_type": "code",
   "execution_count": 18,
   "metadata": {},
   "outputs": [],
   "source": [
    "Learning_rate= 1e-3\n",
    "Epochs= 50\n",
    "Batch_size= 500\n",
    "Momentum= 0.95"
   ]
  },
  {
   "cell_type": "code",
   "execution_count": 21,
   "metadata": {},
   "outputs": [
    {
     "data": {
      "text/plain": [
       "'1.15.0'"
      ]
     },
     "execution_count": 21,
     "metadata": {},
     "output_type": "execute_result"
    }
   ],
   "source": [
    "import tensorflow as tf\n",
    "tf.__version__"
   ]
  },
  {
   "cell_type": "code",
   "execution_count": 22,
   "metadata": {},
   "outputs": [],
   "source": [
    "# 載入 Callbacks\n",
    "from keras.callbacks import ModelCheckpoint\n",
    "\n",
    "model_checkpoint_1= ModelCheckpoint(filepath='./tmp.h5',\n",
    "                                    monitor='val_loss',\n",
    "                                    save_best_only=True)"
   ]
  },
  {
   "cell_type": "code",
   "execution_count": 19,
   "metadata": {
    "scrolled": true
   },
   "outputs": [
    {
     "name": "stdout",
     "output_type": "stream",
     "text": [
      "Model: \"model_1\"\n",
      "_________________________________________________________________\n",
      "Layer (type)                 Output Shape              Param #   \n",
      "=================================================================\n",
      "input_1 (InputLayer)         (None, 3072)              0         \n",
      "_________________________________________________________________\n",
      "hidden_layers1 (Dense)       (None, 512)               1573376   \n",
      "_________________________________________________________________\n",
      "batch_normalization_1 (Batch (None, 512)               2048      \n",
      "_________________________________________________________________\n",
      "hidden_layers2 (Dense)       (None, 128)               65664     \n",
      "_________________________________________________________________\n",
      "batch_normalization_2 (Batch (None, 128)               512       \n",
      "_________________________________________________________________\n",
      "hidden_layers3 (Dense)       (None, 32)                4128      \n",
      "_________________________________________________________________\n",
      "batch_normalization_3 (Batch (None, 32)                128       \n",
      "_________________________________________________________________\n",
      "output_layer (Dense)         (None, 10)                330       \n",
      "=================================================================\n",
      "Total params: 1,646,186\n",
      "Trainable params: 1,644,842\n",
      "Non-trainable params: 1,344\n",
      "_________________________________________________________________\n",
      "Train on 50000 samples, validate on 10000 samples\n",
      "Epoch 1/50\n",
      "50000/50000 [==============================] - 2s 38us/step - loss: 1.9829 - accuracy: 0.3132 - val_loss: 1.9715 - val_accuracy: 0.2873\n",
      "Epoch 2/50\n",
      "50000/50000 [==============================] - 2s 32us/step - loss: 1.6841 - accuracy: 0.4063 - val_loss: 1.7784 - val_accuracy: 0.3874\n",
      "Epoch 3/50\n",
      "50000/50000 [==============================] - 2s 31us/step - loss: 1.5894 - accuracy: 0.4394 - val_loss: 1.6656 - val_accuracy: 0.4167\n",
      "Epoch 4/50\n",
      "50000/50000 [==============================] - 2s 33us/step - loss: 1.5212 - accuracy: 0.4646 - val_loss: 1.6256 - val_accuracy: 0.4229\n",
      "Epoch 5/50\n",
      "50000/50000 [==============================] - 2s 31us/step - loss: 1.4698 - accuracy: 0.4835 - val_loss: 1.5653 - val_accuracy: 0.4461\n",
      "Epoch 6/50\n",
      "50000/50000 [==============================] - 2s 33us/step - loss: 1.4245 - accuracy: 0.5005 - val_loss: 1.5490 - val_accuracy: 0.4481\n",
      "Epoch 7/50\n",
      "50000/50000 [==============================] - 2s 33us/step - loss: 1.3842 - accuracy: 0.5162 - val_loss: 1.5413 - val_accuracy: 0.4519\n",
      "Epoch 8/50\n",
      "50000/50000 [==============================] - 2s 31us/step - loss: 1.3480 - accuracy: 0.5278 - val_loss: 1.5392 - val_accuracy: 0.4531\n",
      "Epoch 9/50\n",
      "50000/50000 [==============================] - 2s 31us/step - loss: 1.3139 - accuracy: 0.5392 - val_loss: 1.5015 - val_accuracy: 0.4679\n",
      "Epoch 10/50\n",
      "50000/50000 [==============================] - 2s 33us/step - loss: 1.2799 - accuracy: 0.5524 - val_loss: 1.5807 - val_accuracy: 0.4474\n",
      "Epoch 11/50\n",
      "50000/50000 [==============================] - 2s 31us/step - loss: 1.2482 - accuracy: 0.5640 - val_loss: 1.5121 - val_accuracy: 0.4643\n",
      "Epoch 12/50\n",
      "50000/50000 [==============================] - 2s 31us/step - loss: 1.2226 - accuracy: 0.5704 - val_loss: 1.5420 - val_accuracy: 0.4522\n",
      "Epoch 13/50\n",
      "50000/50000 [==============================] - 2s 31us/step - loss: 1.1906 - accuracy: 0.5831 - val_loss: 1.4842 - val_accuracy: 0.4744\n",
      "Epoch 14/50\n",
      "50000/50000 [==============================] - 2s 32us/step - loss: 1.1653 - accuracy: 0.5934 - val_loss: 1.5067 - val_accuracy: 0.4706\n",
      "Epoch 15/50\n",
      "50000/50000 [==============================] - 2s 33us/step - loss: 1.1389 - accuracy: 0.6025 - val_loss: 1.4971 - val_accuracy: 0.4785\n",
      "Epoch 16/50\n",
      "50000/50000 [==============================] - 2s 33us/step - loss: 1.1123 - accuracy: 0.6119 - val_loss: 1.5152 - val_accuracy: 0.4711\n",
      "Epoch 17/50\n",
      "50000/50000 [==============================] - 2s 32us/step - loss: 1.0848 - accuracy: 0.6197 - val_loss: 1.5165 - val_accuracy: 0.4758\n",
      "Epoch 18/50\n",
      "50000/50000 [==============================] - 2s 31us/step - loss: 1.0642 - accuracy: 0.6303 - val_loss: 1.5012 - val_accuracy: 0.4751\n",
      "Epoch 19/50\n",
      "50000/50000 [==============================] - 2s 31us/step - loss: 1.0336 - accuracy: 0.6404 - val_loss: 1.5127 - val_accuracy: 0.4808\n",
      "Epoch 20/50\n",
      "50000/50000 [==============================] - 2s 34us/step - loss: 1.0112 - accuracy: 0.6482 - val_loss: 1.5110 - val_accuracy: 0.4835\n",
      "Epoch 21/50\n",
      "50000/50000 [==============================] - 2s 32us/step - loss: 0.9871 - accuracy: 0.6586 - val_loss: 1.5395 - val_accuracy: 0.4700\n",
      "Epoch 22/50\n",
      "50000/50000 [==============================] - 2s 34us/step - loss: 0.9602 - accuracy: 0.6680 - val_loss: 1.5409 - val_accuracy: 0.4852\n",
      "Epoch 23/50\n",
      "50000/50000 [==============================] - 2s 33us/step - loss: 0.9414 - accuracy: 0.6756 - val_loss: 1.5669 - val_accuracy: 0.4711\n",
      "Epoch 24/50\n",
      "50000/50000 [==============================] - 2s 32us/step - loss: 0.9144 - accuracy: 0.6841 - val_loss: 1.5445 - val_accuracy: 0.4902\n",
      "Epoch 25/50\n",
      "50000/50000 [==============================] - 2s 34us/step - loss: 0.8929 - accuracy: 0.6918 - val_loss: 1.5419 - val_accuracy: 0.4894\n",
      "Epoch 26/50\n",
      "50000/50000 [==============================] - 2s 33us/step - loss: 0.8698 - accuracy: 0.7025 - val_loss: 1.5861 - val_accuracy: 0.4837\n",
      "Epoch 27/50\n",
      "50000/50000 [==============================] - 2s 32us/step - loss: 0.8484 - accuracy: 0.7090 - val_loss: 1.5824 - val_accuracy: 0.4799\n",
      "Epoch 28/50\n",
      "50000/50000 [==============================] - 2s 34us/step - loss: 0.8179 - accuracy: 0.7225 - val_loss: 1.5688 - val_accuracy: 0.4848\n",
      "Epoch 29/50\n",
      "50000/50000 [==============================] - 2s 33us/step - loss: 0.7980 - accuracy: 0.7291 - val_loss: 1.6191 - val_accuracy: 0.4767\n",
      "Epoch 30/50\n",
      "50000/50000 [==============================] - 2s 33us/step - loss: 0.7781 - accuracy: 0.7361 - val_loss: 1.6342 - val_accuracy: 0.4803\n",
      "Epoch 31/50\n",
      "50000/50000 [==============================] - 2s 31us/step - loss: 0.7590 - accuracy: 0.7428 - val_loss: 1.7157 - val_accuracy: 0.4671\n",
      "Epoch 32/50\n",
      "50000/50000 [==============================] - 2s 32us/step - loss: 0.7359 - accuracy: 0.7505 - val_loss: 1.7866 - val_accuracy: 0.4680\n",
      "Epoch 33/50\n",
      "50000/50000 [==============================] - 2s 35us/step - loss: 0.7196 - accuracy: 0.7588 - val_loss: 1.6835 - val_accuracy: 0.4810\n",
      "Epoch 34/50\n",
      "50000/50000 [==============================] - 2s 32us/step - loss: 0.6971 - accuracy: 0.7651 - val_loss: 1.6923 - val_accuracy: 0.4753\n",
      "Epoch 35/50\n",
      "50000/50000 [==============================] - 2s 33us/step - loss: 0.6739 - accuracy: 0.7735 - val_loss: 1.7606 - val_accuracy: 0.4713\n",
      "Epoch 36/50\n",
      "50000/50000 [==============================] - 2s 32us/step - loss: 0.6558 - accuracy: 0.7813 - val_loss: 1.8667 - val_accuracy: 0.4609\n",
      "Epoch 37/50\n",
      "50000/50000 [==============================] - 2s 32us/step - loss: 0.6345 - accuracy: 0.7892 - val_loss: 1.7603 - val_accuracy: 0.4693\n",
      "Epoch 38/50\n",
      "50000/50000 [==============================] - 2s 33us/step - loss: 0.6121 - accuracy: 0.7974 - val_loss: 1.7927 - val_accuracy: 0.4733\n",
      "Epoch 39/50\n",
      "50000/50000 [==============================] - 2s 32us/step - loss: 0.5930 - accuracy: 0.8032 - val_loss: 1.8297 - val_accuracy: 0.4697\n",
      "Epoch 40/50\n",
      "50000/50000 [==============================] - 2s 32us/step - loss: 0.5745 - accuracy: 0.8115 - val_loss: 1.8610 - val_accuracy: 0.4735\n",
      "Epoch 41/50\n",
      "50000/50000 [==============================] - 2s 36us/step - loss: 0.5585 - accuracy: 0.8162 - val_loss: 1.8469 - val_accuracy: 0.4713\n",
      "Epoch 42/50\n",
      "50000/50000 [==============================] - 2s 37us/step - loss: 0.5375 - accuracy: 0.8231 - val_loss: 1.9425 - val_accuracy: 0.4650\n",
      "Epoch 43/50\n",
      "50000/50000 [==============================] - 2s 32us/step - loss: 0.5150 - accuracy: 0.8337 - val_loss: 1.8953 - val_accuracy: 0.4691\n",
      "Epoch 44/50\n",
      "50000/50000 [==============================] - 2s 33us/step - loss: 0.5037 - accuracy: 0.8369 - val_loss: 1.9105 - val_accuracy: 0.4773\n",
      "Epoch 45/50\n",
      "50000/50000 [==============================] - 2s 31us/step - loss: 0.4788 - accuracy: 0.8473 - val_loss: 1.9604 - val_accuracy: 0.4669\n",
      "Epoch 46/50\n"
     ]
    },
    {
     "name": "stdout",
     "output_type": "stream",
     "text": [
      "50000/50000 [==============================] - 2s 32us/step - loss: 0.4683 - accuracy: 0.8484 - val_loss: 2.0532 - val_accuracy: 0.4589\n",
      "Epoch 47/50\n",
      "50000/50000 [==============================] - 2s 32us/step - loss: 0.4530 - accuracy: 0.8546 - val_loss: 2.0974 - val_accuracy: 0.4666\n",
      "Epoch 48/50\n",
      "50000/50000 [==============================] - 2s 32us/step - loss: 0.4376 - accuracy: 0.8609 - val_loss: 2.1907 - val_accuracy: 0.4550\n",
      "Epoch 49/50\n",
      "50000/50000 [==============================] - 2s 32us/step - loss: 0.4247 - accuracy: 0.8644 - val_loss: 2.0526 - val_accuracy: 0.4698\n",
      "Epoch 50/50\n",
      "50000/50000 [==============================] - 2s 32us/step - loss: 0.4091 - accuracy: 0.8710 - val_loss: 2.2428 - val_accuracy: 0.4498\n"
     ]
    }
   ],
   "source": [
    "#呼叫建模，設定係數及優化器，儲存過程數據\n",
    "#暫存字典\n",
    "results = {}\n",
    "keras.backend.clear_session()\n",
    "#呼叫模型\n",
    "model= build_mlp(input_shape= x_train.shape[1:])\n",
    "#呼叫模型概況\n",
    "model.summary()\n",
    "#設定優化器\n",
    "optimizer= keras.optimizers.SGD(lr= Learning_rate, nesterov= True, momentum= Momentum)\n",
    "#設定輸出結果\n",
    "model.compile(loss=\"categorical_crossentropy\", metrics=[\"accuracy\"], optimizer=optimizer)\n",
    "#機器學習\n",
    "model.fit(x_train,y_train,\n",
    "          epochs= Epochs,\n",
    "          batch_size= Batch_size,\n",
    "          validation_data= (x_test, y_test),\n",
    "          shuffle= True,\n",
    "          callbacks= [model_checkpoint_1])\n",
    "\n",
    "#儲存模型\n",
    "model.save('model_1.h5')\n",
    "model.save_weights('model_1_weights.h5')\n",
    "\n",
    "#資料蒐集\n",
    "train_loss= model.history.history['loss']\n",
    "valid_loss= model.history.history['val_loss']\n",
    "train_acc= model.history.history['accuracy']\n",
    "valid_acc= model.history.history['val_accuracy']\n",
    "\n",
    "model_1_pred= model.predict(x_test)"
   ]
  },
  {
   "cell_type": "code",
   "execution_count": 23,
   "metadata": {},
   "outputs": [
    {
     "name": "stdout",
     "output_type": "stream",
     "text": [
      "10000/10000 [==============================] - 1s 65us/step\n",
      "10000/10000 [==============================] - 1s 68us/step\n",
      "Best_loss:1.47847,2.24282\n",
      "Best_accuracy:0.48070,0.44980\n"
     ]
    }
   ],
   "source": [
    "# reload model & testing prediction\n",
    "model_loadback= keras.models.load_model('./tmp.h5')\n",
    "loss_lb_1, acc_lb_1= model_loadback.evaluate(x_test, y_test)\n",
    "model_loadback_ms= keras.models.load_model('./model_1.h5')\n",
    "loss_lb_2, acc_lb_2= model_loadback_ms.evaluate(x_test, y_test)\n",
    "print('Best_loss:%.5f,%.5f' % (loss_lb_1, loss_lb_2))\n",
    "print('Best_accuracy:%.5f,%.5f' % (acc_lb_1, acc_lb_2))\n",
    "\n",
    "#可以知道 model save是儲存最後一個模型，但是model checkpoint則是儲存最佳模型"
   ]
  },
  {
   "cell_type": "code",
   "execution_count": 26,
   "metadata": {
    "scrolled": true
   },
   "outputs": [
    {
     "data": {
      "image/png": "[encoded data removed]",
      "text/plain": [
       "<Figure size 432x288 with 1 Axes>"
      ]
     },
     "metadata": {
      "needs_background": "light"
     },
     "output_type": "display_data"
    },
    {
     "data": {
      "image/png": "[encoded data removed]",
      "text/plain": [
       "<Figure size 432x288 with 1 Axes>"
      ]
     },
     "metadata": {
      "needs_background": "light"
     },
     "output_type": "display_data"
    }
   ],
   "source": [
    "import matplotlib.pyplot as plt\n",
    "%matplotlib inline\n",
    "\n",
    "plt.plot(range(len(train_loss)), train_loss, label=\"train loss\")\n",
    "plt.plot(range(len(valid_loss)), valid_loss, label=\"valid loss\")\n",
    "plt.hlines(y=loss_lb_1, xmin=0, xmax=len(train_loss), colors='r', linestyles='--')\n",
    "plt.hlines(y=loss_lb_2, xmin=0, xmax=len(train_loss), colors='g', linestyles='--')\n",
    "\n",
    "plt.legend(loc='upper left', bbox_to_anchor=(1, 0.5))\n",
    "plt.title(\"Loss\")\n",
    "plt.show()\n",
    "\n",
    "plt.plot(range(len(train_acc)), train_acc, label=\"train accuracy\")\n",
    "plt.plot(range(len(valid_acc)), valid_acc, label=\"valid accuracy\")\n",
    "plt.hlines(y=acc_lb_1, xmin=0, xmax=len(train_loss), colors='r', linestyles='--')\n",
    "plt.hlines(y=acc_lb_2, xmin=0, xmax=len(train_loss), colors='g', linestyles='--')\n",
    "\n",
    "plt.legend(loc='upper left', bbox_to_anchor=(1, 0.5))\n",
    "plt.title(\"Accuracy\")\n",
    "plt.show()"
   ]
  },
  {
   "cell_type": "markdown",
   "metadata": {},
   "source": [
    "# Answer bonus"
   ]
  },
  {
   "cell_type": "code",
   "execution_count": 27,
   "metadata": {},
   "outputs": [
    {
     "name": "stdout",
     "output_type": "stream",
     "text": [
      "Accuracy of final weights: 0.450\n",
      "Accuracy of best weights: 0.481\n"
     ]
    }
   ],
   "source": [
    "from sklearn.metrics import accuracy_score\n",
    "\n",
    "pred_loadback= model_loadback.predict(x_test)\n",
    "\n",
    "final_model_acc = accuracy_score(y_true=y_test.argmax(axis=-1), y_pred=model_1_pred.argmax(axis=-1))\n",
    "loadback_acc = accuracy_score(y_true=y_test.argmax(axis=-1), y_pred=pred_loadback.argmax(axis=-1))\n",
    "\n",
    "print(\"Accuracy of final weights: %.3f\" % final_model_acc)\n",
    "print(\"Accuracy of best weights: %.3f\" % loadback_acc)"
   ]
  },
  {
   "cell_type": "code",
   "execution_count": 29,
   "metadata": {},
   "outputs": [
    {
     "name": "stdout",
     "output_type": "stream",
     "text": [
      "Accuracy of best weights: 0.105\n",
      "Accuracy of best weights: 0.450\n"
     ]
    }
   ],
   "source": [
    "new_model = build_mlp(input_shape=x_train.shape[1:])\n",
    "new_model_pred = new_model.predict(x_test)\n",
    "new_model_acc = accuracy_score(y_true=y_test.argmax(axis=-1), y_pred=new_model_pred.argmax(axis=-1))\n",
    "print(\"Accuracy of best weights: %.3f\" % new_model_acc)\n",
    "\n",
    "new_model.load_weights(\"./model_1_weights.h5\")\n",
    "new_model_pred = new_model.predict(x_test)\n",
    "new_model_loadback_acc = accuracy_score(y_true=y_test.argmax(axis=-1), y_pred=new_model_pred.argmax(axis=-1))\n",
    "print(\"Accuracy of best weights: %.3f\" % new_model_loadback_acc)"
   ]
  },
  {
   "cell_type": "code",
   "execution_count": null,
   "metadata": {},
   "outputs": [],
   "source": []
  }
 ],
 "metadata": {
  "kernelspec": {
   "display_name": "Python 3",
   "language": "python",
   "name": "python3"
  },
  "language_info": {
   "codemirror_mode": {
    "name": "ipython",
    "version": 3
   },
   "file_extension": ".py",
   "mimetype": "text/x-python",
   "name": "python",
   "nbconvert_exporter": "python",
   "pygments_lexer": "ipython3",
   "version": "3.7.7"
  }
 },
 "nbformat": 4,
 "nbformat_minor": 2
}
