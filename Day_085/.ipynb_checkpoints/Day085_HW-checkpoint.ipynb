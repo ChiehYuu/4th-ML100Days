{
 "cells": [
  {
   "cell_type": "markdown",
   "metadata": {},
   "source": [
    "## Work\n",
    "1. 試改變 monitor \"Validation Accuracy\" 並比較結果\n",
    "2. 調整 earlystop 的等待次數至 10, 25 並比較結果"
   ]
  },
  {
   "cell_type": "code",
   "execution_count": 1,
   "metadata": {},
   "outputs": [],
   "source": [
    "import os\n",
    "import keras\n",
    "import matplotlib.pyplot as plt\n",
    "%matplotlib inline\n",
    "\n",
    "\n",
    "# Disable GPU\n",
    "os.environ[\"CUDA_VISIBLE_DEVICES\"] = \"0\""
   ]
  },
  {
   "cell_type": "code",
   "execution_count": 2,
   "metadata": {},
   "outputs": [],
   "source": [
    "train, test = keras.datasets.cifar10.load_data()"
   ]
  },
  {
   "cell_type": "code",
   "execution_count": 3,
   "metadata": {},
   "outputs": [],
   "source": [
    "## 資料前處理\n",
    "def preproc_x(x, flatten=True):\n",
    "    x = x / 255.\n",
    "    if flatten:\n",
    "        x = x.reshape((len(x), -1))\n",
    "    return x\n",
    "\n",
    "def preproc_y(y, num_classes=10):\n",
    "    if y.shape[-1] == 1:\n",
    "        y = keras.utils.to_categorical(y, num_classes)\n",
    "    return y    "
   ]
  },
  {
   "cell_type": "code",
   "execution_count": 4,
   "metadata": {},
   "outputs": [],
   "source": [
    "x_train, y_train = train\n",
    "x_test, y_test = test\n",
    "\n",
    "# Preproc the inputs\n",
    "x_train = preproc_x(x_train)\n",
    "x_test = preproc_x(x_test)\n",
    "\n",
    "# Preprc the outputs\n",
    "y_train = preproc_y(y_train)\n",
    "y_test = preproc_y(y_test)"
   ]
  },
  {
   "cell_type": "code",
   "execution_count": 5,
   "metadata": {},
   "outputs": [],
   "source": [
    "from keras.layers import BatchNormalization\n",
    "def build_mlp(input_shape, output_units= 10, num_neurons= [512, 128, 32]):\n",
    "    \n",
    "    #輸入層\n",
    "    input_layer= keras.layers.Input(input_shape)\n",
    "    \n",
    "    #隱藏層\n",
    "    for i, n_units in enumerate(num_neurons):\n",
    "        if i==0:\n",
    "            x= keras.layers.Dense(units=n_units,\n",
    "                                  activation='relu',\n",
    "                                  name='hidden_layer'+str(i+1))(input_layer)\n",
    "            x= BatchNormalization()(x)\n",
    "        else:\n",
    "            x= keras.layers.Dense(units=n_units,\n",
    "                                  activation='relu',\n",
    "                                  name='hidden_layer'+str(i+1))(x)\n",
    "            x= BatchNormalization()(x)\n",
    "    \n",
    "    #輸出層\n",
    "    output_layer= keras.layers.Dense(units= output_units,\n",
    "                                     activation= 'softmax',\n",
    "                                     name= 'output_layer')(x)\n",
    "    \n",
    "    #建模\n",
    "    model= keras.models.Model(inputs=[input_layer], outputs=[output_layer])    \n",
    "    return model"
   ]
  },
  {
   "cell_type": "code",
   "execution_count": 6,
   "metadata": {},
   "outputs": [],
   "source": [
    "Learning_rate= 1e-3\n",
    "Epochs= 50 \n",
    "Batch_size= 1000\n",
    "Momentum= 0.95"
   ]
  },
  {
   "cell_type": "code",
   "execution_count": 7,
   "metadata": {},
   "outputs": [],
   "source": [
    "from keras.callbacks import EarlyStopping"
   ]
  },
  {
   "cell_type": "code",
   "execution_count": 8,
   "metadata": {},
   "outputs": [
    {
     "name": "stdout",
     "output_type": "stream",
     "text": [
      "WARNING:tensorflow:From C:\\ProgramData\\Anaconda3\\lib\\site-packages\\tensorflow_core\\python\\ops\\resource_variable_ops.py:1630: calling BaseResourceVariable.__init__ (from tensorflow.python.ops.resource_variable_ops) with constraint is deprecated and will be removed in a future version.\n",
      "Instructions for updating:\n",
      "If using Keras pass *_constraint arguments to layers.\n",
      "Model: \"model_1\"\n",
      "_________________________________________________________________\n",
      "Layer (type)                 Output Shape              Param #   \n",
      "=================================================================\n",
      "input_1 (InputLayer)         (None, 3072)              0         \n",
      "_________________________________________________________________\n",
      "hidden_layer1 (Dense)        (None, 512)               1573376   \n",
      "_________________________________________________________________\n",
      "batch_normalization_1 (Batch (None, 512)               2048      \n",
      "_________________________________________________________________\n",
      "hidden_layer2 (Dense)        (None, 128)               65664     \n",
      "_________________________________________________________________\n",
      "batch_normalization_2 (Batch (None, 128)               512       \n",
      "_________________________________________________________________\n",
      "hidden_layer3 (Dense)        (None, 32)                4128      \n",
      "_________________________________________________________________\n",
      "batch_normalization_3 (Batch (None, 32)                128       \n",
      "_________________________________________________________________\n",
      "output_layer (Dense)         (None, 10)                330       \n",
      "=================================================================\n",
      "Total params: 1,646,186\n",
      "Trainable params: 1,644,842\n",
      "Non-trainable params: 1,344\n",
      "_________________________________________________________________\n",
      "WARNING:tensorflow:From C:\\ProgramData\\Anaconda3\\lib\\site-packages\\keras\\backend\\tensorflow_backend.py:422: The name tf.global_variables is deprecated. Please use tf.compat.v1.global_variables instead.\n",
      "\n",
      "Train on 50000 samples, validate on 10000 samples\n",
      "Epoch 1/50\n",
      "50000/50000 [==============================] - 2s 40us/step - loss: 2.1827 - accuracy: 0.2589 - val_loss: 2.1334 - val_accuracy: 0.1976\n",
      "Epoch 2/50\n",
      "50000/50000 [==============================] - 1s 28us/step - loss: 1.8044 - accuracy: 0.3685 - val_loss: 2.0067 - val_accuracy: 0.2629\n",
      "Epoch 3/50\n",
      "50000/50000 [==============================] - 1s 29us/step - loss: 1.6930 - accuracy: 0.4090 - val_loss: 1.9102 - val_accuracy: 0.3197\n",
      "Epoch 4/50\n",
      "50000/50000 [==============================] - 1s 29us/step - loss: 1.6261 - accuracy: 0.4319 - val_loss: 1.7943 - val_accuracy: 0.3758\n",
      "Epoch 5/50\n",
      "50000/50000 [==============================] - 1s 30us/step - loss: 1.5756 - accuracy: 0.4491 - val_loss: 1.7147 - val_accuracy: 0.4033\n",
      "Epoch 6/50\n",
      "50000/50000 [==============================] - 1s 30us/step - loss: 1.5330 - accuracy: 0.4636 - val_loss: 1.6480 - val_accuracy: 0.4218\n",
      "Epoch 7/50\n",
      "50000/50000 [==============================] - 1s 29us/step - loss: 1.4981 - accuracy: 0.4764 - val_loss: 1.6082 - val_accuracy: 0.4372\n",
      "Epoch 8/50\n",
      "50000/50000 [==============================] - 1s 29us/step - loss: 1.4630 - accuracy: 0.4882 - val_loss: 1.5780 - val_accuracy: 0.4494\n",
      "Epoch 9/50\n",
      "50000/50000 [==============================] - 1s 29us/step - loss: 1.4349 - accuracy: 0.4982 - val_loss: 1.5617 - val_accuracy: 0.4471\n",
      "Epoch 10/50\n",
      "50000/50000 [==============================] - 2s 31us/step - loss: 1.4074 - accuracy: 0.5087 - val_loss: 1.5464 - val_accuracy: 0.4544\n",
      "Epoch 11/50\n",
      "50000/50000 [==============================] - 2s 32us/step - loss: 1.3820 - accuracy: 0.5176 - val_loss: 1.5232 - val_accuracy: 0.4654\n",
      "Epoch 12/50\n",
      "50000/50000 [==============================] - 1s 30us/step - loss: 1.3557 - accuracy: 0.5278 - val_loss: 1.5265 - val_accuracy: 0.4619\n",
      "Epoch 13/50\n",
      "50000/50000 [==============================] - 2s 31us/step - loss: 1.3326 - accuracy: 0.5354 - val_loss: 1.5174 - val_accuracy: 0.4617\n",
      "Epoch 14/50\n",
      "50000/50000 [==============================] - 2s 30us/step - loss: 1.3115 - accuracy: 0.5439 - val_loss: 1.5065 - val_accuracy: 0.4644\n",
      "Epoch 15/50\n",
      "50000/50000 [==============================] - 2s 31us/step - loss: 1.2891 - accuracy: 0.5524 - val_loss: 1.5086 - val_accuracy: 0.4697\n",
      "Epoch 16/50\n",
      "50000/50000 [==============================] - 1s 28us/step - loss: 1.2670 - accuracy: 0.5597 - val_loss: 1.4912 - val_accuracy: 0.4741\n",
      "Epoch 17/50\n",
      "50000/50000 [==============================] - 1s 29us/step - loss: 1.2447 - accuracy: 0.5693 - val_loss: 1.4902 - val_accuracy: 0.4779\n",
      "Epoch 18/50\n",
      "50000/50000 [==============================] - 1s 29us/step - loss: 1.2257 - accuracy: 0.5743 - val_loss: 1.5082 - val_accuracy: 0.4761\n",
      "Epoch 19/50\n",
      "50000/50000 [==============================] - 1s 29us/step - loss: 1.2064 - accuracy: 0.5819 - val_loss: 1.4883 - val_accuracy: 0.4776\n",
      "Epoch 20/50\n",
      "50000/50000 [==============================] - 1s 29us/step - loss: 1.1856 - accuracy: 0.5889 - val_loss: 1.4898 - val_accuracy: 0.4783\n",
      "Epoch 21/50\n",
      "50000/50000 [==============================] - 1s 29us/step - loss: 1.1647 - accuracy: 0.5965 - val_loss: 1.4987 - val_accuracy: 0.4682\n",
      "Epoch 22/50\n",
      "50000/50000 [==============================] - 1s 28us/step - loss: 1.1457 - accuracy: 0.6044 - val_loss: 1.4851 - val_accuracy: 0.4806\n",
      "Epoch 23/50\n",
      "50000/50000 [==============================] - 2s 31us/step - loss: 1.1268 - accuracy: 0.6103 - val_loss: 1.4770 - val_accuracy: 0.4829\n",
      "Epoch 24/50\n",
      "50000/50000 [==============================] - 1s 29us/step - loss: 1.1086 - accuracy: 0.6187 - val_loss: 1.4926 - val_accuracy: 0.4811\n",
      "Epoch 25/50\n",
      "50000/50000 [==============================] - 2s 33us/step - loss: 1.0909 - accuracy: 0.6226 - val_loss: 1.4888 - val_accuracy: 0.4770\n",
      "Epoch 26/50\n",
      "50000/50000 [==============================] - 2s 32us/step - loss: 1.0706 - accuracy: 0.6325 - val_loss: 1.4938 - val_accuracy: 0.4821\n",
      "Epoch 27/50\n",
      "50000/50000 [==============================] - 1s 30us/step - loss: 1.0514 - accuracy: 0.6397 - val_loss: 1.5027 - val_accuracy: 0.4829\n",
      "Epoch 28/50\n",
      "50000/50000 [==============================] - 1s 29us/step - loss: 1.0328 - accuracy: 0.6476 - val_loss: 1.5024 - val_accuracy: 0.4804\n",
      "Epoch 29/50\n",
      "50000/50000 [==============================] - 1s 30us/step - loss: 1.0154 - accuracy: 0.6517 - val_loss: 1.5287 - val_accuracy: 0.4817\n",
      "Epoch 30/50\n",
      "50000/50000 [==============================] - 1s 30us/step - loss: 0.9950 - accuracy: 0.6588 - val_loss: 1.4961 - val_accuracy: 0.4881\n",
      "Epoch 31/50\n",
      "50000/50000 [==============================] - 2s 30us/step - loss: 0.9747 - accuracy: 0.6686 - val_loss: 1.5128 - val_accuracy: 0.4818\n",
      "Epoch 32/50\n",
      "50000/50000 [==============================] - 1s 30us/step - loss: 0.9564 - accuracy: 0.6740 - val_loss: 1.5198 - val_accuracy: 0.4859\n",
      "Epoch 33/50\n",
      "50000/50000 [==============================] - 1s 30us/step - loss: 0.9409 - accuracy: 0.6803 - val_loss: 1.5365 - val_accuracy: 0.4831\n",
      "Epoch 34/50\n",
      "50000/50000 [==============================] - 1s 29us/step - loss: 0.9225 - accuracy: 0.6869 - val_loss: 1.5328 - val_accuracy: 0.4812\n",
      "Epoch 35/50\n",
      "50000/50000 [==============================] - 2s 30us/step - loss: 0.9001 - accuracy: 0.6957 - val_loss: 1.5317 - val_accuracy: 0.4857\n",
      "Epoch 36/50\n",
      "50000/50000 [==============================] - 2s 30us/step - loss: 0.8808 - accuracy: 0.7045 - val_loss: 1.5401 - val_accuracy: 0.4878\n",
      "Epoch 37/50\n",
      "50000/50000 [==============================] - 1s 30us/step - loss: 0.8646 - accuracy: 0.7090 - val_loss: 1.5571 - val_accuracy: 0.4837\n",
      "Epoch 38/50\n",
      "50000/50000 [==============================] - 2s 31us/step - loss: 0.8474 - accuracy: 0.7172 - val_loss: 1.5563 - val_accuracy: 0.4841\n",
      "Epoch 39/50\n",
      "50000/50000 [==============================] - 2s 30us/step - loss: 0.8286 - accuracy: 0.7222 - val_loss: 1.5722 - val_accuracy: 0.4861\n",
      "Epoch 40/50\n",
      "50000/50000 [==============================] - 1s 29us/step - loss: 0.8125 - accuracy: 0.7284 - val_loss: 1.5851 - val_accuracy: 0.4807\n",
      "Epoch 00040: early stopping\n"
     ]
    }
   ],
   "source": [
    "# 載入 Callbacks\n",
    "earlystop= EarlyStopping(monitor='val_accuracy',\n",
    "                         patience=10,\n",
    "                         verbose= 1)\n",
    "results = {}\n",
    "keras.backend.clear_session()\n",
    "model= build_mlp(input_shape= x_train.shape[1:])\n",
    "model.summary()\n",
    "opt= keras.optimizers.SGD(lr= Learning_rate, nesterov= True, momentum= Momentum)\n",
    "model.compile(loss= 'categorical_crossentropy', metrics= ['accuracy'], optimizer= opt)\n",
    "model.fit(x_train, y_train,\n",
    "          epochs= Epochs,\n",
    "          batch_size= Batch_size,\n",
    "          validation_data= (x_test, y_test),\n",
    "          shuffle= True,\n",
    "          callbacks= [earlystop])\n",
    "\n",
    "#Collecting Data\n",
    "train_loss= model.history.history['loss']\n",
    "valid_loss= model.history.history['val_loss']\n",
    "train_acc= model.history.history['accuracy']\n",
    "valid_acc= model.history.history['val_accuracy']"
   ]
  },
  {
   "cell_type": "code",
   "execution_count": 9,
   "metadata": {},
   "outputs": [
    {
     "data": {
      "image/png": "[encoded data removed]",
      "text/plain": [
       "<Figure size 432x288 with 1 Axes>"
      ]
     },
     "metadata": {
      "needs_background": "light"
     },
     "output_type": "display_data"
    },
    {
     "data": {
      "image/png": "[encoded data removed]",
      "text/plain": [
       "<Figure size 432x288 with 1 Axes>"
      ]
     },
     "metadata": {
      "needs_background": "light"
     },
     "output_type": "display_data"
    }
   ],
   "source": [
    "import matplotlib.pyplot as plt\n",
    "%matplotlib inline\n",
    "\n",
    "plt.plot(range(len(train_loss)), train_loss, label=\"train loss\")\n",
    "plt.plot(range(len(valid_loss)), valid_loss, label=\"valid loss\")\n",
    "plt.legend()\n",
    "plt.title(\"Loss\")\n",
    "plt.show()\n",
    "\n",
    "plt.plot(range(len(train_acc)), train_acc, label=\"train accuracy\")\n",
    "plt.plot(range(len(valid_acc)), valid_acc, label=\"valid accuracy\")\n",
    "plt.legend()\n",
    "plt.title(\"Accuracy\")\n",
    "plt.show()"
   ]
  },
  {
   "cell_type": "code",
   "execution_count": 10,
   "metadata": {},
   "outputs": [
    {
     "name": "stdout",
     "output_type": "stream",
     "text": [
      "Model: \"model_1\"\n",
      "_________________________________________________________________\n",
      "Layer (type)                 Output Shape              Param #   \n",
      "=================================================================\n",
      "input_1 (InputLayer)         (None, 3072)              0         \n",
      "_________________________________________________________________\n",
      "hidden_layer1 (Dense)        (None, 512)               1573376   \n",
      "_________________________________________________________________\n",
      "batch_normalization_1 (Batch (None, 512)               2048      \n",
      "_________________________________________________________________\n",
      "hidden_layer2 (Dense)        (None, 128)               65664     \n",
      "_________________________________________________________________\n",
      "batch_normalization_2 (Batch (None, 128)               512       \n",
      "_________________________________________________________________\n",
      "hidden_layer3 (Dense)        (None, 32)                4128      \n",
      "_________________________________________________________________\n",
      "batch_normalization_3 (Batch (None, 32)                128       \n",
      "_________________________________________________________________\n",
      "output_layer (Dense)         (None, 10)                330       \n",
      "=================================================================\n",
      "Total params: 1,646,186\n",
      "Trainable params: 1,644,842\n",
      "Non-trainable params: 1,344\n",
      "_________________________________________________________________\n",
      "Train on 50000 samples, validate on 10000 samples\n",
      "Epoch 1/50\n",
      "50000/50000 [==============================] - 2s 37us/step - loss: 2.2325 - accuracy: 0.2419 - val_loss: 2.1450 - val_accuracy: 0.1814\n",
      "Epoch 2/50\n",
      "50000/50000 [==============================] - 1s 28us/step - loss: 1.8217 - accuracy: 0.3642 - val_loss: 1.9785 - val_accuracy: 0.2847\n",
      "Epoch 3/50\n",
      "50000/50000 [==============================] - 1s 29us/step - loss: 1.7194 - accuracy: 0.4019 - val_loss: 1.8658 - val_accuracy: 0.3505\n",
      "Epoch 4/50\n",
      "50000/50000 [==============================] - 1s 29us/step - loss: 1.6551 - accuracy: 0.4232 - val_loss: 1.7894 - val_accuracy: 0.3909\n",
      "Epoch 5/50\n",
      "50000/50000 [==============================] - 1s 29us/step - loss: 1.6050 - accuracy: 0.4406 - val_loss: 1.7099 - val_accuracy: 0.4135\n",
      "Epoch 6/50\n",
      "50000/50000 [==============================] - 1s 29us/step - loss: 1.5631 - accuracy: 0.4548 - val_loss: 1.6652 - val_accuracy: 0.4250\n",
      "Epoch 7/50\n",
      "50000/50000 [==============================] - 1s 28us/step - loss: 1.5265 - accuracy: 0.4704 - val_loss: 1.6197 - val_accuracy: 0.4361\n",
      "Epoch 8/50\n",
      "50000/50000 [==============================] - 1s 29us/step - loss: 1.4934 - accuracy: 0.4800 - val_loss: 1.5954 - val_accuracy: 0.4423\n",
      "Epoch 9/50\n",
      "50000/50000 [==============================] - 1s 29us/step - loss: 1.4634 - accuracy: 0.4902 - val_loss: 1.5738 - val_accuracy: 0.4476\n",
      "Epoch 10/50\n",
      "50000/50000 [==============================] - 1s 28us/step - loss: 1.4338 - accuracy: 0.5015 - val_loss: 1.5637 - val_accuracy: 0.4513\n",
      "Epoch 11/50\n",
      "50000/50000 [==============================] - 1s 29us/step - loss: 1.4081 - accuracy: 0.5089 - val_loss: 1.5283 - val_accuracy: 0.4647\n",
      "Epoch 12/50\n",
      "50000/50000 [==============================] - 1s 28us/step - loss: 1.3827 - accuracy: 0.5194 - val_loss: 1.5272 - val_accuracy: 0.4614\n",
      "Epoch 13/50\n",
      "50000/50000 [==============================] - 1s 29us/step - loss: 1.3596 - accuracy: 0.5273 - val_loss: 1.5074 - val_accuracy: 0.4716\n",
      "Epoch 14/50\n",
      "50000/50000 [==============================] - 1s 29us/step - loss: 1.3355 - accuracy: 0.5349 - val_loss: 1.5116 - val_accuracy: 0.4700\n",
      "Epoch 15/50\n",
      "50000/50000 [==============================] - 1s 29us/step - loss: 1.3133 - accuracy: 0.5452 - val_loss: 1.5141 - val_accuracy: 0.4678\n",
      "Epoch 16/50\n",
      "50000/50000 [==============================] - 2s 30us/step - loss: 1.2912 - accuracy: 0.5517 - val_loss: 1.4902 - val_accuracy: 0.4794\n",
      "Epoch 17/50\n",
      "50000/50000 [==============================] - 1s 29us/step - loss: 1.2697 - accuracy: 0.5588 - val_loss: 1.5021 - val_accuracy: 0.4777\n",
      "Epoch 18/50\n",
      "50000/50000 [==============================] - 1s 29us/step - loss: 1.2497 - accuracy: 0.5662 - val_loss: 1.4822 - val_accuracy: 0.4771\n",
      "Epoch 19/50\n",
      "50000/50000 [==============================] - 1s 29us/step - loss: 1.2293 - accuracy: 0.5730 - val_loss: 1.4802 - val_accuracy: 0.4756\n",
      "Epoch 20/50\n",
      "50000/50000 [==============================] - 1s 29us/step - loss: 1.2087 - accuracy: 0.5809 - val_loss: 1.4799 - val_accuracy: 0.4770\n",
      "Epoch 21/50\n",
      "50000/50000 [==============================] - 1s 29us/step - loss: 1.1900 - accuracy: 0.5877 - val_loss: 1.4676 - val_accuracy: 0.4859\n",
      "Epoch 22/50\n",
      "50000/50000 [==============================] - 1s 29us/step - loss: 1.1699 - accuracy: 0.5961 - val_loss: 1.4909 - val_accuracy: 0.4788\n",
      "Epoch 23/50\n",
      "50000/50000 [==============================] - 1s 29us/step - loss: 1.1501 - accuracy: 0.6027 - val_loss: 1.4825 - val_accuracy: 0.4777\n",
      "Epoch 24/50\n",
      "50000/50000 [==============================] - 1s 28us/step - loss: 1.1296 - accuracy: 0.6114 - val_loss: 1.4801 - val_accuracy: 0.4857\n",
      "Epoch 25/50\n",
      "50000/50000 [==============================] - 1s 29us/step - loss: 1.1117 - accuracy: 0.6170 - val_loss: 1.4793 - val_accuracy: 0.4860\n",
      "Epoch 26/50\n",
      "50000/50000 [==============================] - 2s 30us/step - loss: 1.0913 - accuracy: 0.6235 - val_loss: 1.4732 - val_accuracy: 0.4877\n",
      "Epoch 27/50\n",
      "50000/50000 [==============================] - 2s 32us/step - loss: 1.0728 - accuracy: 0.6294 - val_loss: 1.4792 - val_accuracy: 0.4883\n",
      "Epoch 28/50\n",
      "50000/50000 [==============================] - 2s 31us/step - loss: 1.0540 - accuracy: 0.6386 - val_loss: 1.4778 - val_accuracy: 0.4912\n",
      "Epoch 29/50\n",
      "50000/50000 [==============================] - 1s 30us/step - loss: 1.0355 - accuracy: 0.6454 - val_loss: 1.4829 - val_accuracy: 0.4895\n",
      "Epoch 30/50\n",
      "50000/50000 [==============================] - 2s 31us/step - loss: 1.0162 - accuracy: 0.6514 - val_loss: 1.4994 - val_accuracy: 0.4850\n",
      "Epoch 31/50\n",
      "50000/50000 [==============================] - 2s 33us/step - loss: 0.9979 - accuracy: 0.6606 - val_loss: 1.4868 - val_accuracy: 0.4904\n",
      "Epoch 32/50\n",
      "50000/50000 [==============================] - 2s 31us/step - loss: 0.9791 - accuracy: 0.6670 - val_loss: 1.5033 - val_accuracy: 0.4836\n",
      "Epoch 33/50\n",
      "50000/50000 [==============================] - 2s 30us/step - loss: 0.9620 - accuracy: 0.6736 - val_loss: 1.5054 - val_accuracy: 0.4851\n",
      "Epoch 34/50\n",
      "50000/50000 [==============================] - 1s 30us/step - loss: 0.9446 - accuracy: 0.6797 - val_loss: 1.5196 - val_accuracy: 0.4830\n",
      "Epoch 35/50\n",
      "50000/50000 [==============================] - 1s 30us/step - loss: 0.9255 - accuracy: 0.6838 - val_loss: 1.5093 - val_accuracy: 0.4937\n",
      "Epoch 36/50\n",
      "50000/50000 [==============================] - 1s 30us/step - loss: 0.9072 - accuracy: 0.6950 - val_loss: 1.5144 - val_accuracy: 0.4848\n",
      "Epoch 37/50\n",
      "50000/50000 [==============================] - 2s 31us/step - loss: 0.8881 - accuracy: 0.7004 - val_loss: 1.5253 - val_accuracy: 0.4896\n",
      "Epoch 38/50\n",
      "50000/50000 [==============================] - 2s 30us/step - loss: 0.8700 - accuracy: 0.7059 - val_loss: 1.5336 - val_accuracy: 0.4875\n",
      "Epoch 39/50\n",
      "50000/50000 [==============================] - 2s 30us/step - loss: 0.8524 - accuracy: 0.7133 - val_loss: 1.5777 - val_accuracy: 0.4759\n",
      "Epoch 40/50\n",
      "50000/50000 [==============================] - 2s 31us/step - loss: 0.8349 - accuracy: 0.7216 - val_loss: 1.5631 - val_accuracy: 0.4847\n",
      "Epoch 41/50\n",
      "50000/50000 [==============================] - 2s 30us/step - loss: 0.8169 - accuracy: 0.7286 - val_loss: 1.5657 - val_accuracy: 0.4879\n",
      "Epoch 42/50\n",
      "50000/50000 [==============================] - 1s 30us/step - loss: 0.8000 - accuracy: 0.7333 - val_loss: 1.5789 - val_accuracy: 0.4822\n",
      "Epoch 43/50\n",
      "50000/50000 [==============================] - 1s 29us/step - loss: 0.7790 - accuracy: 0.7430 - val_loss: 1.5871 - val_accuracy: 0.4881\n",
      "Epoch 44/50\n",
      "50000/50000 [==============================] - 1s 29us/step - loss: 0.7640 - accuracy: 0.7473 - val_loss: 1.6220 - val_accuracy: 0.4844\n",
      "Epoch 45/50\n",
      "50000/50000 [==============================] - 2s 31us/step - loss: 0.7464 - accuracy: 0.7560 - val_loss: 1.6184 - val_accuracy: 0.4840\n",
      "Epoch 46/50\n"
     ]
    },
    {
     "name": "stdout",
     "output_type": "stream",
     "text": [
      "50000/50000 [==============================] - 2s 30us/step - loss: 0.7277 - accuracy: 0.7611 - val_loss: 1.6439 - val_accuracy: 0.4856\n",
      "Epoch 47/50\n",
      "50000/50000 [==============================] - 1s 30us/step - loss: 0.7110 - accuracy: 0.7685 - val_loss: 1.6469 - val_accuracy: 0.4842\n",
      "Epoch 48/50\n",
      "50000/50000 [==============================] - 1s 29us/step - loss: 0.6946 - accuracy: 0.7747 - val_loss: 1.6357 - val_accuracy: 0.4846\n",
      "Epoch 49/50\n",
      "50000/50000 [==============================] - 2s 30us/step - loss: 0.6771 - accuracy: 0.7811 - val_loss: 1.6891 - val_accuracy: 0.4736\n",
      "Epoch 50/50\n",
      "50000/50000 [==============================] - 1s 29us/step - loss: 0.6599 - accuracy: 0.7887 - val_loss: 1.6734 - val_accuracy: 0.4869\n"
     ]
    }
   ],
   "source": [
    "# 載入 Callbacks\n",
    "earlystop= EarlyStopping(monitor='val_accuracy',\n",
    "                         patience=25,\n",
    "                         verbose= 1)\n",
    "results = {}\n",
    "keras.backend.clear_session()\n",
    "model= build_mlp(input_shape= x_train.shape[1:])\n",
    "model.summary()\n",
    "opt= keras.optimizers.SGD(lr= Learning_rate, nesterov= True, momentum= Momentum)\n",
    "model.compile(loss= 'categorical_crossentropy', metrics= ['accuracy'], optimizer= opt)\n",
    "model.fit(x_train, y_train,\n",
    "          epochs= Epochs,\n",
    "          batch_size= Batch_size,\n",
    "          validation_data= (x_test, y_test),\n",
    "          shuffle= True,\n",
    "          callbacks= [earlystop])\n",
    "\n",
    "#Collecting Data\n",
    "train_loss= model.history.history['loss']\n",
    "valid_loss= model.history.history['val_loss']\n",
    "train_acc= model.history.history['accuracy']\n",
    "valid_acc= model.history.history['val_accuracy']"
   ]
  },
  {
   "cell_type": "code",
   "execution_count": 11,
   "metadata": {},
   "outputs": [
    {
     "data": {
      "image/png": "[encoded data removed]",
      "text/plain": [
       "<Figure size 432x288 with 1 Axes>"
      ]
     },
     "metadata": {
      "needs_background": "light"
     },
     "output_type": "display_data"
    },
    {
     "data": {
      "image/png": "[encoded data removed]",
      "text/plain": [
       "<Figure size 432x288 with 1 Axes>"
      ]
     },
     "metadata": {
      "needs_background": "light"
     },
     "output_type": "display_data"
    }
   ],
   "source": [
    "\n",
    "plt.plot(range(len(train_loss)), train_loss, label=\"train loss\")\n",
    "plt.plot(range(len(valid_loss)), valid_loss, label=\"valid loss\")\n",
    "plt.legend()\n",
    "plt.title(\"Loss\")\n",
    "plt.show()\n",
    "\n",
    "plt.plot(range(len(train_acc)), train_acc, label=\"train accuracy\")\n",
    "plt.plot(range(len(valid_acc)), valid_acc, label=\"valid accuracy\")\n",
    "plt.legend()\n",
    "plt.title(\"Accuracy\")\n",
    "plt.show()"
   ]
  },
  {
   "cell_type": "code",
   "execution_count": null,
   "metadata": {},
   "outputs": [],
   "source": []
  }
 ],
 "metadata": {
  "kernelspec": {
   "display_name": "Python 3",
   "language": "python",
   "name": "python3"
  },
  "language_info": {
   "codemirror_mode": {
    "name": "ipython",
    "version": 3
   },
   "file_extension": ".py",
   "mimetype": "text/x-python",
   "name": "python",
   "nbconvert_exporter": "python",
   "pygments_lexer": "ipython3",
   "version": "3.7.7"
  }
 },
 "nbformat": 4,
 "nbformat_minor": 2
}
