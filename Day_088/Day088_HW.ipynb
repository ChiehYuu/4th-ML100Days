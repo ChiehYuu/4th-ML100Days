{
 "cells": [
  {
   "cell_type": "markdown",
   "metadata": {},
   "source": [
    "## Work\n",
    "1. 請嘗試寫一個 callback 用來記錄各類別在訓練過程中，對驗證集的 True Positive 與 True Negative"
   ]
  },
  {
   "cell_type": "code",
   "execution_count": 1,
   "metadata": {},
   "outputs": [
    {
     "name": "stderr",
     "output_type": "stream",
     "text": [
      "Using TensorFlow backend.\n"
     ]
    }
   ],
   "source": [
    "import os\n",
    "import keras\n",
    "\n",
    "# Disable GPU\n",
    "os.environ[\"CUDA_VISIBLE_DEVICES\"] = \"0\""
   ]
  },
  {
   "cell_type": "code",
   "execution_count": 2,
   "metadata": {},
   "outputs": [],
   "source": [
    "train, test = keras.datasets.cifar10.load_data()"
   ]
  },
  {
   "cell_type": "code",
   "execution_count": 3,
   "metadata": {},
   "outputs": [],
   "source": [
    "## 資料前處理\n",
    "def preproc_x(x, flatten=True):\n",
    "    x = x / 255.\n",
    "    if flatten:\n",
    "        x = x.reshape((len(x), -1))\n",
    "    return x\n",
    "\n",
    "def preproc_y(y, num_classes=10):\n",
    "    if y.shape[-1] == 1:\n",
    "        y = keras.utils.to_categorical(y, num_classes)\n",
    "    return y    "
   ]
  },
  {
   "cell_type": "code",
   "execution_count": 4,
   "metadata": {},
   "outputs": [],
   "source": [
    "x_train, y_train = train\n",
    "x_test, y_test = test\n",
    "\n",
    "# Preproc the inputs\n",
    "x_train = preproc_x(x_train)\n",
    "x_test = preproc_x(x_test)\n",
    "\n",
    "# Preprc the outputs\n",
    "y_train = preproc_y(y_train)\n",
    "y_test = preproc_y(y_test)"
   ]
  },
  {
   "cell_type": "code",
   "execution_count": 24,
   "metadata": {},
   "outputs": [],
   "source": [
    "from keras.layers import BatchNormalization\n",
    "def build_mlp(input_shape, output_units=10, num_neurons=[256, 256, 256]):\n",
    "    input_layer = keras.layers.Input(input_shape)\n",
    "    \n",
    "    for i, n_units in enumerate(num_neurons):\n",
    "        if i == 0:\n",
    "            x = keras.layers.Dense(units=n_units, \n",
    "                                   activation=\"relu\", \n",
    "                                   name=\"hidden_layer\"+str(i+1))(input_layer)\n",
    "            x = BatchNormalization()(x)\n",
    "        else:\n",
    "            x = keras.layers.Dense(units=n_units, \n",
    "                                   activation=\"relu\", \n",
    "                                   name=\"hidden_layer\"+str(i+1))(x)\n",
    "            x = BatchNormalization()(x)\n",
    "    \n",
    "    out = keras.layers.Dense(units=output_units, activation=\"softmax\", name=\"output\")(x)\n",
    "    \n",
    "    model = keras.models.Model(inputs=[input_layer], outputs=[out])\n",
    "    return model"
   ]
  },
  {
   "cell_type": "code",
   "execution_count": 25,
   "metadata": {},
   "outputs": [],
   "source": [
    "## 超參數設定\n",
    "LEARNING_RATE = 1e-3\n",
    "EPOCHS = 25\n",
    "BATCH_SIZE = 1024\n",
    "MOMENTUM = 0.95"
   ]
  },
  {
   "cell_type": "code",
   "execution_count": 28,
   "metadata": {},
   "outputs": [],
   "source": [
    "# 載入 Callbacks\n",
    "from keras.callbacks import Callback\n",
    "\n",
    "# Record_fp_tp\n",
    "class Record_tp_tn(Callback):\n",
    "    def on_train_begin(self, epoch, logs = {}):\n",
    "        logs = logs or {}\n",
    "        record_items = [\"val_tp\", \"val_tn\"]\n",
    "        for i in record_items:\n",
    "            if i not in self.params['metrics']:\n",
    "                self.params['metrics'].append(i)\n",
    "    \n",
    "    def on_epoch_end(self, epoch, logs = {}, thres=0.5):\n",
    "        logs = logs or {}\n",
    "        y_true = self.validation_data[1].argmax(axis = 1)\n",
    "        y_pred = self.model.predict(self.validation_data[0])\n",
    "        y_pred = (y_pred[:, 1] >= thres) * 1\n",
    "        \n",
    "        val_tp = sum(y_true*y_pred)\n",
    "        val_tn = sum((y_true==0) & (y_pred==0))\n",
    "        \n",
    "        logs[\"val_tp\"] = val_tp\n",
    "        logs[\"val_tn\"] = val_tn\n",
    "        \n",
    "rec_tptn = Record_tp_tn()"
   ]
  },
  {
   "cell_type": "code",
   "execution_count": 29,
   "metadata": {
    "scrolled": true
   },
   "outputs": [
    {
     "name": "stdout",
     "output_type": "stream",
     "text": [
      "Model: \"model_2\"\n",
      "_________________________________________________________________\n",
      "Layer (type)                 Output Shape              Param #   \n",
      "=================================================================\n",
      "input_7 (InputLayer)         (None, 3072)              0         \n",
      "_________________________________________________________________\n",
      "hidden_layer1 (Dense)        (None, 256)               786688    \n",
      "_________________________________________________________________\n",
      "batch_normalization_19 (Batc (None, 256)               1024      \n",
      "_________________________________________________________________\n",
      "hidden_layer2 (Dense)        (None, 256)               65792     \n",
      "_________________________________________________________________\n",
      "batch_normalization_20 (Batc (None, 256)               1024      \n",
      "_________________________________________________________________\n",
      "hidden_layer3 (Dense)        (None, 256)               65792     \n",
      "_________________________________________________________________\n",
      "batch_normalization_21 (Batc (None, 256)               1024      \n",
      "_________________________________________________________________\n",
      "output (Dense)               (None, 10)                2570      \n",
      "=================================================================\n",
      "Total params: 923,914\n",
      "Trainable params: 922,378\n",
      "Non-trainable params: 1,536\n",
      "_________________________________________________________________\n",
      "Train on 50000 samples, validate on 10000 samples\n",
      "Epoch 1/25\n",
      "50000/50000 [==============================] - 2s 35us/step - loss: 2.2358 - accuracy: 0.2656 - val_loss: 2.1897 - val_accuracy: 0.1665\n",
      "Epoch 2/25\n",
      "50000/50000 [==============================] - 1s 26us/step - loss: 1.7485 - accuracy: 0.3940 - val_loss: 2.0074 - val_accuracy: 0.2720\n",
      "Epoch 3/25\n",
      "50000/50000 [==============================] - 1s 27us/step - loss: 1.6229 - accuracy: 0.4333 - val_loss: 1.8502 - val_accuracy: 0.3423\n",
      "Epoch 4/25\n",
      "50000/50000 [==============================] - 1s 30us/step - loss: 1.5479 - accuracy: 0.4584 - val_loss: 1.7220 - val_accuracy: 0.4028\n",
      "Epoch 5/25\n",
      "50000/50000 [==============================] - 2s 31us/step - loss: 1.4953 - accuracy: 0.4763 - val_loss: 1.6409 - val_accuracy: 0.4226\n",
      "Epoch 6/25\n",
      "50000/50000 [==============================] - 1s 28us/step - loss: 1.4508 - accuracy: 0.4947 - val_loss: 1.5763 - val_accuracy: 0.4508\n",
      "Epoch 7/25\n",
      "50000/50000 [==============================] - 1s 27us/step - loss: 1.4157 - accuracy: 0.5072 - val_loss: 1.5427 - val_accuracy: 0.4571\n",
      "Epoch 8/25\n",
      "50000/50000 [==============================] - 2s 32us/step - loss: 1.3828 - accuracy: 0.5173 - val_loss: 1.5139 - val_accuracy: 0.4692\n",
      "Epoch 9/25\n",
      "50000/50000 [==============================] - 1s 30us/step - loss: 1.3529 - accuracy: 0.5298 - val_loss: 1.5048 - val_accuracy: 0.4722\n",
      "Epoch 10/25\n",
      "50000/50000 [==============================] - 2s 32us/step - loss: 1.3258 - accuracy: 0.5381 - val_loss: 1.4808 - val_accuracy: 0.4798\n",
      "Epoch 11/25\n",
      "50000/50000 [==============================] - 1s 28us/step - loss: 1.3006 - accuracy: 0.5479 - val_loss: 1.4710 - val_accuracy: 0.4795\n",
      "Epoch 12/25\n",
      "50000/50000 [==============================] - 1s 27us/step - loss: 1.2758 - accuracy: 0.5571 - val_loss: 1.4717 - val_accuracy: 0.4827\n",
      "Epoch 13/25\n",
      "50000/50000 [==============================] - 1s 27us/step - loss: 1.2550 - accuracy: 0.5646 - val_loss: 1.4807 - val_accuracy: 0.4833\n",
      "Epoch 14/25\n",
      "50000/50000 [==============================] - 1s 27us/step - loss: 1.2333 - accuracy: 0.5728 - val_loss: 1.4596 - val_accuracy: 0.4914\n",
      "Epoch 15/25\n",
      "50000/50000 [==============================] - 2s 31us/step - loss: 1.2119 - accuracy: 0.5798 - val_loss: 1.4609 - val_accuracy: 0.4879\n",
      "Epoch 16/25\n",
      "50000/50000 [==============================] - 2s 31us/step - loss: 1.1938 - accuracy: 0.5895 - val_loss: 1.4496 - val_accuracy: 0.4910\n",
      "Epoch 17/25\n",
      "50000/50000 [==============================] - 1s 27us/step - loss: 1.1733 - accuracy: 0.5954 - val_loss: 1.4405 - val_accuracy: 0.4933\n",
      "Epoch 18/25\n",
      "50000/50000 [==============================] - 2s 31us/step - loss: 1.1547 - accuracy: 0.6023 - val_loss: 1.4608 - val_accuracy: 0.4862\n",
      "Epoch 19/25\n",
      "50000/50000 [==============================] - 1s 27us/step - loss: 1.1362 - accuracy: 0.6095 - val_loss: 1.4453 - val_accuracy: 0.4964\n",
      "Epoch 20/25\n",
      "50000/50000 [==============================] - 2s 30us/step - loss: 1.1171 - accuracy: 0.6176 - val_loss: 1.4463 - val_accuracy: 0.4955\n",
      "Epoch 21/25\n",
      "50000/50000 [==============================] - 1s 27us/step - loss: 1.0995 - accuracy: 0.6236 - val_loss: 1.4419 - val_accuracy: 0.4967\n",
      "Epoch 22/25\n",
      "50000/50000 [==============================] - 2s 32us/step - loss: 1.0815 - accuracy: 0.6291 - val_loss: 1.4391 - val_accuracy: 0.4996\n",
      "Epoch 23/25\n",
      "50000/50000 [==============================] - 2s 31us/step - loss: 1.0645 - accuracy: 0.6366 - val_loss: 1.4409 - val_accuracy: 0.4964\n",
      "Epoch 24/25\n",
      "50000/50000 [==============================] - 1s 27us/step - loss: 1.0481 - accuracy: 0.6429 - val_loss: 1.4428 - val_accuracy: 0.4909\n",
      "Epoch 25/25\n",
      "50000/50000 [==============================] - 2s 31us/step - loss: 1.0309 - accuracy: 0.6497 - val_loss: 1.4578 - val_accuracy: 0.4963\n"
     ]
    }
   ],
   "source": [
    "model = build_mlp(input_shape=x_train.shape[1:])\n",
    "model.summary()\n",
    "optimizer = keras.optimizers.SGD(lr=LEARNING_RATE, nesterov=True, momentum=MOMENTUM)\n",
    "model.compile(loss=\"categorical_crossentropy\", metrics=[\"accuracy\"], optimizer=optimizer)\n",
    "model.fit(x_train, y_train, \n",
    "          epochs=EPOCHS, \n",
    "          batch_size=BATCH_SIZE, \n",
    "          validation_data=(x_test, y_test), \n",
    "          shuffle=True,\n",
    "          callbacks=[rec_tptn])\n",
    "\n",
    "# Collect results\n",
    "train_loss = model.history.history[\"loss\"]\n",
    "valid_loss = model.history.history[\"val_loss\"]\n",
    "train_acc = model.history.history[\"accuracy\"]\n",
    "valid_acc = model.history.history[\"val_accuracy\"]\n",
    "\n",
    "valid_tp = model.history.history['val_tp']\n",
    "valid_tn = model.history.history['val_tn']"
   ]
  },
  {
   "cell_type": "code",
   "execution_count": 30,
   "metadata": {},
   "outputs": [
    {
     "data": {
      "image/png": "[encoded data removed]",
      "text/plain": [
       "<Figure size 432x288 with 1 Axes>"
      ]
     },
     "metadata": {
      "needs_background": "light"
     },
     "output_type": "display_data"
    },
    {
     "data": {
      "image/png": "[encoded data removed]",
      "text/plain": [
       "<Figure size 432x288 with 1 Axes>"
      ]
     },
     "metadata": {
      "needs_background": "light"
     },
     "output_type": "display_data"
    },
    {
     "data": {
      "image/png": "[encoded data removed]",
      "text/plain": [
       "<Figure size 432x288 with 1 Axes>"
      ]
     },
     "metadata": {
      "needs_background": "light"
     },
     "output_type": "display_data"
    }
   ],
   "source": [
    "import matplotlib.pyplot as plt\n",
    "%matplotlib inline\n",
    "\n",
    "plt.plot(range(len(train_loss)), train_loss, label=\"train loss\")\n",
    "plt.plot(range(len(valid_loss)), valid_loss, label=\"valid loss\")\n",
    "plt.legend()\n",
    "plt.title(\"Loss\")\n",
    "plt.show()\n",
    "\n",
    "plt.plot(range(len(train_acc)), train_acc, label=\"train accuracy\")\n",
    "plt.plot(range(len(valid_acc)), valid_acc, label=\"valid accuracy\")\n",
    "plt.legend()\n",
    "plt.title(\"Accuracy\")\n",
    "plt.show()\n",
    "\n",
    "plt.plot(range(len(valid_tp)), valid_tp, label=\"valid tp\", color=\"navy\")\n",
    "plt.plot(range(len(valid_tn)), valid_tn, label=\"valid tn\", color=\"red\")\n",
    "plt.legend()\n",
    "plt.title(\"True positives and True Negatives\")\n",
    "plt.show()\n"
   ]
  },
  {
   "cell_type": "code",
   "execution_count": null,
   "metadata": {},
   "outputs": [],
   "source": []
  }
 ],
 "metadata": {
  "kernelspec": {
   "display_name": "Python 3",
   "language": "python",
   "name": "python3"
  },
  "language_info": {
   "codemirror_mode": {
    "name": "ipython",
    "version": 3
   },
   "file_extension": ".py",
   "mimetype": "text/x-python",
   "name": "python",
   "nbconvert_exporter": "python",
   "pygments_lexer": "ipython3",
   "version": "3.7.7"
  }
 },
 "nbformat": 4,
 "nbformat_minor": 2
}
